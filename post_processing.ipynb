{
 "cells": [
  {
   "cell_type": "code",
   "execution_count": 129,
   "id": "cbe150f4-06fc-4875-a37e-6de2360152cf",
   "metadata": {},
   "outputs": [],
   "source": [
    "from itertools import combinations\n",
    "import numpy as np\n",
    "from scipy.stats import rankdata, kendalltau"
   ]
  },
  {
   "cell_type": "code",
   "execution_count": 2,
   "id": "6e48bcac-98b3-4ff2-a664-9fe25cfe2f6f",
   "metadata": {},
   "outputs": [],
   "source": [
    "class graph:\n",
    "    def __init__(self, value):\n",
    "        self.y = value"
   ]
  },
  {
   "cell_type": "code",
   "execution_count": 8,
   "id": "d32ed1a6-ebd2-4f72-91fe-8be513276540",
   "metadata": {},
   "outputs": [],
   "source": [
    "def sample_preference_pairs(graphs):\n",
    "    c = [(a, b, check_util(graphs, a,b)) for a, b in combinations(range(len(graphs)), 2)]\n",
    "    return np.array(c)\n",
    "\n",
    "def check_util(data, index_a, index_b):\n",
    "    a = data[index_a]\n",
    "    b = data[index_b]\n",
    "    util_a = a.y\n",
    "    util_b = b.y\n",
    "    if util_a >= util_b:\n",
    "        return 1\n",
    "    else:\n",
    "        return 0"
   ]
  },
  {
   "cell_type": "code",
   "execution_count": 7,
   "id": "39515410-6bfb-48a7-bd6b-28e00578d69c",
   "metadata": {},
   "outputs": [],
   "source": [
    "g1 = graph(2.7)\n",
    "g2 = graph(3.1)\n",
    "g3 = graph(2.6)\n",
    "g4 = graph(5.4)\n",
    "g5 = graph(-1.3)\n",
    "graphs = [g1,g2,g3,g4,g5]"
   ]
  },
  {
   "cell_type": "code",
   "execution_count": 25,
   "id": "ab903ab9-8429-4613-8b6d-c8d7b665d020",
   "metadata": {},
   "outputs": [],
   "source": [
    "prefs = sample_preference_pairs(graphs)"
   ]
  },
  {
   "cell_type": "code",
   "execution_count": 180,
   "id": "5fdf1e21-cddd-47bb-951e-d432be693a4b",
   "metadata": {},
   "outputs": [
    {
     "data": {
      "text/plain": [
       "array([[0, 1, 0],\n",
       "       [0, 2, 1],\n",
       "       [0, 3, 0],\n",
       "       [0, 4, 1],\n",
       "       [1, 2, 1],\n",
       "       [1, 3, 0],\n",
       "       [1, 4, 1],\n",
       "       [2, 3, 0],\n",
       "       [2, 4, 1],\n",
       "       [3, 4, 1]])"
      ]
     },
     "execution_count": 180,
     "metadata": {},
     "output_type": "execute_result"
    }
   ],
   "source": [
    "prefs"
   ]
  },
  {
   "cell_type": "code",
   "execution_count": 16,
   "id": "acfc68e7-0c0f-4254-b7a5-18f3550b0f7f",
   "metadata": {},
   "outputs": [
    {
     "data": {
      "text/plain": [
       "array([3., 4., 2., 5., 1.])"
      ]
     },
     "execution_count": 16,
     "metadata": {},
     "output_type": "execute_result"
    }
   ],
   "source": [
    "pre_ranking = rankdata([g.y for g in graphs])\n",
    "pre_ranking"
   ]
  },
  {
   "cell_type": "code",
   "execution_count": 151,
   "id": "4c2bfbf6-1f94-4a0f-87ca-44f0d2e7b32b",
   "metadata": {},
   "outputs": [
    {
     "name": "stdout",
     "output_type": "stream",
     "text": [
      "[[1 0]\n",
      " [0 2]\n",
      " [3 0]\n",
      " [0 4]\n",
      " [1 2]\n",
      " [3 1]\n",
      " [1 4]\n",
      " [3 2]\n",
      " [2 4]\n",
      " [3 4]]\n"
     ]
    }
   ],
   "source": [
    "import numpy as np\n",
    "\n",
    "# Define the array\n",
    "arr = np.array([\n",
    "    [0, 1, 0],\n",
    "    [0, 2, 1],\n",
    "    [0, 3, 0],\n",
    "    [0, 4, 1],\n",
    "    [1, 2, 1],\n",
    "    [1, 3, 0],\n",
    "    [1, 4, 1],\n",
    "    [2, 3, 0],\n",
    "    [2, 4, 1],\n",
    "    [3, 4, 1]\n",
    "])\n",
    "\n",
    "# Create a mask for rows where the last element is 0\n",
    "mask = arr[:, 2] == 0\n",
    "\n",
    "# Switch the first and second indices for rows where the mask is True\n",
    "arr[mask] = arr[mask][:, [1, 0, 2]]\n",
    "\n",
    "# Remove the last index\n",
    "arr = arr[:, :2]\n",
    "\n",
    "print(arr)"
   ]
  },
  {
   "cell_type": "code",
   "execution_count": 178,
   "id": "d23e0eb1-ddc4-4f39-9703-696eca7337fb",
   "metadata": {},
   "outputs": [
    {
     "data": {
      "text/plain": [
       "array([[0, 1, 0],\n",
       "       [0, 2, 1],\n",
       "       [0, 3, 0],\n",
       "       [0, 4, 1],\n",
       "       [1, 2, 1],\n",
       "       [1, 3, 0],\n",
       "       [1, 4, 1],\n",
       "       [2, 3, 0],\n",
       "       [2, 4, 1],\n",
       "       [3, 4, 1]])"
      ]
     },
     "execution_count": 178,
     "metadata": {},
     "output_type": "execute_result"
    }
   ],
   "source": [
    "prefs"
   ]
  },
  {
   "cell_type": "code",
   "execution_count": 181,
   "id": "bd476b2a-73ff-43f4-8643-61927356e60b",
   "metadata": {},
   "outputs": [
    {
     "name": "stdout",
     "output_type": "stream",
     "text": [
      "[[1 0]\n",
      " [0 2]\n",
      " [3 0]\n",
      " [0 4]\n",
      " [1 2]\n",
      " [3 1]\n",
      " [1 4]\n",
      " [3 2]\n",
      " [2 4]\n",
      " [3 4]]\n"
     ]
    }
   ],
   "source": [
    "def preprocess_predictions(arr):\n",
    "    # Create a mask for rows where the last element is 0\n",
    "    mask = arr[:, 2] == 0\n",
    "    # Switch the first and second indices for rows where the mask is True\n",
    "    arr[mask] = arr[mask][:, [1, 0, 2]]\n",
    "    # Remove the last index\n",
    "    arr = arr[:, :2]\n",
    "    return arr\n",
    "\n",
    "# Example usage\n",
    "arr = np.array([\n",
    "    [0, 1, 0],\n",
    "    [0, 2, 1],\n",
    "    [0, 3, 0],\n",
    "    [0, 4, 1],\n",
    "    [1, 2, 1],\n",
    "    [1, 3, 0],\n",
    "    [1, 4, 1],\n",
    "    [2, 3, 0],\n",
    "    [2, 4, 1],\n",
    "    [3, 4, 1]\n",
    "])\n",
    "\n",
    "# Call the function to ensure the array is reset each time\n",
    "result = preprocess_predictions(arr.copy())\n",
    "print(result)"
   ]
  },
  {
   "cell_type": "code",
   "execution_count": 199,
   "id": "b02f5e91-29cc-4c85-b740-3da6412faa42",
   "metadata": {},
   "outputs": [],
   "source": [
    "def retrieve_preference_counts_from_predictions(arr, max_range):\n",
    "    first_index_elements = arr[:, 0]\n",
    "\n",
    "    # Extract the first column\n",
    "    first_index_elements = arr[:, 0]\n",
    "    \n",
    "    # Define the range of possible numbers (assuming 0 to 3 for this example)\n",
    "    possible_numbers = range(max_range)\n",
    "    \n",
    "    # Initialize the dictionary with all possible numbers\n",
    "    element_counts = {num: 0 for num in possible_numbers}\n",
    "    print(element_counts)\n",
    "    \n",
    "    # Count the occurrences of each element in the first index\n",
    "    unique_elements, counts = np.unique(first_index_elements, return_counts=True)\n",
    "    \n",
    "    # Update the dictionary with the actual counts\n",
    "    element_counts.update(dict(zip(unique_elements, counts)))\n",
    "    \n",
    "    return element_counts"
   ]
  },
  {
   "cell_type": "code",
   "execution_count": 216,
   "id": "589498c0-91ce-42f8-80cf-1c829309eb56",
   "metadata": {},
   "outputs": [
    {
     "name": "stdout",
     "output_type": "stream",
     "text": [
      "{0: 0, 1: 0, 2: 0, 3: 0, 4: 0}\n"
     ]
    }
   ],
   "source": [
    "res = retrieve_preference_counts_from_predictions(result, 5)"
   ]
  },
  {
   "cell_type": "code",
   "execution_count": 217,
   "id": "4830275c-c680-44ed-91de-041438614b7b",
   "metadata": {},
   "outputs": [
    {
     "data": {
      "text/plain": [
       "{0: 2, 1: 3, 2: 1, 3: 4, 4: 0}"
      ]
     },
     "execution_count": 217,
     "metadata": {},
     "output_type": "execute_result"
    }
   ],
   "source": [
    "res"
   ]
  },
  {
   "cell_type": "code",
   "execution_count": 225,
   "id": "6f6ff869-8d9c-4bec-8275-4498353d46d7",
   "metadata": {},
   "outputs": [],
   "source": [
    "post_ranking = rankdata(list(res.values()))"
   ]
  },
  {
   "cell_type": "code",
   "execution_count": null,
   "id": "a78d31eb-1c82-4021-92d0-f01af04a8261",
   "metadata": {},
   "outputs": [],
   "source": []
  },
  {
   "cell_type": "code",
   "execution_count": 226,
   "id": "c587cfe5-d079-4d02-965a-70e4a7538c6a",
   "metadata": {},
   "outputs": [
    {
     "data": {
      "text/plain": [
       "array([3., 4., 2., 5., 1.])"
      ]
     },
     "execution_count": 226,
     "metadata": {},
     "output_type": "execute_result"
    }
   ],
   "source": [
    "post_ranking"
   ]
  },
  {
   "cell_type": "code",
   "execution_count": 224,
   "id": "f65ed180-9b35-4748-b4d4-85d93d0137af",
   "metadata": {},
   "outputs": [
    {
     "data": {
      "text/plain": [
       "array([3., 4., 2., 5., 1.])"
      ]
     },
     "execution_count": 224,
     "metadata": {},
     "output_type": "execute_result"
    }
   ],
   "source": [
    "pre_ranking"
   ]
  },
  {
   "cell_type": "code",
   "execution_count": 227,
   "id": "a9824593-0886-4133-9128-b4509c16637d",
   "metadata": {},
   "outputs": [
    {
     "data": {
      "text/plain": [
       "SignificanceResult(statistic=0.9999999999999999, pvalue=0.016666666666666666)"
      ]
     },
     "execution_count": 227,
     "metadata": {},
     "output_type": "execute_result"
    }
   ],
   "source": [
    "kendalltau(pre_ranking, post_ranking)"
   ]
  },
  {
   "cell_type": "code",
   "execution_count": null,
   "id": "9bff4ee9-b516-4750-b9c2-f6b284e39855",
   "metadata": {},
   "outputs": [],
   "source": []
  }
 ],
 "metadata": {
  "kernelspec": {
   "display_name": "Python 3 (ipykernel)",
   "language": "python",
   "name": "python3"
  },
  "language_info": {
   "codemirror_mode": {
    "name": "ipython",
    "version": 3
   },
   "file_extension": ".py",
   "mimetype": "text/x-python",
   "name": "python",
   "nbconvert_exporter": "python",
   "pygments_lexer": "ipython3",
   "version": "3.8.20"
  }
 },
 "nbformat": 4,
 "nbformat_minor": 5
}
