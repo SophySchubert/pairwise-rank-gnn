{
 "cells": [
  {
   "cell_type": "code",
   "execution_count": 4,
   "id": "8445d7f0",
   "metadata": {},
   "outputs": [
    {
     "name": "stderr",
     "output_type": "stream",
     "text": [
      "/Users/sophia.schubert/miniconda3/envs/experiment/lib/python3.6/site-packages/tqdm/auto.py:22: TqdmWarning: IProgress not found. Please update jupyter and ipywidgets. See https://ipywidgets.readthedocs.io/en/stable/user_install.html\n",
      "  from .autonotebook import tqdm as notebook_tqdm\n"
     ]
    }
   ],
   "source": [
    "#import spektral\n",
    "import numpy as np\n",
    "import tensorflow as tf\n",
    "from ogb.graphproppred import GraphPropPredDataset\n",
    "from spektral.data import Dataset, Graph\n",
    "#from spektral.datasets import TUDataset, QM9\n",
    "import sys\n",
    "import time\n",
    "import shutil\n",
    "import numpy as np\n",
    "import tensorflow as tf\n",
    "import pandas as pd\n",
    "import spektral\n",
    "from matplotlib import pyplot as plt\n",
    "from scipy.stats import kendalltau\n",
    "from tensorflow.keras.optimizers import Adam\n",
    "from keras.losses import BinaryCrossentropy, MeanSquaredError\n",
    "from keras.metrics import BinaryAccuracy"
   ]
  },
  {
   "cell_type": "code",
   "execution_count": 5,
   "id": "f6158171",
   "metadata": {},
   "outputs": [],
   "source": [
    "config = {\n",
    "    'seed': 1,\n",
    "    'epochs': 10,\n",
    "    'batch_size': 32,\n",
    "    'learning_rate': 0.001,\n",
    "    'dataset': 'ogbg-molesol', #JA: QM9, ogbg-molesol, ogbg-molfreesolv, ogbg-mollipo, ZINC| NEIN: aspirin\n",
    "    'train_test_split': 0.8\n",
    "}\n",
    "\n",
    "np.random.seed(config['seed'])\n",
    "tf.random.set_seed(config['seed'])"
   ]
  },
  {
   "cell_type": "code",
   "execution_count": 6,
   "id": "d9cd1aa1",
   "metadata": {},
   "outputs": [],
   "source": [
    "class OGBDataset(Dataset):\n",
    "    '''\n",
    "    (spektral) Dataset class wrapper for Open Graph Benchmark datasets.\n",
    "    '''\n",
    "    def __init__(self, name, **kwargs):\n",
    "        self.name = name\n",
    "        super().__init__(**kwargs)\n",
    "\n",
    "    def read(self):\n",
    "        dataset = GraphPropPredDataset(name=self.name)\n",
    "        graphs = []\n",
    "        for data in dataset:\n",
    "            edge_index = data[0]['edge_index']\n",
    "            edge_feat = data[0]['edge_feat']\n",
    "            node_feat = data[0]['node_feat']\n",
    "            label = data[1]\n",
    "\n",
    "            # Create adjacency matrix\n",
    "            num_nodes = node_feat.shape[0]\n",
    "            adj = np.zeros((num_nodes, num_nodes))\n",
    "            for edge in edge_index.T:\n",
    "                adj[edge[0], edge[1]] = 1\n",
    "\n",
    "            # Create spektral Graph object\n",
    "            graphs.append(Graph(x=node_feat, a=adj, e=edge_feat, y=label))\n",
    "            \n",
    "        self.size = len(graphs)\n",
    "\n",
    "        return graphs\n",
    "\n",
    "def ogb_available_datasets():\n",
    "    #These regression datasets have size % 2 == 0 number of graphs\n",
    "    return ['ogbg-molesol', 'ogbg-molfreesolv', 'ogbg-mollipo']"
   ]
  },
  {
   "cell_type": "code",
   "execution_count": 7,
   "id": "d5122967",
   "metadata": {},
   "outputs": [],
   "source": [
    "def _load_data(name: str):\n",
    "    '''\n",
    "    Loads a dataset from [TUDataset, OGB]\n",
    "    '''\n",
    "    if name in ogb_available_datasets():\n",
    "        dataset= OGBDataset(name)\n",
    "    else:\n",
    "        raise ValueError(f'Dataset {name} unknown')\n",
    "\n",
    "    return dataset, dataset.n_labels"
   ]
  },
  {
   "cell_type": "code",
   "execution_count": 8,
   "id": "313cc5f4",
   "metadata": {},
   "outputs": [],
   "source": [
    "def _split_data(data, train_test_split, seed):\n",
    "    '''\n",
    "    Split the data into train and test sets\n",
    "    '''\n",
    "    np.random.seed(seed)\n",
    "    idxs = np.random.permutation(len(data))\n",
    "    split = int(train_test_split * len(data))\n",
    "    idx_train, idx_test = np.split(idxs, [split])\n",
    "    train, test = data[idx_train], data[idx_test]\n",
    "    train.size = len(train)\n",
    "    test.size = len(test)\n",
    "    return train, test"
   ]
  },
  {
   "cell_type": "code",
   "execution_count": 9,
   "id": "1bd00116",
   "metadata": {},
   "outputs": [],
   "source": [
    "def get_data(config):\n",
    "    seed = config['seed']\n",
    "    train_test_split = config['train_test_split']\n",
    "    name = config['dataset']\n",
    "\n",
    "    # Load data\n",
    "    data, config['n_out'] = _load_data(name)\n",
    "    # Split data\n",
    "    train_data, test_data = _split_data(data, train_test_split, seed)\n",
    "\n",
    "    return train_data, test_data"
   ]
  },
  {
   "cell_type": "code",
   "execution_count": 10,
   "id": "10d4a358",
   "metadata": {},
   "outputs": [],
   "source": [
    "dataset_train, dataset_test = get_data(config)"
   ]
  },
  {
   "cell_type": "code",
   "execution_count": 11,
   "id": "93e3a2b6",
   "metadata": {},
   "outputs": [
    {
     "data": {
      "text/plain": [
       "(902, 226)"
      ]
     },
     "execution_count": 11,
     "metadata": {},
     "output_type": "execute_result"
    }
   ],
   "source": [
    "len(dataset_train), len(dataset_test)"
   ]
  },
  {
   "cell_type": "code",
   "execution_count": 12,
   "id": "1366fa9b",
   "metadata": {},
   "outputs": [
    {
     "data": {
      "text/plain": [
       "OGBDataset(n_graphs=902)"
      ]
     },
     "execution_count": 12,
     "metadata": {},
     "output_type": "execute_result"
    }
   ],
   "source": [
    "dataset_train"
   ]
  },
  {
   "cell_type": "code",
   "execution_count": 13,
   "id": "f074d941",
   "metadata": {},
   "outputs": [],
   "source": [
    "def iterate_train_random(elements):\n",
    "    objects = elements\n",
    "    sort_idx = np.argsort(objects)\n",
    "    olen = objects.size\n",
    "    seed = 0 + olen\n",
    "    pair_count = (olen * (olen - 1)) // 2\n",
    "    sample_size = min(int(20 * pair_count), pair_count)\n",
    "    rng = np.random.default_rng(seed)\n",
    "\n",
    "    sample = rng.choice(pair_count, sample_size, replace=False)\n",
    "    sample_b = (np.sqrt(sample * 2 + 1/4) + 1/2).astype(np.int)\n",
    "    sample_a = sample - (sample_b * (sample_b - 1)) // 2\n",
    "    idx_a = sort_idx[sample_a]\n",
    "    idx_b = sort_idx[sample_b]\n",
    "\n",
    "    return idx_a, idx_b"
   ]
  },
  {
   "cell_type": "code",
   "execution_count": 14,
   "id": "884d26b8",
   "metadata": {},
   "outputs": [],
   "source": [
    "index=5\n",
    "indices=np.arange(len(dataset_test))\n",
    "indices=np.array(indices[index*32:(index+1)*32])\n",
    "i_a, i_b = iterate_train_random(indices)"
   ]
  },
  {
   "cell_type": "code",
   "execution_count": 15,
   "id": "4e6f6ff7",
   "metadata": {},
   "outputs": [
    {
     "data": {
      "text/plain": [
       "(496, 496)"
      ]
     },
     "execution_count": 15,
     "metadata": {},
     "output_type": "execute_result"
    }
   ],
   "source": [
    "len(i_a),len(i_b)"
   ]
  },
  {
   "cell_type": "code",
   "execution_count": 16,
   "id": "e22b9800",
   "metadata": {},
   "outputs": [],
   "source": [
    "def get_target(data, indices_a, indices_b):\n",
    "    assert(len(indices_a)==len(indices_b))\n",
    "    a = data[indices_a]\n",
    "    b = data[indices_b]\n",
    "    t = []\n",
    "    for i in range(len(indices_a)):\n",
    "        u_a = a[i].y\n",
    "        u_b = b[i].y\n",
    "        if u_a >= u_b:\n",
    "            t.append(1)\n",
    "        else:\n",
    "            t.append(0)\n",
    "    return np.array(t)"
   ]
  },
  {
   "cell_type": "code",
   "execution_count": 17,
   "id": "27b47d7c",
   "metadata": {},
   "outputs": [],
   "source": [
    "ta = get_target(dataset_test, i_a, i_b)"
   ]
  },
  {
   "cell_type": "code",
   "execution_count": 18,
   "id": "80b5ecd6",
   "metadata": {},
   "outputs": [
    {
     "data": {
      "text/plain": [
       "(0, 16)"
      ]
     },
     "execution_count": 18,
     "metadata": {},
     "output_type": "execute_result"
    }
   ],
   "source": [
    "i_a[0], i_b[0]"
   ]
  },
  {
   "cell_type": "code",
   "execution_count": 19,
   "id": "2a5ff1f9",
   "metadata": {},
   "outputs": [
    {
     "data": {
      "text/plain": [
       "(array([-2.55]), array([-1.03]))"
      ]
     },
     "execution_count": 19,
     "metadata": {},
     "output_type": "execute_result"
    }
   ],
   "source": [
    "dataset_test[i_a[0]].y, dataset_test[i_b[0]].y"
   ]
  },
  {
   "cell_type": "code",
   "execution_count": 20,
   "id": "9cc2a541",
   "metadata": {},
   "outputs": [
    {
     "data": {
      "text/plain": [
       "(array([-0.96]), array([-3.499]))"
      ]
     },
     "execution_count": 20,
     "metadata": {},
     "output_type": "execute_result"
    }
   ],
   "source": [
    "dataset_test[i_a[1]].y, dataset_test[i_b[1]].y"
   ]
  },
  {
   "cell_type": "code",
   "execution_count": 21,
   "id": "903f76ee",
   "metadata": {},
   "outputs": [
    {
     "data": {
      "text/plain": [
       "(496,\n",
       " array([0, 1, 1, 0, 1, 1, 0, 1, 1, 0, 1, 1, 1, 0, 1, 0, 0, 1, 0, 1, 1, 0,\n",
       "        1, 1, 1, 1, 1, 1, 0, 0, 0, 1, 1, 1, 1, 0, 0, 0, 0, 0, 1, 1, 1, 1,\n",
       "        1, 1, 1, 1, 0, 1, 0, 1, 0, 0, 1, 0, 1, 0, 1, 0, 1, 1, 1, 0, 1, 1,\n",
       "        1, 1, 0, 1, 1, 0, 0, 0, 0, 0, 0, 1, 1, 0, 1, 0, 0, 0, 0, 1, 1, 1,\n",
       "        1, 1, 1, 0, 1, 1, 0, 1, 1, 1, 1, 0, 0, 1, 1, 1, 1, 1, 0, 1, 1, 0,\n",
       "        1, 1, 1, 1, 0, 0, 1, 1, 0, 0, 1, 1, 0, 1, 0, 0, 1, 1, 0, 0, 0, 1,\n",
       "        0, 0, 0, 1, 1, 0, 1, 0, 1, 1, 1, 1, 1, 1, 1, 1, 1, 0, 1, 1, 0, 1,\n",
       "        1, 0, 1, 1, 1, 0, 0, 1, 0, 1, 1, 0, 0, 0, 0, 1, 1, 0, 0, 1, 1, 0,\n",
       "        1, 1, 1, 1, 1, 0, 0, 0, 0, 0, 0, 1, 1, 0, 0, 0, 0, 0, 1, 1, 0, 1,\n",
       "        1, 0, 0, 1, 0, 1, 1, 1, 1, 1, 0, 1, 1, 1, 1, 0, 0, 1, 1, 1, 0, 1,\n",
       "        0, 0, 0, 1, 0, 0, 1, 1, 0, 1, 1, 0, 1, 1, 1, 1, 1, 1, 0, 0, 0, 0,\n",
       "        1, 1, 1, 0, 1, 0, 1, 1, 0, 1, 0, 1, 0, 1, 1, 1, 0, 0, 1, 0, 1, 1,\n",
       "        1, 1, 1, 1, 1, 0, 1, 0, 0, 1, 1, 1, 0, 1, 1, 1, 1, 1, 1, 1, 1, 1,\n",
       "        0, 0, 1, 1, 0, 0, 1, 1, 0, 1, 1, 0, 0, 1, 1, 0, 1, 0, 0, 1, 0, 1,\n",
       "        1, 1, 0, 1, 0, 1, 1, 1, 0, 1, 1, 1, 1, 1, 0, 0, 1, 0, 1, 0, 0, 1,\n",
       "        0, 1, 1, 0, 0, 1, 1, 1, 1, 0, 1, 1, 1, 1, 0, 1, 0, 1, 1, 1, 1, 1,\n",
       "        0, 1, 0, 0, 0, 1, 0, 1, 0, 0, 1, 1, 1, 1, 1, 1, 0, 0, 0, 1, 1, 0,\n",
       "        0, 1, 0, 1, 0, 1, 1, 1, 1, 1, 1, 1, 0, 0, 1, 1, 0, 1, 1, 1, 1, 0,\n",
       "        1, 0, 1, 1, 0, 1, 1, 1, 1, 1, 1, 0, 0, 1, 1, 1, 1, 1, 0, 0, 0, 0,\n",
       "        0, 1, 0, 1, 0, 0, 1, 1, 1, 1, 0, 1, 0, 1, 0, 1, 1, 1, 1, 0, 1, 1,\n",
       "        0, 1, 0, 0, 1, 0, 1, 0, 1, 1, 1, 1, 0, 1, 0, 1, 1, 1, 1, 0, 0, 0,\n",
       "        1, 1, 1, 0, 1, 0, 1, 1, 0, 1, 0, 1, 0, 1, 1, 1, 0, 0, 1, 0, 1, 0,\n",
       "        1, 1, 1, 0, 1, 0, 0, 1, 0, 1, 0, 1]))"
      ]
     },
     "execution_count": 21,
     "metadata": {},
     "output_type": "execute_result"
    }
   ],
   "source": [
    "len(ta),ta"
   ]
  },
  {
   "cell_type": "code",
   "execution_count": null,
   "id": "8d6a5bcf",
   "metadata": {},
   "outputs": [],
   "source": []
  },
  {
   "cell_type": "code",
   "execution_count": 280,
   "id": "d1492fa8",
   "metadata": {},
   "outputs": [],
   "source": [
    "import tensorflow as tf\n",
    "from spektral.data.utils import (\n",
    "    prepend_none,\n",
    "    sp_matrices_to_sp_tensors,\n",
    "    to_disjoint,\n",
    "    collate_labels_disjoint\n",
    ")\n",
    "\n",
    "class CustomDataLoader(tf.keras.utils.Sequence):\n",
    "    def __init__(self, data, batch_size=32, shuffle=True, seed=42, sampling_ratio=20):\n",
    "        self.data = data\n",
    "        self.batch_size = batch_size\n",
    "        self.shuffle = shuffle\n",
    "        self.seed = seed\n",
    "        self.sampling_ratio = sampling_ratio\n",
    "        self.indices = np.arange(len(self.data))\n",
    "        self.node_level = False\n",
    "        self.idx_a = []\n",
    "        self.idx_b = []\n",
    "        self.target = []\n",
    "        self.on_epoch_end()\n",
    "\n",
    "    def __len__(self):\n",
    "        return int(np.floor(len(self.data) / self.batch_size))\n",
    "\n",
    "    def __getitem__(self, index):\n",
    "        indices = np.array(self.indices[index*self.batch_size:(index+1)*self.batch_size])\n",
    "        self.idx_a, self.idx_b = self.iterate_train_random(indices)\n",
    "        batch_data = self.data[indices]\n",
    "        #disjointloader content start\n",
    "        packed = self.pack(batch_data)\n",
    "        y = packed.pop(\"y_list\", None)\n",
    "        if y is not None:\n",
    "            y = collate_labels_disjoint(y, node_level=self.node_level)\n",
    "        output = to_disjoint(**packed)\n",
    "        output = sp_matrices_to_sp_tensors(output)\n",
    "        #disjointloader content end\n",
    "        \n",
    "        # target berechnen für die pairs start\n",
    "        self.target = self.get_target(idx_a, idx_b)\n",
    "        # target berechnen für die pairs ende\n",
    "        \n",
    "        return output + (self.idx_a, self.idx_b), self.target #batch_data, batch_labels\n",
    "\n",
    "    def on_epoch_end(self):\n",
    "        if self.shuffle:\n",
    "            np.random.shuffle(self.indices)\n",
    "    \n",
    "    def iterate_train_random(self, elements):\n",
    "        objects = elements\n",
    "        sort_idx = np.argsort(objects)\n",
    "        olen = objects.size\n",
    "        seed = self.seed + olen\n",
    "        pair_count = (olen * (olen - 1)) // 2\n",
    "        sample_size = min(int(self.sampling_ratio * pair_count), pair_count)\n",
    "        rng = np.random.default_rng(seed)\n",
    "\n",
    "        sample = rng.choice(pair_count, sample_size, replace=False)\n",
    "        sample_b = (np.sqrt(sample * 2 + 1/4) + 1/2).astype(np.int)\n",
    "        sample_a = sample - (sample_b * (sample_b - 1)) // 2\n",
    "        idx_a = sort_idx[sample_a]\n",
    "        idx_b = sort_idx[sample_b]\n",
    "\n",
    "        return idx_a, idx_b\n",
    "    \n",
    "    def pack(self, batch):\n",
    "        \"\"\"\n",
    "        Given a batch of graphs, groups their attributes into separate lists and packs\n",
    "        them in a dictionary.\n",
    "\n",
    "        For instance, if a batch has three graphs g1, g2 and g3 with node\n",
    "        features (x1, x2, x3) and adjacency matrices (a1, a2, a3), this method\n",
    "        will return a dictionary:\n",
    "\n",
    "        ```python\n",
    "        >>> {'a_list': [a1, a2, a3], 'x_list': [x1, x2, x3]}\n",
    "        ```\n",
    "\n",
    "        :param batch: a list of `Graph` objects.\n",
    "        \"\"\"\n",
    "        output = [list(elem) for elem in zip(*[g.numpy() for g in batch])]\n",
    "        keys = [k + \"_list\" for k in self.data.signature.keys()]\n",
    "        return dict(zip(keys, output))\n",
    "    \n",
    "    def get_target(self, indices_a, indices_b):\n",
    "        assert(len(indices_a)==len(indices_b))\n",
    "        a = self.data[indices_a.flatten()]\n",
    "        b = self.data[indices_b.flatten()]\n",
    "        t = []\n",
    "        for i in range(len(indices_a)):\n",
    "            util_a = a[i].y\n",
    "            util_b = b[i].y\n",
    "            if util_a >= util_b:\n",
    "                t.append(1)\n",
    "            else:\n",
    "                t.append(0)\n",
    "        return np.array(t)\n",
    "    \n",
    "    def info(self):\n",
    "        print(f\"idx_a:{self.idx_a}\")\n",
    "        print(f\"idx_b:{self.idx_b}\")\n",
    "        print(f\"target:{self.target}\")"
   ]
  },
  {
   "cell_type": "code",
   "execution_count": 290,
   "id": "3a527e43",
   "metadata": {},
   "outputs": [],
   "source": [
    "data = dataset_test\n",
    "batch_size = 32\n",
    "shuffle = True\n",
    "sseed = 42123\n",
    "sampling_ratio = 20\n",
    "indices = np.arange(len(data))\n",
    "node_level = False\n",
    "index=1"
   ]
  },
  {
   "cell_type": "code",
   "execution_count": 369,
   "id": "c5b2eed6",
   "metadata": {},
   "outputs": [
    {
     "data": {
      "text/plain": [
       "226"
      ]
     },
     "execution_count": 369,
     "metadata": {},
     "output_type": "execute_result"
    }
   ],
   "source": [
    "len(data)"
   ]
  },
  {
   "cell_type": "code",
   "execution_count": 291,
   "id": "0136314a",
   "metadata": {},
   "outputs": [],
   "source": [
    "####### Aufbau A #######\n",
    "# erst Indizes auswählen -> Paare anhand Indizes -> Daten+Target"
   ]
  },
  {
   "cell_type": "code",
   "execution_count": 292,
   "id": "18abdba3",
   "metadata": {},
   "outputs": [],
   "source": [
    "def iterate_train_random(elements):\n",
    "    objects = elements\n",
    "    sort_idx = np.argsort(objects)\n",
    "    olen = objects.size\n",
    "    seed = sseed + olen\n",
    "    pair_count = (olen * (olen - 1)) // 2\n",
    "    sample_size = min(int(sampling_ratio * pair_count), pair_count)\n",
    "    rng = np.random.default_rng(seed)\n",
    "\n",
    "    sample = rng.choice(pair_count, sample_size, replace=False)\n",
    "    sample_b = (np.sqrt(sample * 2 + 1/4) + 1/2).astype(np.int)\n",
    "    sample_a = sample - (sample_b * (sample_b - 1)) // 2\n",
    "    idx_a = sort_idx[sample_a]\n",
    "    idx_b = sort_idx[sample_b]\n",
    "\n",
    "    return idx_a, idx_b"
   ]
  },
  {
   "cell_type": "code",
   "execution_count": 293,
   "id": "ee605136",
   "metadata": {},
   "outputs": [],
   "source": [
    "indices = np.array(indices[index*batch_size:(index+1)*batch_size])\n",
    "idx_a, idx_b = iterate_train_random(indices)\n",
    "batch_data = data[indices]"
   ]
  },
  {
   "cell_type": "code",
   "execution_count": 295,
   "id": "66037568",
   "metadata": {},
   "outputs": [
    {
     "data": {
      "text/plain": [
       "array([32, 33, 34, 35, 36, 37, 38, 39, 40, 41, 42, 43, 44, 45, 46, 47, 48,\n",
       "       49, 50, 51, 52, 53, 54, 55, 56, 57, 58, 59, 60, 61, 62, 63])"
      ]
     },
     "execution_count": 295,
     "metadata": {},
     "output_type": "execute_result"
    }
   ],
   "source": [
    "indices"
   ]
  },
  {
   "cell_type": "code",
   "execution_count": 319,
   "id": "00e1808e",
   "metadata": {},
   "outputs": [
    {
     "data": {
      "text/plain": [
       "(496,)"
      ]
     },
     "execution_count": 319,
     "metadata": {},
     "output_type": "execute_result"
    }
   ],
   "source": [
    "idx_a.shape"
   ]
  },
  {
   "cell_type": "code",
   "execution_count": 294,
   "id": "173e6f30",
   "metadata": {},
   "outputs": [
    {
     "data": {
      "text/plain": [
       "(array([ 4, 20,  8,  4,  2, 24,  3, 14,  5,  8,  2, 17, 12, 13,  0,  5,  2,\n",
       "        22, 15,  8,  0, 21,  5,  9,  7, 10, 23, 16, 21, 15,  9,  3,  1, 16,\n",
       "         1, 21, 13, 21,  9, 18,  8, 12, 20,  9,  8,  9,  5, 14,  7, 19,  9,\n",
       "         6,  7, 11, 27, 10, 10,  4, 16, 26, 19, 17,  2, 16,  6, 19,  0,  2,\n",
       "         4,  3,  0, 10,  6, 15, 11, 22, 17,  6, 15, 14,  0,  7, 13, 11,  3,\n",
       "         5,  3,  7,  0, 26, 15,  5,  6, 10,  0,  1,  1,  6,  5, 12, 17, 24,\n",
       "         0,  8, 12, 14, 13,  0, 11,  4,  1, 25,  2,  0,  8,  8, 12,  0,  8,\n",
       "         1,  1, 22,  1, 18,  7, 17,  3, 14,  3,  4, 12,  7,  1,  1,  0,  4,\n",
       "        11,  1,  1, 24,  9, 10,  5, 23,  8, 13,  3,  7,  1,  8,  6, 13, 15,\n",
       "         9,  1, 17,  0,  4, 11,  9,  1,  2, 15,  0, 16,  0,  3,  0, 21,  6,\n",
       "         9, 12,  0, 16,  2, 10,  2,  9,  4,  1, 25,  3, 25,  2,  8, 27, 14,\n",
       "         5, 12,  0,  0,  3, 15, 16, 18,  5, 22, 24, 17,  2,  0,  4,  4,  4,\n",
       "        17,  6, 19, 11, 19,  7, 20, 12, 24,  2,  7,  9, 19,  4, 10,  6,  2,\n",
       "        14,  6, 10, 12, 13,  0, 19, 11,  3, 13,  5, 11,  5,  5, 11,  9, 15,\n",
       "         0, 11,  9,  1,  2,  7,  3,  2, 29,  2,  6, 19,  2, 27,  1, 24, 12,\n",
       "        14, 21,  1, 15, 15,  1, 22,  8,  4,  2,  5, 19, 17, 23, 28,  9,  8,\n",
       "        10, 23,  4,  2,  6,  5,  1,  7,  2, 14, 23, 20,  8, 14,  1,  8,  3,\n",
       "        11, 24,  6, 17, 13, 17,  9,  4, 18,  0, 19,  3, 10, 16, 10,  1, 18,\n",
       "        28,  8, 12,  5,  0, 13, 18, 11,  2, 13,  8,  4, 14, 11,  5,  3, 12,\n",
       "        23,  4, 16,  9,  5, 14,  8, 16,  3,  2,  8, 19, 11, 10,  4,  2, 26,\n",
       "        20,  3,  5, 20, 21, 14, 10,  7,  4,  0, 20,  2,  8, 13,  5, 30, 20,\n",
       "         0,  9, 11,  4, 14,  9,  3,  8,  4,  4,  9,  3,  6, 10, 18, 12, 22,\n",
       "         7,  6, 22,  9,  6, 15, 16, 16,  0,  5, 19, 10, 10, 11, 18, 12, 18,\n",
       "         2,  7,  2, 20, 26,  0, 12, 21, 13,  7,  1, 21, 10, 11,  4,  1,  1,\n",
       "         5, 26,  2,  7,  3, 14,  4,  1, 11, 15, 17, 18,  2, 20, 15, 12, 10,\n",
       "        17,  1, 20,  3, 22, 21,  7,  7,  8,  6,  4, 25,  7, 29, 16,  3,  3,\n",
       "        15,  7,  3,  2,  1,  5,  7,  6,  6, 22,  5,  0,  3, 13,  6, 18,  1,\n",
       "         0,  4,  6,  6,  7, 10, 11,  7,  3, 18, 15, 23, 10, 17, 18,  0, 25,\n",
       "        14,  6, 16,  6, 13, 28, 13,  9, 25, 12,  3, 13, 23, 14, 13,  5, 16,\n",
       "        27,  5, 12]),\n",
       " array([ 5, 22, 30, 21,  7, 26, 14, 22, 19, 18, 25, 20, 29, 25, 14, 16,  4,\n",
       "        25, 29, 31,  6, 27, 12, 16,  9, 31, 24, 24, 31, 17, 11, 12, 28, 27,\n",
       "        21, 26, 23, 23, 23, 30, 20, 17, 25, 10, 26, 31, 31, 16, 10, 25, 17,\n",
       "        18, 15, 29, 31, 18, 25, 31, 23, 27, 24, 24, 21, 18, 26, 29, 11,  6,\n",
       "        11,  5, 28, 30, 25, 23, 31, 26, 18, 22, 28, 31,  8, 26, 17, 30, 28,\n",
       "        13, 30, 18, 18, 30, 22, 30, 16, 16,  3, 25, 11, 17,  9, 30, 27, 29,\n",
       "         4, 21, 31, 29, 27, 22, 20, 25, 19, 26, 11, 21, 12, 15, 18, 23, 29,\n",
       "        16,  4, 30, 12, 23, 29, 26, 20, 20, 16, 27, 16, 16, 29, 22, 19, 16,\n",
       "        27, 18,  3, 27, 27, 13, 23, 28, 22, 30, 25, 23,  5, 10, 21, 15, 27,\n",
       "        22, 13, 28, 13, 29, 24, 18,  6, 18, 26, 26, 30,  2, 26,  5, 28,  9,\n",
       "        29, 27, 25, 28,  8, 21, 23, 30,  8, 24, 28, 21, 31,  9, 11, 29, 25,\n",
       "        24, 20, 30,  9, 13, 18, 17, 20,  6, 27, 31, 19, 30, 20, 28, 26, 10,\n",
       "        31, 11, 28, 25, 21, 19, 29, 22, 28, 27, 24, 13, 22, 24, 19, 28, 17,\n",
       "        27, 27, 24, 28, 14, 15, 20, 23, 11, 20, 18, 19, 14, 15, 12, 19, 16,\n",
       "         7, 22, 28, 17,  5, 11,  6, 20, 30, 19, 31, 31,  3, 30,  2, 25, 15,\n",
       "        26, 30, 23, 24, 21,  7, 24, 16, 12, 26, 25, 30, 23, 27, 29, 25, 19,\n",
       "        11, 30, 14, 31,  7, 26, 26, 28, 24, 15, 29, 26, 24, 18, 20, 27,  8,\n",
       "        21, 30, 29, 22, 31, 29, 12, 15, 31,  1, 23, 18, 20, 22, 17, 31, 29,\n",
       "        30, 14, 21, 11, 29, 26, 22, 28, 16, 21, 23,  9, 30, 15, 29, 27, 14,\n",
       "        26, 19, 19, 15, 22, 28, 13, 21, 19, 29,  9, 27, 26, 29,  7, 22, 28,\n",
       "        24, 23, 10, 23, 24, 17, 14, 30, 18, 24, 28, 13, 25, 24,  7, 31, 27,\n",
       "        31, 26, 16, 22, 21, 24, 15, 17, 17, 20, 14, 24, 10, 22, 28, 25, 29,\n",
       "        21, 12, 28, 20, 30, 25, 25, 31, 10,  8, 26, 15, 23, 18, 27, 26, 25,\n",
       "        28, 17, 10, 21, 29, 27, 19, 22, 16, 22, 30, 25, 28, 13, 23,  9, 27,\n",
       "        27, 31, 12, 13, 22, 23, 13, 15, 14, 30, 21, 21, 14, 31, 31, 13, 12,\n",
       "        25, 14, 30,  9, 31, 29,  8, 20, 28, 14, 30, 27, 31, 31, 20,  7, 31,\n",
       "        20, 12, 29, 15, 10, 17, 27, 23, 13, 23, 21, 12, 17, 28, 15, 26,  8,\n",
       "        16,  6, 20, 19, 25, 26, 17, 14,  4, 24, 19, 25, 27, 30, 19, 17, 30,\n",
       "        24, 24, 26,  8, 29, 31, 18, 21, 29, 24, 10, 19, 31, 19, 22, 28, 29,\n",
       "        28, 20, 23]))"
      ]
     },
     "execution_count": 294,
     "metadata": {},
     "output_type": "execute_result"
    }
   ],
   "source": [
    "idx_a, idx_b"
   ]
  },
  {
   "cell_type": "code",
   "execution_count": 438,
   "id": "faecc2d0",
   "metadata": {},
   "outputs": [
    {
     "data": {
      "text/plain": [
       "[(0, 31),\n",
       " (1, 30),\n",
       " (2, 29),\n",
       " (3, 28),\n",
       " (4, 27),\n",
       " (5, 26),\n",
       " (6, 25),\n",
       " (7, 24),\n",
       " (8, 23),\n",
       " (9, 22),\n",
       " (10, 21),\n",
       " (11, 20),\n",
       " (12, 19),\n",
       " (13, 18),\n",
       " (14, 17),\n",
       " (15, 16),\n",
       " (16, 15),\n",
       " (17, 14),\n",
       " (18, 13),\n",
       " (19, 12),\n",
       " (20, 11),\n",
       " (21, 10),\n",
       " (22, 9),\n",
       " (23, 8),\n",
       " (24, 7),\n",
       " (25, 6),\n",
       " (26, 5),\n",
       " (27, 4),\n",
       " (28, 3),\n",
       " (29, 2),\n",
       " (30, 1)]"
      ]
     },
     "execution_count": 438,
     "metadata": {},
     "output_type": "execute_result"
    }
   ],
   "source": [
    "Counter(idx_a).most_common()#, Counter(idx_b).most_common()"
   ]
  },
  {
   "cell_type": "code",
   "execution_count": 296,
   "id": "e2a2c954",
   "metadata": {},
   "outputs": [
    {
     "data": {
      "text/plain": [
       "OGBDataset(n_graphs=32)"
      ]
     },
     "execution_count": 296,
     "metadata": {},
     "output_type": "execute_result"
    }
   ],
   "source": [
    "batch_data"
   ]
  },
  {
   "cell_type": "code",
   "execution_count": 301,
   "id": "fe9d2cff",
   "metadata": {},
   "outputs": [],
   "source": [
    "def get_target(indices_a, indices_b):\n",
    "    assert(len(indices_a)==len(indices_b))\n",
    "    a = data[indices_a.flatten()]\n",
    "    b = data[indices_b.flatten()]\n",
    "    t = []\n",
    "    for i in range(len(indices_a)):\n",
    "        util_a = a[i].y\n",
    "        util_b = b[i].y\n",
    "        if util_a >= util_b:\n",
    "            t.append(1)\n",
    "        else:\n",
    "            t.append(0)\n",
    "    return np.array(t)"
   ]
  },
  {
   "cell_type": "code",
   "execution_count": 302,
   "id": "bc64b67a",
   "metadata": {},
   "outputs": [],
   "source": [
    "target = get_target(idx_a, idx_b)"
   ]
  },
  {
   "cell_type": "code",
   "execution_count": 336,
   "id": "e3d737c8",
   "metadata": {},
   "outputs": [
    {
     "data": {
      "text/plain": [
       "(300, 196)"
      ]
     },
     "execution_count": 336,
     "metadata": {},
     "output_type": "execute_result"
    }
   ],
   "source": [
    "list(target).count(1), list(target).count(0)"
   ]
  },
  {
   "cell_type": "code",
   "execution_count": 337,
   "id": "48a6cf9b",
   "metadata": {},
   "outputs": [
    {
     "data": {
      "text/plain": [
       "array([1, 1, 0, 1, 1, 0, 1, 1, 1, 0, 1, 1, 0, 0, 1, 0, 1, 0, 0, 0, 1, 0,\n",
       "       1, 1, 0, 0, 1, 1, 0, 0, 1, 1, 1, 1, 1, 0, 0, 0, 1, 1, 1, 0, 0, 1,\n",
       "       0, 1, 0, 0, 1, 0, 1, 1, 1, 1, 0, 0, 0, 0, 1, 1, 0, 1, 1, 1, 0, 0,\n",
       "       0, 1, 1, 1, 1, 0, 0, 0, 0, 0, 1, 1, 1, 0, 1, 1, 0, 1, 1, 1, 1, 1,\n",
       "       1, 1, 0, 1, 0, 0, 0, 1, 1, 0, 0, 0, 1, 1, 0, 1, 0, 0, 0, 1, 1, 1,\n",
       "       1, 0, 1, 1, 1, 1, 0, 1, 0, 1, 1, 0, 1, 0, 1, 1, 1, 1, 1, 1, 0, 0,\n",
       "       1, 1, 1, 0, 1, 1, 1, 1, 1, 0, 1, 1, 1, 0, 1, 1, 1, 1, 1, 1, 0, 1,\n",
       "       1, 1, 1, 1, 1, 1, 1, 1, 0, 0, 1, 0, 1, 0, 0, 0, 1, 0, 0, 1, 1, 1,\n",
       "       1, 1, 1, 1, 1, 1, 0, 0, 0, 0, 0, 1, 0, 1, 0, 1, 0, 0, 1, 1, 0, 0,\n",
       "       1, 1, 1, 1, 1, 1, 0, 0, 1, 1, 1, 1, 0, 1, 1, 1, 1, 1, 1, 1, 0, 1,\n",
       "       0, 0, 0, 0, 1, 0, 1, 1, 1, 1, 0, 1, 1, 1, 1, 1, 1, 0, 0, 1, 1, 1,\n",
       "       1, 1, 1, 1, 1, 1, 0, 0, 0, 1, 1, 0, 1, 0, 0, 1, 0, 1, 1, 0, 0, 1,\n",
       "       1, 1, 1, 1, 1, 0, 1, 0, 0, 1, 1, 0, 0, 1, 1, 1, 1, 1, 1, 0, 0, 1,\n",
       "       1, 0, 1, 1, 1, 0, 1, 0, 1, 1, 1, 0, 0, 0, 1, 0, 1, 0, 1, 0, 0, 0,\n",
       "       1, 1, 1, 0, 1, 1, 1, 1, 0, 0, 1, 1, 1, 1, 0, 0, 1, 1, 1, 1, 1, 1,\n",
       "       1, 1, 1, 0, 0, 1, 0, 1, 1, 1, 0, 1, 1, 0, 0, 0, 0, 1, 1, 1, 1, 1,\n",
       "       0, 0, 0, 0, 0, 0, 1, 0, 1, 1, 1, 1, 0, 0, 1, 1, 1, 1, 0, 1, 0, 0,\n",
       "       1, 1, 1, 1, 1, 0, 1, 0, 1, 1, 0, 1, 0, 1, 0, 0, 0, 1, 0, 1, 1, 1,\n",
       "       1, 0, 0, 0, 1, 1, 0, 1, 1, 1, 0, 1, 1, 0, 1, 1, 1, 0, 1, 1, 1, 0,\n",
       "       1, 1, 1, 0, 0, 1, 0, 1, 1, 0, 0, 0, 0, 1, 1, 1, 0, 1, 1, 0, 0, 1,\n",
       "       1, 0, 0, 1, 1, 1, 1, 0, 1, 0, 1, 0, 1, 1, 0, 1, 1, 0, 1, 0, 1, 1,\n",
       "       0, 1, 0, 0, 1, 1, 0, 0, 0, 0, 1, 0, 0, 1, 0, 0, 1, 1, 0, 0, 0, 1,\n",
       "       1, 0, 1, 0, 0, 0, 1, 1, 1, 1, 1, 0])"
      ]
     },
     "execution_count": 337,
     "metadata": {},
     "output_type": "execute_result"
    }
   ],
   "source": [
    "target"
   ]
  },
  {
   "cell_type": "code",
   "execution_count": 470,
   "id": "229a5fc3",
   "metadata": {},
   "outputs": [
    {
     "data": {
      "text/plain": [
       "[(1, 300), (0, 196)]"
      ]
     },
     "execution_count": 470,
     "metadata": {},
     "output_type": "execute_result"
    }
   ],
   "source": [
    "Counter(target).most_common()"
   ]
  },
  {
   "cell_type": "code",
   "execution_count": null,
   "id": "d81922ad",
   "metadata": {},
   "outputs": [],
   "source": [
    "####### Aufbau B #######\n",
    "# Erst Paare über alle Daten -> Target"
   ]
  },
  {
   "cell_type": "code",
   "execution_count": 423,
   "id": "12a8102b",
   "metadata": {},
   "outputs": [],
   "source": [
    "data = dataset_test\n",
    "batch_size = 32\n",
    "shuffle = True\n",
    "sseed = 42\n",
    "sampling_ratio = 2\n",
    "indices = np.arange(len(data))\n",
    "node_level = False\n",
    "index=1"
   ]
  },
  {
   "cell_type": "code",
   "execution_count": 448,
   "id": "e816d7a7",
   "metadata": {},
   "outputs": [],
   "source": [
    "def iterate_train_randomB(elements):\n",
    "    objects = elements\n",
    "    utilities = [e.y for e in elements]#hier und\n",
    "    sort_idx = np.argsort(utilities, axis=0)#hier angepasst\n",
    "    olen = objects.size\n",
    "    seed = sseed + olen\n",
    "    pair_count = (olen * (olen - 1)) // 2\n",
    "    print(f\"paircount:{pair_count}\")\n",
    "    sample_size = min(int(sampling_ratio * pair_count), pair_count)\n",
    "    print(f\"sample_size:{sample_size}\")\n",
    "    rng = np.random.default_rng(seed)\n",
    "\n",
    "    sample = rng.choice(pair_count, sample_size, replace=False)\n",
    "    print(f\"sample:{sample}\")\n",
    "    sample_b = (np.sqrt(sample * 2 + 1/4) + 1/2).astype(np.int)\n",
    "    sample_a = sample - (sample_b * (sample_b - 1)) // 2\n",
    "    idx_a = sort_idx[sample_a]\n",
    "    idx_b = sort_idx[sample_b]\n",
    "\n",
    "    return idx_a, idx_b"
   ]
  },
  {
   "cell_type": "code",
   "execution_count": 449,
   "id": "8116b907",
   "metadata": {},
   "outputs": [
    {
     "name": "stdout",
     "output_type": "stream",
     "text": [
      "paircount:25425\n",
      "sample_size:25425\n",
      "sample:[ 1659 13983 13295 ...  1461 24475 17082]\n"
     ]
    }
   ],
   "source": [
    "idx_a2, idx_b2 = iterate_train_randomB(data)"
   ]
  },
  {
   "cell_type": "code",
   "execution_count": 450,
   "id": "246e54d8",
   "metadata": {},
   "outputs": [
    {
     "data": {
      "text/plain": [
       "(array([130,  48,  30, ..., 149, 112,  55]),\n",
       " array([189,  11, 128, ...,  96, 140, 167]))"
      ]
     },
     "execution_count": 450,
     "metadata": {},
     "output_type": "execute_result"
    }
   ],
   "source": [
    "idx_a2.flatten(), idx_b2.flatten()"
   ]
  },
  {
   "cell_type": "code",
   "execution_count": 451,
   "id": "d5cb1ae0",
   "metadata": {},
   "outputs": [
    {
     "data": {
      "text/plain": [
       "[(157, 225),\n",
       " (187, 224),\n",
       " (39, 223),\n",
       " (170, 222),\n",
       " (21, 221),\n",
       " (209, 220),\n",
       " (130, 219),\n",
       " (201, 218),\n",
       " (103, 217),\n",
       " (85, 216),\n",
       " (198, 215),\n",
       " (56, 214),\n",
       " (28, 213),\n",
       " (179, 212),\n",
       " (81, 211),\n",
       " (141, 210),\n",
       " (71, 209),\n",
       " (90, 208),\n",
       " (46, 207),\n",
       " (211, 206),\n",
       " (86, 205),\n",
       " (45, 204),\n",
       " (34, 203),\n",
       " (132, 202),\n",
       " (160, 201),\n",
       " (110, 200),\n",
       " (15, 199),\n",
       " (153, 198),\n",
       " (41, 197),\n",
       " (188, 196),\n",
       " (149, 195),\n",
       " (109, 194),\n",
       " (10, 193),\n",
       " (51, 192),\n",
       " (106, 191),\n",
       " (60, 190),\n",
       " (80, 189),\n",
       " (62, 188),\n",
       " (22, 187),\n",
       " (186, 186),\n",
       " (183, 185),\n",
       " (208, 184),\n",
       " (13, 183),\n",
       " (50, 182),\n",
       " (83, 181),\n",
       " (151, 180),\n",
       " (91, 179),\n",
       " (64, 178),\n",
       " (192, 177),\n",
       " (161, 176),\n",
       " (176, 175),\n",
       " (122, 174),\n",
       " (33, 173),\n",
       " (82, 172),\n",
       " (96, 171),\n",
       " (131, 170),\n",
       " (12, 169),\n",
       " (172, 168),\n",
       " (189, 167),\n",
       " (75, 166),\n",
       " (217, 165),\n",
       " (99, 164),\n",
       " (55, 163),\n",
       " (20, 162),\n",
       " (44, 161),\n",
       " (42, 160),\n",
       " (204, 159),\n",
       " (219, 158),\n",
       " (54, 157),\n",
       " (184, 156),\n",
       " (108, 155),\n",
       " (138, 154),\n",
       " (66, 153),\n",
       " (84, 152),\n",
       " (171, 151),\n",
       " (113, 150),\n",
       " (47, 149),\n",
       " (88, 148),\n",
       " (214, 147),\n",
       " (222, 146),\n",
       " (70, 145),\n",
       " (158, 144),\n",
       " (224, 143),\n",
       " (168, 142),\n",
       " (169, 141),\n",
       " (101, 140),\n",
       " (69, 139),\n",
       " (195, 138),\n",
       " (8, 137),\n",
       " (196, 136),\n",
       " (155, 135),\n",
       " (145, 134),\n",
       " (30, 133),\n",
       " (94, 132),\n",
       " (139, 131),\n",
       " (93, 130),\n",
       " (32, 129),\n",
       " (100, 128),\n",
       " (202, 127),\n",
       " (18, 126),\n",
       " (6, 125),\n",
       " (14, 124),\n",
       " (19, 123),\n",
       " (165, 122),\n",
       " (118, 121),\n",
       " (142, 120),\n",
       " (225, 119),\n",
       " (116, 118),\n",
       " (27, 117),\n",
       " (143, 116),\n",
       " (29, 115),\n",
       " (78, 114),\n",
       " (58, 113),\n",
       " (223, 112),\n",
       " (95, 111),\n",
       " (194, 110),\n",
       " (24, 109),\n",
       " (105, 108),\n",
       " (36, 107),\n",
       " (166, 106),\n",
       " (111, 105),\n",
       " (97, 104),\n",
       " (48, 103),\n",
       " (23, 102),\n",
       " (218, 101),\n",
       " (212, 100),\n",
       " (37, 99),\n",
       " (68, 98),\n",
       " (213, 97),\n",
       " (175, 96),\n",
       " (193, 95),\n",
       " (220, 94),\n",
       " (89, 93),\n",
       " (0, 92),\n",
       " (156, 91),\n",
       " (25, 90),\n",
       " (26, 89),\n",
       " (67, 88),\n",
       " (53, 87),\n",
       " (181, 86),\n",
       " (221, 85),\n",
       " (216, 84),\n",
       " (98, 83),\n",
       " (210, 82),\n",
       " (174, 81),\n",
       " (190, 80),\n",
       " (120, 79),\n",
       " (150, 78),\n",
       " (107, 77),\n",
       " (43, 76),\n",
       " (87, 75),\n",
       " (115, 74),\n",
       " (146, 73),\n",
       " (207, 72),\n",
       " (205, 71),\n",
       " (104, 70),\n",
       " (180, 69),\n",
       " (57, 68),\n",
       " (162, 67),\n",
       " (35, 66),\n",
       " (215, 65),\n",
       " (173, 64),\n",
       " (123, 63),\n",
       " (128, 62),\n",
       " (197, 61),\n",
       " (112, 60),\n",
       " (79, 59),\n",
       " (11, 58),\n",
       " (182, 57),\n",
       " (65, 56),\n",
       " (5, 55),\n",
       " (125, 54),\n",
       " (129, 53),\n",
       " (7, 52),\n",
       " (76, 51),\n",
       " (164, 50),\n",
       " (4, 49),\n",
       " (63, 48),\n",
       " (147, 47),\n",
       " (52, 46),\n",
       " (148, 45),\n",
       " (121, 44),\n",
       " (199, 43),\n",
       " (102, 42),\n",
       " (144, 41),\n",
       " (167, 40),\n",
       " (163, 39),\n",
       " (133, 38),\n",
       " (134, 37),\n",
       " (16, 36),\n",
       " (2, 35),\n",
       " (206, 34),\n",
       " (200, 33),\n",
       " (119, 32),\n",
       " (135, 31),\n",
       " (73, 30),\n",
       " (3, 29),\n",
       " (185, 28),\n",
       " (74, 27),\n",
       " (152, 26),\n",
       " (178, 25),\n",
       " (177, 24),\n",
       " (38, 23),\n",
       " (17, 22),\n",
       " (59, 21),\n",
       " (126, 20),\n",
       " (31, 19),\n",
       " (92, 18),\n",
       " (114, 17),\n",
       " (159, 16),\n",
       " (191, 15),\n",
       " (127, 14),\n",
       " (136, 13),\n",
       " (72, 12),\n",
       " (77, 11),\n",
       " (124, 10),\n",
       " (154, 9),\n",
       " (1, 8),\n",
       " (40, 7),\n",
       " (49, 6),\n",
       " (137, 5),\n",
       " (140, 4),\n",
       " (203, 3),\n",
       " (61, 2),\n",
       " (117, 1)]"
      ]
     },
     "execution_count": 451,
     "metadata": {},
     "output_type": "execute_result"
    }
   ],
   "source": [
    "Counter(idx_a2.flatten()).most_common()"
   ]
  },
  {
   "cell_type": "code",
   "execution_count": 443,
   "id": "af225fb8",
   "metadata": {},
   "outputs": [
    {
     "data": {
      "text/plain": [
       "25425"
      ]
     },
     "execution_count": 443,
     "metadata": {},
     "output_type": "execute_result"
    }
   ],
   "source": [
    "len(idx_a2.flatten())"
   ]
  },
  {
   "cell_type": "code",
   "execution_count": 444,
   "id": "3c8ad243",
   "metadata": {},
   "outputs": [],
   "source": [
    "def get_targetB(indices_a, indices_b):\n",
    "    assert(len(indices_a)==len(indices_b))\n",
    "    a = data[indices_a.flatten()]\n",
    "    b = data[indices_b.flatten()]\n",
    "    t = []\n",
    "    for i in range(len(indices_a)):\n",
    "        util_a = data[indices_a[i][0]].y #a[i].y\n",
    "        util_b = data[indices_b[i][0]].y #b[i].y\n",
    "        if util_a >= util_b:\n",
    "            t.append(1)\n",
    "        else:\n",
    "            t.append(0)\n",
    "    return np.array(t)"
   ]
  },
  {
   "cell_type": "code",
   "execution_count": 445,
   "id": "9e4d4368",
   "metadata": {},
   "outputs": [],
   "source": [
    "target2 = get_targetB(idx_a2, idx_b2)"
   ]
  },
  {
   "cell_type": "code",
   "execution_count": 446,
   "id": "e983b8e9",
   "metadata": {},
   "outputs": [
    {
     "data": {
      "text/plain": [
       "(20, 25405)"
      ]
     },
     "execution_count": 446,
     "metadata": {},
     "output_type": "execute_result"
    }
   ],
   "source": [
    "list(target2).count(1), list(target2).count(0)"
   ]
  },
  {
   "cell_type": "code",
   "execution_count": 447,
   "id": "d5980abf",
   "metadata": {},
   "outputs": [
    {
     "data": {
      "text/plain": [
       "array([0, 0, 0, ..., 0, 0, 0])"
      ]
     },
     "execution_count": 447,
     "metadata": {},
     "output_type": "execute_result"
    }
   ],
   "source": [
    "target2"
   ]
  },
  {
   "cell_type": "code",
   "execution_count": 340,
   "id": "d9729219",
   "metadata": {},
   "outputs": [
    {
     "data": {
      "text/plain": [
       "OGBDataset(n_graphs=496)"
      ]
     },
     "execution_count": 340,
     "metadata": {},
     "output_type": "execute_result"
    }
   ],
   "source": [
    "asdasd = data[idx_a]\n",
    "asdasd"
   ]
  },
  {
   "cell_type": "code",
   "execution_count": 341,
   "id": "d8e558d7",
   "metadata": {},
   "outputs": [
    {
     "data": {
      "text/plain": [
       "OGBDataset(n_graphs=25425)"
      ]
     },
     "execution_count": 341,
     "metadata": {},
     "output_type": "execute_result"
    }
   ],
   "source": [
    "sdfasdf = data[idx_a2.flatten()]\n",
    "sdfasdf"
   ]
  },
  {
   "cell_type": "code",
   "execution_count": 366,
   "id": "1c6220fa",
   "metadata": {},
   "outputs": [
    {
     "data": {
      "text/plain": [
       "Counter({-4.735: 177,\n",
       "         -3.924: 147,\n",
       "         -7.15: 216,\n",
       "         -6.291: 207,\n",
       "         -3.796: 138,\n",
       "         -4.047: 152,\n",
       "         -2.11: 79,\n",
       "         -3.73: 271,\n",
       "         -4.799: 180,\n",
       "         -5.72: 200,\n",
       "         -4.678: 176,\n",
       "         -1.74: 68,\n",
       "         -5.46: 196,\n",
       "         -6.49: 208,\n",
       "         -0.22: 14,\n",
       "         -3.9: 146,\n",
       "         -2.78: 99,\n",
       "         -4.53: 168,\n",
       "         -2.21: 81,\n",
       "         -7.68: 220,\n",
       "         -5.26: 192,\n",
       "         -8.4: 223,\n",
       "         -0.742: 28,\n",
       "         -4.44: 166,\n",
       "         -2.63: 95,\n",
       "         -5.19: 190,\n",
       "         -4.19: 156,\n",
       "         -1.4: 56,\n",
       "         -2.74: 97,\n",
       "         -3.81: 139,\n",
       "         -7.21: 218,\n",
       "         -7.92: 222,\n",
       "         -6.09: 203,\n",
       "         -4.42: 164,\n",
       "         -3.571: 130,\n",
       "         -3.12: 223,\n",
       "         -0.45: 19,\n",
       "         -1.24: 47,\n",
       "         -3.14: 113,\n",
       "         -3.7: 134,\n",
       "         -1.34: 156,\n",
       "         -5.3820000000000014: 195,\n",
       "         -3.65: 133,\n",
       "         -4.376: 161,\n",
       "         -3.85: 429,\n",
       "         -2.57: 93,\n",
       "         -5.184: 189,\n",
       "         -7.43: 219,\n",
       "         -1.1: 42,\n",
       "         -5.37: 194,\n",
       "         -3.35: 120,\n",
       "         -5.68: 199,\n",
       "         -4.16: 155,\n",
       "         -2.932: 104,\n",
       "         -6.144: 205,\n",
       "         -8.49: 224,\n",
       "         -4.4: 325,\n",
       "         -1.6: 131,\n",
       "         -1.08: 40,\n",
       "         -4.23: 158,\n",
       "         -4.46: 167,\n",
       "         -1.04: 37,\n",
       "         -7.85: 221,\n",
       "         -1.92: 71,\n",
       "         -4.88: 185,\n",
       "         -4.62: 172,\n",
       "         -2.77: 98,\n",
       "         -2.0: 149,\n",
       "         -4.5939999999999985: 171,\n",
       "         -3.953: 149,\n",
       "         -4.06: 153,\n",
       "         -2.68: 96,\n",
       "         -5.153: 188,\n",
       "         -3.46: 124,\n",
       "         -4.3: 159,\n",
       "         -4.9: 186,\n",
       "         -4.57: 339,\n",
       "         -1.4880000000000002: 63,\n",
       "         -2.42: 88,\n",
       "         -3.952: 148,\n",
       "         -1.48: 62,\n",
       "         -3.19: 116,\n",
       "         -3.39: 122,\n",
       "         -4.63: 347,\n",
       "         -7.0: 215,\n",
       "         -4.43: 165,\n",
       "         -2.82: 101,\n",
       "         -1.28: 49,\n",
       "         -2.36: 86,\n",
       "         -6.025: 202,\n",
       "         -4.2: 157,\n",
       "         -1.96: 73,\n",
       "         -4.805: 182,\n",
       "         -3.45: 123,\n",
       "         -3.04: 107,\n",
       "         -1.26: 48,\n",
       "         -1.886: 70,\n",
       "         -5.28: 193,\n",
       "         -6.25: 206,\n",
       "         -3.5: 127,\n",
       "         -3.01: 105,\n",
       "         -3.38: 121,\n",
       "         -1.23: 46,\n",
       "         -1.228: 45,\n",
       "         -3.18: 115,\n",
       "         -5.64: 198,\n",
       "         -6.124: 204,\n",
       "         -2.523: 90,\n",
       "         -3.82: 140,\n",
       "         -4.871: 183,\n",
       "         -3.4930000000000003: 125,\n",
       "         -3.091: 109,\n",
       "         -3.24: 118,\n",
       "         -3.2460000000000004: 119,\n",
       "         -7.2: 217,\n",
       "         -0.39: 16,\n",
       "         -4.873: 184,\n",
       "         -6.876: 213,\n",
       "         -6.8: 211,\n",
       "         -1.077: 39,\n",
       "         -1.06: 38,\n",
       "         -4.77: 179,\n",
       "         -6.726: 210,\n",
       "         -3.54: 129,\n",
       "         -4.36: 160,\n",
       "         -3.77: 137,\n",
       "         -6.9: 214,\n",
       "         -4.76: 178,\n",
       "         -3.84: 141,\n",
       "         -2.32: 84,\n",
       "         -2.55: 92,\n",
       "         -2.35: 85,\n",
       "         -4.13: 154,\n",
       "         -2.28: 83,\n",
       "         -6.01: 201,\n",
       "         -6.86: 212,\n",
       "         -1.56: 64,\n",
       "         -3.63: 132,\n",
       "         -6.57: 209,\n",
       "         -2.15: 80,\n",
       "         -1.456: 59,\n",
       "         -3.1: 110,\n",
       "         -3.15: 114,\n",
       "         -1.81: 69,\n",
       "         -2.23: 82,\n",
       "         -2.92: 103,\n",
       "         -2.843: 102,\n",
       "         -3.2: 117,\n",
       "         -2.06: 77,\n",
       "         -5.21: 191,\n",
       "         -3.499: 126,\n",
       "         -4.0: 150,\n",
       "         -1.37: 55,\n",
       "         -0.85: 65,\n",
       "         -5.05: 187,\n",
       "         -2.59: 94,\n",
       "         -1.03: 36,\n",
       "         -0.73: 25,\n",
       "         0.0: 13,\n",
       "         -8.71: 225,\n",
       "         -3.03: 106,\n",
       "         -5.47: 197,\n",
       "         -2.54: 91,\n",
       "         -0.04: 9,\n",
       "         -3.09: 108,\n",
       "         -0.18: 13,\n",
       "         -0.4: 35,\n",
       "         -4.046: 151,\n",
       "         -1.47: 61,\n",
       "         -1.29: 50,\n",
       "         -2.03: 76,\n",
       "         -1.44: 58,\n",
       "         -2.484: 89,\n",
       "         -2.8: 100,\n",
       "         -1.09: 41,\n",
       "         -3.536: 128,\n",
       "         -4.66: 175,\n",
       "         -1.11: 43,\n",
       "         -3.88: 145,\n",
       "         -1.71: 67,\n",
       "         -1.41: 57,\n",
       "         -1.93: 72,\n",
       "         -2.41: 87,\n",
       "         -0.82: 31,\n",
       "         -2.09: 78,\n",
       "         -1.36: 54,\n",
       "         -0.8: 59,\n",
       "         -4.8: 181,\n",
       "         -3.59: 131,\n",
       "         -0.62: 43,\n",
       "         -0.74: 53,\n",
       "         -1.46: 60,\n",
       "         -0.12: 11,\n",
       "         -0.96: 69,\n",
       "         0.94: 1,\n",
       "         -0.092: 10,\n",
       "         -1.16: 44,\n",
       "         -0.17: 12,\n",
       "         0.36: 4,\n",
       "         -0.72: 24,\n",
       "         -0.63: 23,\n",
       "         -0.03: 8,\n",
       "         -0.59: 20,\n",
       "         -0.29: 15,\n",
       "         0.32: 5,\n",
       "         0.85: 2,\n",
       "         0.45: 3})"
      ]
     },
     "execution_count": 366,
     "metadata": {},
     "output_type": "execute_result"
    }
   ],
   "source": [
    "from collections import Counter\n",
    "y = [e.y for e in sdfasdf]\n",
    "y =[x[0] for x in y]\n",
    "Counter(y)"
   ]
  },
  {
   "cell_type": "code",
   "execution_count": 453,
   "id": "c8e21ab5",
   "metadata": {},
   "outputs": [],
   "source": [
    "####### Aufbau C #######\n",
    "# Erst Paare über alle Paare (ineffizient) -> Target"
   ]
  },
  {
   "cell_type": "code",
   "execution_count": 454,
   "id": "86eea5bf",
   "metadata": {},
   "outputs": [],
   "source": [
    "data = dataset_test\n",
    "batch_size = 32\n",
    "shuffle = True\n",
    "sseed = 42\n",
    "sampling_ratio = 2\n",
    "indices = np.arange(len(data))\n",
    "node_level = False\n",
    "index=1"
   ]
  },
  {
   "cell_type": "code",
   "execution_count": 457,
   "id": "e4c51119",
   "metadata": {},
   "outputs": [],
   "source": [
    "from itertools import combinations\n",
    "def sample_preference_pairs(graphs):\n",
    "    c = [(a, b, check_util(graphs, a,b)) for a, b in combinations(range(len(graphs)), 2)]\n",
    "    idx_a = []\n",
    "    idx_b = []\n",
    "    target = []\n",
    "    for id_a, id_b, t in c:\n",
    "        idx_a.append(id_a)\n",
    "        idx_b.append(id_b)\n",
    "        target.append(t)\n",
    "    return np.array(idx_a), np.array(idx_b), np.array(target).reshape(-1, 1)\n",
    "\n",
    "def check_util(data, index_a, index_b):\n",
    "        a = data[index_a]\n",
    "        b = data[index_b]\n",
    "        util_a = a.y\n",
    "        util_b = b.y\n",
    "        if util_a >= util_b:\n",
    "            return 1\n",
    "        else:\n",
    "            return 0"
   ]
  },
  {
   "cell_type": "code",
   "execution_count": 458,
   "id": "4eceb06b",
   "metadata": {},
   "outputs": [],
   "source": [
    "idx_a3, idx_b3, t3 = sample_preference_pairs(data)"
   ]
  },
  {
   "cell_type": "code",
   "execution_count": 460,
   "id": "187a2707",
   "metadata": {},
   "outputs": [
    {
     "data": {
      "text/plain": [
       "[(0, 225),\n",
       " (1, 224),\n",
       " (2, 223),\n",
       " (3, 222),\n",
       " (4, 221),\n",
       " (5, 220),\n",
       " (6, 219),\n",
       " (7, 218),\n",
       " (8, 217),\n",
       " (9, 216),\n",
       " (10, 215),\n",
       " (11, 214),\n",
       " (12, 213),\n",
       " (13, 212),\n",
       " (14, 211),\n",
       " (15, 210),\n",
       " (16, 209),\n",
       " (17, 208),\n",
       " (18, 207),\n",
       " (19, 206),\n",
       " (20, 205),\n",
       " (21, 204),\n",
       " (22, 203),\n",
       " (23, 202),\n",
       " (24, 201),\n",
       " (25, 200),\n",
       " (26, 199),\n",
       " (27, 198),\n",
       " (28, 197),\n",
       " (29, 196),\n",
       " (30, 195),\n",
       " (31, 194),\n",
       " (32, 193),\n",
       " (33, 192),\n",
       " (34, 191),\n",
       " (35, 190),\n",
       " (36, 189),\n",
       " (37, 188),\n",
       " (38, 187),\n",
       " (39, 186),\n",
       " (40, 185),\n",
       " (41, 184),\n",
       " (42, 183),\n",
       " (43, 182),\n",
       " (44, 181),\n",
       " (45, 180),\n",
       " (46, 179),\n",
       " (47, 178),\n",
       " (48, 177),\n",
       " (49, 176),\n",
       " (50, 175),\n",
       " (51, 174),\n",
       " (52, 173),\n",
       " (53, 172),\n",
       " (54, 171),\n",
       " (55, 170),\n",
       " (56, 169),\n",
       " (57, 168),\n",
       " (58, 167),\n",
       " (59, 166),\n",
       " (60, 165),\n",
       " (61, 164),\n",
       " (62, 163),\n",
       " (63, 162),\n",
       " (64, 161),\n",
       " (65, 160),\n",
       " (66, 159),\n",
       " (67, 158),\n",
       " (68, 157),\n",
       " (69, 156),\n",
       " (70, 155),\n",
       " (71, 154),\n",
       " (72, 153),\n",
       " (73, 152),\n",
       " (74, 151),\n",
       " (75, 150),\n",
       " (76, 149),\n",
       " (77, 148),\n",
       " (78, 147),\n",
       " (79, 146),\n",
       " (80, 145),\n",
       " (81, 144),\n",
       " (82, 143),\n",
       " (83, 142),\n",
       " (84, 141),\n",
       " (85, 140),\n",
       " (86, 139),\n",
       " (87, 138),\n",
       " (88, 137),\n",
       " (89, 136),\n",
       " (90, 135),\n",
       " (91, 134),\n",
       " (92, 133),\n",
       " (93, 132),\n",
       " (94, 131),\n",
       " (95, 130),\n",
       " (96, 129),\n",
       " (97, 128),\n",
       " (98, 127),\n",
       " (99, 126),\n",
       " (100, 125),\n",
       " (101, 124),\n",
       " (102, 123),\n",
       " (103, 122),\n",
       " (104, 121),\n",
       " (105, 120),\n",
       " (106, 119),\n",
       " (107, 118),\n",
       " (108, 117),\n",
       " (109, 116),\n",
       " (110, 115),\n",
       " (111, 114),\n",
       " (112, 113),\n",
       " (113, 112),\n",
       " (114, 111),\n",
       " (115, 110),\n",
       " (116, 109),\n",
       " (117, 108),\n",
       " (118, 107),\n",
       " (119, 106),\n",
       " (120, 105),\n",
       " (121, 104),\n",
       " (122, 103),\n",
       " (123, 102),\n",
       " (124, 101),\n",
       " (125, 100),\n",
       " (126, 99),\n",
       " (127, 98),\n",
       " (128, 97),\n",
       " (129, 96),\n",
       " (130, 95),\n",
       " (131, 94),\n",
       " (132, 93),\n",
       " (133, 92),\n",
       " (134, 91),\n",
       " (135, 90),\n",
       " (136, 89),\n",
       " (137, 88),\n",
       " (138, 87),\n",
       " (139, 86),\n",
       " (140, 85),\n",
       " (141, 84),\n",
       " (142, 83),\n",
       " (143, 82),\n",
       " (144, 81),\n",
       " (145, 80),\n",
       " (146, 79),\n",
       " (147, 78),\n",
       " (148, 77),\n",
       " (149, 76),\n",
       " (150, 75),\n",
       " (151, 74),\n",
       " (152, 73),\n",
       " (153, 72),\n",
       " (154, 71),\n",
       " (155, 70),\n",
       " (156, 69),\n",
       " (157, 68),\n",
       " (158, 67),\n",
       " (159, 66),\n",
       " (160, 65),\n",
       " (161, 64),\n",
       " (162, 63),\n",
       " (163, 62),\n",
       " (164, 61),\n",
       " (165, 60),\n",
       " (166, 59),\n",
       " (167, 58),\n",
       " (168, 57),\n",
       " (169, 56),\n",
       " (170, 55),\n",
       " (171, 54),\n",
       " (172, 53),\n",
       " (173, 52),\n",
       " (174, 51),\n",
       " (175, 50),\n",
       " (176, 49),\n",
       " (177, 48),\n",
       " (178, 47),\n",
       " (179, 46),\n",
       " (180, 45),\n",
       " (181, 44),\n",
       " (182, 43),\n",
       " (183, 42),\n",
       " (184, 41),\n",
       " (185, 40),\n",
       " (186, 39),\n",
       " (187, 38),\n",
       " (188, 37),\n",
       " (189, 36),\n",
       " (190, 35),\n",
       " (191, 34),\n",
       " (192, 33),\n",
       " (193, 32),\n",
       " (194, 31),\n",
       " (195, 30),\n",
       " (196, 29),\n",
       " (197, 28),\n",
       " (198, 27),\n",
       " (199, 26),\n",
       " (200, 25),\n",
       " (201, 24),\n",
       " (202, 23),\n",
       " (203, 22),\n",
       " (204, 21),\n",
       " (205, 20),\n",
       " (206, 19),\n",
       " (207, 18),\n",
       " (208, 17),\n",
       " (209, 16),\n",
       " (210, 15),\n",
       " (211, 14),\n",
       " (212, 13),\n",
       " (213, 12),\n",
       " (214, 11),\n",
       " (215, 10),\n",
       " (216, 9),\n",
       " (217, 8),\n",
       " (218, 7),\n",
       " (219, 6),\n",
       " (220, 5),\n",
       " (221, 4),\n",
       " (222, 3),\n",
       " (223, 2),\n",
       " (224, 1)]"
      ]
     },
     "execution_count": 460,
     "metadata": {},
     "output_type": "execute_result"
    }
   ],
   "source": [
    "Counter(idx_a3).most_common()"
   ]
  },
  {
   "cell_type": "code",
   "execution_count": 461,
   "id": "e5c99236",
   "metadata": {},
   "outputs": [
    {
     "data": {
      "text/plain": [
       "[(225, 225),\n",
       " (224, 224),\n",
       " (223, 223),\n",
       " (222, 222),\n",
       " (221, 221),\n",
       " (220, 220),\n",
       " (219, 219),\n",
       " (218, 218),\n",
       " (217, 217),\n",
       " (216, 216),\n",
       " (215, 215),\n",
       " (214, 214),\n",
       " (213, 213),\n",
       " (212, 212),\n",
       " (211, 211),\n",
       " (210, 210),\n",
       " (209, 209),\n",
       " (208, 208),\n",
       " (207, 207),\n",
       " (206, 206),\n",
       " (205, 205),\n",
       " (204, 204),\n",
       " (203, 203),\n",
       " (202, 202),\n",
       " (201, 201),\n",
       " (200, 200),\n",
       " (199, 199),\n",
       " (198, 198),\n",
       " (197, 197),\n",
       " (196, 196),\n",
       " (195, 195),\n",
       " (194, 194),\n",
       " (193, 193),\n",
       " (192, 192),\n",
       " (191, 191),\n",
       " (190, 190),\n",
       " (189, 189),\n",
       " (188, 188),\n",
       " (187, 187),\n",
       " (186, 186),\n",
       " (185, 185),\n",
       " (184, 184),\n",
       " (183, 183),\n",
       " (182, 182),\n",
       " (181, 181),\n",
       " (180, 180),\n",
       " (179, 179),\n",
       " (178, 178),\n",
       " (177, 177),\n",
       " (176, 176),\n",
       " (175, 175),\n",
       " (174, 174),\n",
       " (173, 173),\n",
       " (172, 172),\n",
       " (171, 171),\n",
       " (170, 170),\n",
       " (169, 169),\n",
       " (168, 168),\n",
       " (167, 167),\n",
       " (166, 166),\n",
       " (165, 165),\n",
       " (164, 164),\n",
       " (163, 163),\n",
       " (162, 162),\n",
       " (161, 161),\n",
       " (160, 160),\n",
       " (159, 159),\n",
       " (158, 158),\n",
       " (157, 157),\n",
       " (156, 156),\n",
       " (155, 155),\n",
       " (154, 154),\n",
       " (153, 153),\n",
       " (152, 152),\n",
       " (151, 151),\n",
       " (150, 150),\n",
       " (149, 149),\n",
       " (148, 148),\n",
       " (147, 147),\n",
       " (146, 146),\n",
       " (145, 145),\n",
       " (144, 144),\n",
       " (143, 143),\n",
       " (142, 142),\n",
       " (141, 141),\n",
       " (140, 140),\n",
       " (139, 139),\n",
       " (138, 138),\n",
       " (137, 137),\n",
       " (136, 136),\n",
       " (135, 135),\n",
       " (134, 134),\n",
       " (133, 133),\n",
       " (132, 132),\n",
       " (131, 131),\n",
       " (130, 130),\n",
       " (129, 129),\n",
       " (128, 128),\n",
       " (127, 127),\n",
       " (126, 126),\n",
       " (125, 125),\n",
       " (124, 124),\n",
       " (123, 123),\n",
       " (122, 122),\n",
       " (121, 121),\n",
       " (120, 120),\n",
       " (119, 119),\n",
       " (118, 118),\n",
       " (117, 117),\n",
       " (116, 116),\n",
       " (115, 115),\n",
       " (114, 114),\n",
       " (113, 113),\n",
       " (112, 112),\n",
       " (111, 111),\n",
       " (110, 110),\n",
       " (109, 109),\n",
       " (108, 108),\n",
       " (107, 107),\n",
       " (106, 106),\n",
       " (105, 105),\n",
       " (104, 104),\n",
       " (103, 103),\n",
       " (102, 102),\n",
       " (101, 101),\n",
       " (100, 100),\n",
       " (99, 99),\n",
       " (98, 98),\n",
       " (97, 97),\n",
       " (96, 96),\n",
       " (95, 95),\n",
       " (94, 94),\n",
       " (93, 93),\n",
       " (92, 92),\n",
       " (91, 91),\n",
       " (90, 90),\n",
       " (89, 89),\n",
       " (88, 88),\n",
       " (87, 87),\n",
       " (86, 86),\n",
       " (85, 85),\n",
       " (84, 84),\n",
       " (83, 83),\n",
       " (82, 82),\n",
       " (81, 81),\n",
       " (80, 80),\n",
       " (79, 79),\n",
       " (78, 78),\n",
       " (77, 77),\n",
       " (76, 76),\n",
       " (75, 75),\n",
       " (74, 74),\n",
       " (73, 73),\n",
       " (72, 72),\n",
       " (71, 71),\n",
       " (70, 70),\n",
       " (69, 69),\n",
       " (68, 68),\n",
       " (67, 67),\n",
       " (66, 66),\n",
       " (65, 65),\n",
       " (64, 64),\n",
       " (63, 63),\n",
       " (62, 62),\n",
       " (61, 61),\n",
       " (60, 60),\n",
       " (59, 59),\n",
       " (58, 58),\n",
       " (57, 57),\n",
       " (56, 56),\n",
       " (55, 55),\n",
       " (54, 54),\n",
       " (53, 53),\n",
       " (52, 52),\n",
       " (51, 51),\n",
       " (50, 50),\n",
       " (49, 49),\n",
       " (48, 48),\n",
       " (47, 47),\n",
       " (46, 46),\n",
       " (45, 45),\n",
       " (44, 44),\n",
       " (43, 43),\n",
       " (42, 42),\n",
       " (41, 41),\n",
       " (40, 40),\n",
       " (39, 39),\n",
       " (38, 38),\n",
       " (37, 37),\n",
       " (36, 36),\n",
       " (35, 35),\n",
       " (34, 34),\n",
       " (33, 33),\n",
       " (32, 32),\n",
       " (31, 31),\n",
       " (30, 30),\n",
       " (29, 29),\n",
       " (28, 28),\n",
       " (27, 27),\n",
       " (26, 26),\n",
       " (25, 25),\n",
       " (24, 24),\n",
       " (23, 23),\n",
       " (22, 22),\n",
       " (21, 21),\n",
       " (20, 20),\n",
       " (19, 19),\n",
       " (18, 18),\n",
       " (17, 17),\n",
       " (16, 16),\n",
       " (15, 15),\n",
       " (14, 14),\n",
       " (13, 13),\n",
       " (12, 12),\n",
       " (11, 11),\n",
       " (10, 10),\n",
       " (9, 9),\n",
       " (8, 8),\n",
       " (7, 7),\n",
       " (6, 6),\n",
       " (5, 5),\n",
       " (4, 4),\n",
       " (3, 3),\n",
       " (2, 2),\n",
       " (1, 1)]"
      ]
     },
     "execution_count": 461,
     "metadata": {},
     "output_type": "execute_result"
    }
   ],
   "source": [
    "Counter(idx_b3).most_common()"
   ]
  },
  {
   "cell_type": "code",
   "execution_count": 468,
   "id": "66b79e88",
   "metadata": {},
   "outputs": [],
   "source": [
    "t3_ = [t[0] for t in t3]"
   ]
  },
  {
   "cell_type": "code",
   "execution_count": 469,
   "id": "6ce57f7c",
   "metadata": {},
   "outputs": [
    {
     "data": {
      "text/plain": [
       "Counter({0: 12684, 1: 12741})"
      ]
     },
     "execution_count": 469,
     "metadata": {},
     "output_type": "execute_result"
    }
   ],
   "source": [
    "Counter(t3_)"
   ]
  },
  {
   "cell_type": "code",
   "execution_count": null,
   "id": "5d204513",
   "metadata": {},
   "outputs": [],
   "source": []
  },
  {
   "cell_type": "code",
   "execution_count": null,
   "id": "19ed4792",
   "metadata": {},
   "outputs": [],
   "source": []
  },
  {
   "cell_type": "code",
   "execution_count": null,
   "id": "fcc8adec",
   "metadata": {},
   "outputs": [],
   "source": []
  },
  {
   "cell_type": "code",
   "execution_count": null,
   "id": "ce55c447",
   "metadata": {},
   "outputs": [],
   "source": []
  },
  {
   "cell_type": "code",
   "execution_count": null,
   "id": "61817c4c",
   "metadata": {},
   "outputs": [],
   "source": []
  },
  {
   "cell_type": "code",
   "execution_count": null,
   "id": "8ea19cfd",
   "metadata": {},
   "outputs": [],
   "source": []
  },
  {
   "cell_type": "code",
   "execution_count": null,
   "id": "9fcf4e2c",
   "metadata": {},
   "outputs": [],
   "source": []
  },
  {
   "cell_type": "code",
   "execution_count": null,
   "id": "b9799cad",
   "metadata": {},
   "outputs": [],
   "source": []
  },
  {
   "cell_type": "code",
   "execution_count": 223,
   "id": "d83dc64d",
   "metadata": {},
   "outputs": [],
   "source": [
    "def iterate_train_random(elements):\n",
    "    objects = elements\n",
    "    utility_scores = [e.y for e in elements]\n",
    "    sort_idx = np.argsort(utility_scores, axis=0)\n",
    "    olen = objects.size\n",
    "    seed = sseed + olen\n",
    "    pair_count = (olen * (olen - 1)) // 2\n",
    "    sample_size = min(int(sampling_ratio * pair_count), pair_count)\n",
    "    rng = np.random.default_rng(seed)\n",
    "\n",
    "    sample = rng.choice(pair_count, sample_size, replace=False)\n",
    "    sample_b = (np.sqrt(sample * 2 + 1/4) + 1/2).astype(np.int)\n",
    "    sample_a = sample - (sample_b * (sample_b - 1)) // 2\n",
    "    idx_a = sort_idx[sample_a]\n",
    "    idx_b = sort_idx[sample_b]\n",
    "\n",
    "    return np.array(idx_a), np.array(idx_b)"
   ]
  },
  {
   "cell_type": "code",
   "execution_count": 224,
   "id": "30e4782f",
   "metadata": {},
   "outputs": [],
   "source": [
    "idx_a, idx_b = iterate_train_random(data)"
   ]
  },
  {
   "cell_type": "code",
   "execution_count": 225,
   "id": "7260c662",
   "metadata": {},
   "outputs": [
    {
     "data": {
      "text/plain": [
       "(array([[192],\n",
       "        [214],\n",
       "        [ 85],\n",
       "        ...,\n",
       "        [ 32],\n",
       "        [160],\n",
       "        [ 87]]),\n",
       " array([[199],\n",
       "        [142],\n",
       "        [ 47],\n",
       "        ...,\n",
       "        [ 68],\n",
       "        [ 53],\n",
       "        [ 35]]))"
      ]
     },
     "execution_count": 225,
     "metadata": {},
     "output_type": "execute_result"
    }
   ],
   "source": [
    "idx_a, idx_b"
   ]
  },
  {
   "cell_type": "code",
   "execution_count": 226,
   "id": "c696d114",
   "metadata": {},
   "outputs": [],
   "source": [
    "def get_target(idx_a, idx_b, data):\n",
    "    a = data[idx_a.flatten().tolist()]\n",
    "    b = data[idx_b.flatten().tolist()]\n",
    "    u_a = [e.y for e in a]\n",
    "    t = []\n",
    "    for i in range(len(idx_a)):\n",
    "        util_a = a[i].y\n",
    "        util_b = b[i].y\n",
    "        if util_a >= util_b:\n",
    "            t.append(1)\n",
    "        else:\n",
    "            t.append(0)\n",
    "    return np.array(t)"
   ]
  },
  {
   "cell_type": "code",
   "execution_count": 227,
   "id": "ff7d5def",
   "metadata": {},
   "outputs": [],
   "source": [
    "target = get_target(idx_a, idx_b, data)"
   ]
  },
  {
   "cell_type": "code",
   "execution_count": 228,
   "id": "4220e6a2",
   "metadata": {},
   "outputs": [
    {
     "data": {
      "text/plain": [
       "array([0, 0, 0, ..., 0, 0, 0])"
      ]
     },
     "execution_count": 228,
     "metadata": {},
     "output_type": "execute_result"
    }
   ],
   "source": [
    "target"
   ]
  },
  {
   "cell_type": "code",
   "execution_count": 229,
   "id": "2f6ffe8a",
   "metadata": {},
   "outputs": [
    {
     "data": {
      "text/plain": [
       "25405"
      ]
     },
     "execution_count": 229,
     "metadata": {},
     "output_type": "execute_result"
    }
   ],
   "source": [
    "list(target).count(0)"
   ]
  },
  {
   "cell_type": "code",
   "execution_count": null,
   "id": "fc1635ad",
   "metadata": {},
   "outputs": [],
   "source": []
  },
  {
   "cell_type": "code",
   "execution_count": null,
   "id": "69cc6bf5",
   "metadata": {},
   "outputs": [],
   "source": []
  },
  {
   "cell_type": "code",
   "execution_count": null,
   "id": "065b6e6e",
   "metadata": {},
   "outputs": [],
   "source": []
  },
  {
   "cell_type": "code",
   "execution_count": null,
   "id": "de14cd11",
   "metadata": {},
   "outputs": [],
   "source": []
  },
  {
   "cell_type": "code",
   "execution_count": null,
   "id": "c5db9656",
   "metadata": {},
   "outputs": [],
   "source": []
  },
  {
   "cell_type": "code",
   "execution_count": null,
   "id": "9dc460dc",
   "metadata": {},
   "outputs": [],
   "source": []
  },
  {
   "cell_type": "code",
   "execution_count": null,
   "id": "d187e8db",
   "metadata": {},
   "outputs": [],
   "source": []
  },
  {
   "cell_type": "code",
   "execution_count": null,
   "id": "0cda2548",
   "metadata": {},
   "outputs": [],
   "source": []
  },
  {
   "cell_type": "code",
   "execution_count": 139,
   "id": "4311c5da",
   "metadata": {},
   "outputs": [
    {
     "name": "stdout",
     "output_type": "stream",
     "text": [
      "[[Graph(n_nodes=17, n_node_features=9, n_edge_features=3, n_labels=1)]\n",
      " [Graph(n_nodes=11, n_node_features=9, n_edge_features=3, n_labels=1)]\n",
      " [Graph(n_nodes=6, n_node_features=9, n_edge_features=3, n_labels=1)]\n",
      " ...\n",
      " [Graph(n_nodes=22, n_node_features=9, n_edge_features=3, n_labels=1)]\n",
      " [Graph(n_nodes=8, n_node_features=9, n_edge_features=3, n_labels=1)]\n",
      " [Graph(n_nodes=11, n_node_features=9, n_edge_features=3, n_labels=1)]]\n"
     ]
    },
    {
     "ename": "IndexError",
     "evalue": "index 1 is out of bounds for axis 0 with size 1",
     "output_type": "error",
     "traceback": [
      "\u001b[0;31m---------------------------------------------------------------------------\u001b[0m",
      "\u001b[0;31mIndexError\u001b[0m                                Traceback (most recent call last)",
      "\u001b[0;32m<ipython-input-139-6a2e7ec88d2d>\u001b[0m in \u001b[0;36m<module>\u001b[0;34m\u001b[0m\n\u001b[0;32m----> 1\u001b[0;31m \u001b[0mdl\u001b[0m \u001b[0;34m=\u001b[0m \u001b[0mCustomDataLoader\u001b[0m\u001b[0;34m(\u001b[0m\u001b[0mdataset_test\u001b[0m\u001b[0;34m)\u001b[0m\u001b[0;34m\u001b[0m\u001b[0;34m\u001b[0m\u001b[0m\n\u001b[0m",
      "\u001b[0;32m<ipython-input-138-0ad5bf63e58e>\u001b[0m in \u001b[0;36m__init__\u001b[0;34m(self, data, batch_size, shuffle, seed, sampling_ratio)\u001b[0m\n\u001b[1;32m     17\u001b[0m         \u001b[0mself\u001b[0m\u001b[0;34m.\u001b[0m\u001b[0mnode_level\u001b[0m \u001b[0;34m=\u001b[0m \u001b[0;32mFalse\u001b[0m\u001b[0;34m\u001b[0m\u001b[0;34m\u001b[0m\u001b[0m\n\u001b[1;32m     18\u001b[0m         \u001b[0mself\u001b[0m\u001b[0;34m.\u001b[0m\u001b[0midx_a\u001b[0m\u001b[0;34m,\u001b[0m \u001b[0mself\u001b[0m\u001b[0;34m.\u001b[0m\u001b[0midx_b\u001b[0m \u001b[0;34m=\u001b[0m \u001b[0mself\u001b[0m\u001b[0;34m.\u001b[0m\u001b[0miterate_train_random\u001b[0m\u001b[0;34m(\u001b[0m\u001b[0mdata\u001b[0m\u001b[0;34m)\u001b[0m\u001b[0;34m\u001b[0m\u001b[0;34m\u001b[0m\u001b[0m\n\u001b[0;32m---> 19\u001b[0;31m         \u001b[0mself\u001b[0m\u001b[0;34m.\u001b[0m\u001b[0mtarget\u001b[0m \u001b[0;34m=\u001b[0m \u001b[0mself\u001b[0m\u001b[0;34m.\u001b[0m\u001b[0mget_target\u001b[0m\u001b[0;34m(\u001b[0m\u001b[0;34m)\u001b[0m\u001b[0;34m\u001b[0m\u001b[0;34m\u001b[0m\u001b[0m\n\u001b[0m\u001b[1;32m     20\u001b[0m         \u001b[0mself\u001b[0m\u001b[0;34m.\u001b[0m\u001b[0mon_epoch_end\u001b[0m\u001b[0;34m(\u001b[0m\u001b[0;34m)\u001b[0m\u001b[0;34m\u001b[0m\u001b[0;34m\u001b[0m\u001b[0m\n\u001b[1;32m     21\u001b[0m \u001b[0;34m\u001b[0m\u001b[0m\n",
      "\u001b[0;32m<ipython-input-138-0ad5bf63e58e>\u001b[0m in \u001b[0;36mget_target\u001b[0;34m(self)\u001b[0m\n\u001b[1;32m     91\u001b[0m         \u001b[0mprint\u001b[0m\u001b[0;34m(\u001b[0m\u001b[0ma\u001b[0m\u001b[0;34m)\u001b[0m\u001b[0;34m\u001b[0m\u001b[0;34m\u001b[0m\u001b[0m\n\u001b[1;32m     92\u001b[0m         \u001b[0;32mfor\u001b[0m \u001b[0mi\u001b[0m \u001b[0;32min\u001b[0m \u001b[0mrange\u001b[0m\u001b[0;34m(\u001b[0m\u001b[0mlen\u001b[0m\u001b[0;34m(\u001b[0m\u001b[0mself\u001b[0m\u001b[0;34m.\u001b[0m\u001b[0midx_a\u001b[0m\u001b[0;34m)\u001b[0m\u001b[0;34m)\u001b[0m\u001b[0;34m:\u001b[0m\u001b[0;34m\u001b[0m\u001b[0;34m\u001b[0m\u001b[0m\n\u001b[0;32m---> 93\u001b[0;31m             \u001b[0mutil_a\u001b[0m \u001b[0;34m=\u001b[0m \u001b[0ma\u001b[0m\u001b[0;34m[\u001b[0m\u001b[0;36m0\u001b[0m\u001b[0;34m]\u001b[0m\u001b[0;34m[\u001b[0m\u001b[0mi\u001b[0m\u001b[0;34m]\u001b[0m\u001b[0;34m.\u001b[0m\u001b[0my\u001b[0m\u001b[0;34m\u001b[0m\u001b[0;34m\u001b[0m\u001b[0m\n\u001b[0m\u001b[1;32m     94\u001b[0m             \u001b[0mutil_b\u001b[0m \u001b[0;34m=\u001b[0m \u001b[0mb\u001b[0m\u001b[0;34m[\u001b[0m\u001b[0;36m0\u001b[0m\u001b[0;34m]\u001b[0m\u001b[0;34m[\u001b[0m\u001b[0mi\u001b[0m\u001b[0;34m]\u001b[0m\u001b[0;34m.\u001b[0m\u001b[0my\u001b[0m\u001b[0;34m\u001b[0m\u001b[0;34m\u001b[0m\u001b[0m\n\u001b[1;32m     95\u001b[0m             \u001b[0;32mif\u001b[0m \u001b[0mutil_a\u001b[0m \u001b[0;34m>=\u001b[0m \u001b[0mutil_b\u001b[0m\u001b[0;34m:\u001b[0m\u001b[0;34m\u001b[0m\u001b[0;34m\u001b[0m\u001b[0m\n",
      "\u001b[0;31mIndexError\u001b[0m: index 1 is out of bounds for axis 0 with size 1"
     ]
    }
   ],
   "source": [
    "dl = CustomDataLoader(dataset_test)"
   ]
  },
  {
   "cell_type": "code",
   "execution_count": null,
   "id": "4d7f7062",
   "metadata": {},
   "outputs": [],
   "source": []
  },
  {
   "cell_type": "code",
   "execution_count": null,
   "id": "6de09f06",
   "metadata": {},
   "outputs": [],
   "source": []
  },
  {
   "cell_type": "code",
   "execution_count": null,
   "id": "7b33143a",
   "metadata": {},
   "outputs": [],
   "source": []
  },
  {
   "cell_type": "code",
   "execution_count": null,
   "id": "b42f81b1",
   "metadata": {},
   "outputs": [],
   "source": []
  },
  {
   "cell_type": "code",
   "execution_count": null,
   "id": "760c103b",
   "metadata": {},
   "outputs": [],
   "source": []
  },
  {
   "cell_type": "code",
   "execution_count": null,
   "id": "f03e865f",
   "metadata": {},
   "outputs": [],
   "source": []
  },
  {
   "cell_type": "code",
   "execution_count": null,
   "id": "1b354e7b",
   "metadata": {},
   "outputs": [],
   "source": []
  },
  {
   "cell_type": "code",
   "execution_count": null,
   "id": "2023f234",
   "metadata": {},
   "outputs": [],
   "source": []
  },
  {
   "cell_type": "code",
   "execution_count": null,
   "id": "103e688f",
   "metadata": {},
   "outputs": [],
   "source": []
  },
  {
   "cell_type": "code",
   "execution_count": 38,
   "id": "348229b2",
   "metadata": {},
   "outputs": [],
   "source": [
    "import tensorflow as tf\n",
    "from tensorflow.keras.layers import Dense\n",
    "from spektral.layers import ECCConv\n",
    "\n",
    "\n",
    "class PRGNN(tf.keras.Model):\n",
    "    def __init__(self, config):\n",
    "        super().__init__()\n",
    "        self.conv1 = ECCConv(32, activation=\"relu\")\n",
    "        self.conv2 = ECCConv(32, activation=\"relu\")\n",
    "        self.dense = Dense(config['n_out'], activation=None)\n",
    "\n",
    "    def call(self, inputs):#, training=False\n",
    "        x, a, e, i, idx_a, idx_b = inputs\n",
    "        #print(x)\n",
    "        #print(a)\n",
    "        #print(e)\n",
    "        #print(idx_a)\n",
    "        #print(idx_b)\n",
    "\n",
    "        x = tf.cast(x, tf.float32)\n",
    "        a = a.with_values(tf.cast(a.values, tf.float32))\n",
    "        e = tf.cast(e, tf.float32)\n",
    "\n",
    "        X = self.conv1([x, a, e])\n",
    "        X = self.conv2([X, a, e])\n",
    "        X_util = self.dense(X)\n",
    "        X_a, X_b = self.pref_lookup(X_util, idx_a, idx_b)\n",
    "        print(X_b - X_a)\n",
    "        #assert False\n",
    "        return X_b - X_a\n",
    "        # if training:\n",
    "        #     return X_b - X_a\n",
    "        # else:\n",
    "        #     return X_util\n",
    "\n",
    "        # return X_b - X_a, X_util\n",
    "\n",
    "    def pref_lookup(self, X, pref_a, pref_b):\n",
    "\n",
    "        X_a = tf.gather(X, pref_a, axis=0)\n",
    "        X_b = tf.gather(X, pref_b, axis=0)\n",
    "\n",
    "        return X_a, X_b"
   ]
  },
  {
   "cell_type": "code",
   "execution_count": 39,
   "id": "300a316f",
   "metadata": {},
   "outputs": [
    {
     "name": "stdout",
     "output_type": "stream",
     "text": [
      "[ 9 54 18 ...  7 17 20]\n",
      "tf.Tensor(\n",
      "[[-0.8973114 ]\n",
      " [ 2.445302  ]\n",
      " [-0.06859034]\n",
      " ...\n",
      " [-2.1251192 ]\n",
      " [-0.30545223]\n",
      " [-0.11459565]], shape=(2016, 1), dtype=float32)\n",
      "Epoch 1/2\n"
     ]
    },
    {
     "ename": "AttributeError",
     "evalue": "in user code:\n\n    /Users/sophia.schubert/miniconda3/envs/experiment/lib/python3.6/site-packages/keras/engine/training.py:853 train_function  *\n        return step_function(self, iterator)\n    <ipython-input-38-7da32289c574>:22 call  *\n        a = a.with_values(tf.cast(a.values, tf.float32))\n    /Users/sophia.schubert/miniconda3/envs/experiment/lib/python3.6/site-packages/tensorflow/python/framework/ops.py:401 __getattr__\n        self.__getattribute__(name)\n\n    AttributeError: 'Tensor' object has no attribute 'with_values'\n",
     "output_type": "error",
     "traceback": [
      "\u001b[0;31m---------------------------------------------------------------------------\u001b[0m",
      "\u001b[0;31mAttributeError\u001b[0m                            Traceback (most recent call last)",
      "\u001b[0;32m<ipython-input-39-bb1964b140c2>\u001b[0m in \u001b[0;36m<module>\u001b[0;34m\u001b[0m\n\u001b[1;32m     12\u001b[0m \u001b[0;34m\u001b[0m\u001b[0m\n\u001b[1;32m     13\u001b[0m \u001b[0;31m# Fit model\u001b[0m\u001b[0;34m\u001b[0m\u001b[0;34m\u001b[0m\u001b[0;34m\u001b[0m\u001b[0m\n\u001b[0;32m---> 14\u001b[0;31m \u001b[0mmodel\u001b[0m\u001b[0;34m.\u001b[0m\u001b[0mfit\u001b[0m\u001b[0;34m(\u001b[0m\u001b[0mdata_loader\u001b[0m\u001b[0;34m,\u001b[0m \u001b[0mepochs\u001b[0m\u001b[0;34m=\u001b[0m\u001b[0;36m2\u001b[0m\u001b[0;34m,\u001b[0m \u001b[0mverbose\u001b[0m\u001b[0;34m=\u001b[0m\u001b[0;36m1\u001b[0m\u001b[0;34m)\u001b[0m\u001b[0;34m\u001b[0m\u001b[0;34m\u001b[0m\u001b[0m\n\u001b[0m",
      "\u001b[0;32m~/miniconda3/envs/experiment/lib/python3.6/site-packages/keras/engine/training.py\u001b[0m in \u001b[0;36mfit\u001b[0;34m(self, x, y, batch_size, epochs, verbose, callbacks, validation_split, validation_data, shuffle, class_weight, sample_weight, initial_epoch, steps_per_epoch, validation_steps, validation_batch_size, validation_freq, max_queue_size, workers, use_multiprocessing)\u001b[0m\n\u001b[1;32m   1182\u001b[0m                 _r=1):\n\u001b[1;32m   1183\u001b[0m               \u001b[0mcallbacks\u001b[0m\u001b[0;34m.\u001b[0m\u001b[0mon_train_batch_begin\u001b[0m\u001b[0;34m(\u001b[0m\u001b[0mstep\u001b[0m\u001b[0;34m)\u001b[0m\u001b[0;34m\u001b[0m\u001b[0;34m\u001b[0m\u001b[0m\n\u001b[0;32m-> 1184\u001b[0;31m               \u001b[0mtmp_logs\u001b[0m \u001b[0;34m=\u001b[0m \u001b[0mself\u001b[0m\u001b[0;34m.\u001b[0m\u001b[0mtrain_function\u001b[0m\u001b[0;34m(\u001b[0m\u001b[0miterator\u001b[0m\u001b[0;34m)\u001b[0m\u001b[0;34m\u001b[0m\u001b[0;34m\u001b[0m\u001b[0m\n\u001b[0m\u001b[1;32m   1185\u001b[0m               \u001b[0;32mif\u001b[0m \u001b[0mdata_handler\u001b[0m\u001b[0;34m.\u001b[0m\u001b[0mshould_sync\u001b[0m\u001b[0;34m:\u001b[0m\u001b[0;34m\u001b[0m\u001b[0;34m\u001b[0m\u001b[0m\n\u001b[1;32m   1186\u001b[0m                 \u001b[0mcontext\u001b[0m\u001b[0;34m.\u001b[0m\u001b[0masync_wait\u001b[0m\u001b[0;34m(\u001b[0m\u001b[0;34m)\u001b[0m\u001b[0;34m\u001b[0m\u001b[0;34m\u001b[0m\u001b[0m\n",
      "\u001b[0;32m~/miniconda3/envs/experiment/lib/python3.6/site-packages/tensorflow/python/eager/def_function.py\u001b[0m in \u001b[0;36m__call__\u001b[0;34m(self, *args, **kwds)\u001b[0m\n\u001b[1;32m    883\u001b[0m \u001b[0;34m\u001b[0m\u001b[0m\n\u001b[1;32m    884\u001b[0m       \u001b[0;32mwith\u001b[0m \u001b[0mOptionalXlaContext\u001b[0m\u001b[0;34m(\u001b[0m\u001b[0mself\u001b[0m\u001b[0;34m.\u001b[0m\u001b[0m_jit_compile\u001b[0m\u001b[0;34m)\u001b[0m\u001b[0;34m:\u001b[0m\u001b[0;34m\u001b[0m\u001b[0;34m\u001b[0m\u001b[0m\n\u001b[0;32m--> 885\u001b[0;31m         \u001b[0mresult\u001b[0m \u001b[0;34m=\u001b[0m \u001b[0mself\u001b[0m\u001b[0;34m.\u001b[0m\u001b[0m_call\u001b[0m\u001b[0;34m(\u001b[0m\u001b[0;34m*\u001b[0m\u001b[0margs\u001b[0m\u001b[0;34m,\u001b[0m \u001b[0;34m**\u001b[0m\u001b[0mkwds\u001b[0m\u001b[0;34m)\u001b[0m\u001b[0;34m\u001b[0m\u001b[0;34m\u001b[0m\u001b[0m\n\u001b[0m\u001b[1;32m    886\u001b[0m \u001b[0;34m\u001b[0m\u001b[0m\n\u001b[1;32m    887\u001b[0m       \u001b[0mnew_tracing_count\u001b[0m \u001b[0;34m=\u001b[0m \u001b[0mself\u001b[0m\u001b[0;34m.\u001b[0m\u001b[0mexperimental_get_tracing_count\u001b[0m\u001b[0;34m(\u001b[0m\u001b[0;34m)\u001b[0m\u001b[0;34m\u001b[0m\u001b[0;34m\u001b[0m\u001b[0m\n",
      "\u001b[0;32m~/miniconda3/envs/experiment/lib/python3.6/site-packages/tensorflow/python/eager/def_function.py\u001b[0m in \u001b[0;36m_call\u001b[0;34m(self, *args, **kwds)\u001b[0m\n\u001b[1;32m    931\u001b[0m       \u001b[0;31m# This is the first call of __call__, so we have to initialize.\u001b[0m\u001b[0;34m\u001b[0m\u001b[0;34m\u001b[0m\u001b[0;34m\u001b[0m\u001b[0m\n\u001b[1;32m    932\u001b[0m       \u001b[0minitializers\u001b[0m \u001b[0;34m=\u001b[0m \u001b[0;34m[\u001b[0m\u001b[0;34m]\u001b[0m\u001b[0;34m\u001b[0m\u001b[0;34m\u001b[0m\u001b[0m\n\u001b[0;32m--> 933\u001b[0;31m       \u001b[0mself\u001b[0m\u001b[0;34m.\u001b[0m\u001b[0m_initialize\u001b[0m\u001b[0;34m(\u001b[0m\u001b[0margs\u001b[0m\u001b[0;34m,\u001b[0m \u001b[0mkwds\u001b[0m\u001b[0;34m,\u001b[0m \u001b[0madd_initializers_to\u001b[0m\u001b[0;34m=\u001b[0m\u001b[0minitializers\u001b[0m\u001b[0;34m)\u001b[0m\u001b[0;34m\u001b[0m\u001b[0;34m\u001b[0m\u001b[0m\n\u001b[0m\u001b[1;32m    934\u001b[0m     \u001b[0;32mfinally\u001b[0m\u001b[0;34m:\u001b[0m\u001b[0;34m\u001b[0m\u001b[0;34m\u001b[0m\u001b[0m\n\u001b[1;32m    935\u001b[0m       \u001b[0;31m# At this point we know that the initialization is complete (or less\u001b[0m\u001b[0;34m\u001b[0m\u001b[0;34m\u001b[0m\u001b[0;34m\u001b[0m\u001b[0m\n",
      "\u001b[0;32m~/miniconda3/envs/experiment/lib/python3.6/site-packages/tensorflow/python/eager/def_function.py\u001b[0m in \u001b[0;36m_initialize\u001b[0;34m(self, args, kwds, add_initializers_to)\u001b[0m\n\u001b[1;32m    758\u001b[0m     self._concrete_stateful_fn = (\n\u001b[1;32m    759\u001b[0m         self._stateful_fn._get_concrete_function_internal_garbage_collected(  # pylint: disable=protected-access\n\u001b[0;32m--> 760\u001b[0;31m             *args, **kwds))\n\u001b[0m\u001b[1;32m    761\u001b[0m \u001b[0;34m\u001b[0m\u001b[0m\n\u001b[1;32m    762\u001b[0m     \u001b[0;32mdef\u001b[0m \u001b[0minvalid_creator_scope\u001b[0m\u001b[0;34m(\u001b[0m\u001b[0;34m*\u001b[0m\u001b[0munused_args\u001b[0m\u001b[0;34m,\u001b[0m \u001b[0;34m**\u001b[0m\u001b[0munused_kwds\u001b[0m\u001b[0;34m)\u001b[0m\u001b[0;34m:\u001b[0m\u001b[0;34m\u001b[0m\u001b[0;34m\u001b[0m\u001b[0m\n",
      "\u001b[0;32m~/miniconda3/envs/experiment/lib/python3.6/site-packages/tensorflow/python/eager/function.py\u001b[0m in \u001b[0;36m_get_concrete_function_internal_garbage_collected\u001b[0;34m(self, *args, **kwargs)\u001b[0m\n\u001b[1;32m   3064\u001b[0m       \u001b[0margs\u001b[0m\u001b[0;34m,\u001b[0m \u001b[0mkwargs\u001b[0m \u001b[0;34m=\u001b[0m \u001b[0;32mNone\u001b[0m\u001b[0;34m,\u001b[0m \u001b[0;32mNone\u001b[0m\u001b[0;34m\u001b[0m\u001b[0;34m\u001b[0m\u001b[0m\n\u001b[1;32m   3065\u001b[0m     \u001b[0;32mwith\u001b[0m \u001b[0mself\u001b[0m\u001b[0;34m.\u001b[0m\u001b[0m_lock\u001b[0m\u001b[0;34m:\u001b[0m\u001b[0;34m\u001b[0m\u001b[0;34m\u001b[0m\u001b[0m\n\u001b[0;32m-> 3066\u001b[0;31m       \u001b[0mgraph_function\u001b[0m\u001b[0;34m,\u001b[0m \u001b[0m_\u001b[0m \u001b[0;34m=\u001b[0m \u001b[0mself\u001b[0m\u001b[0;34m.\u001b[0m\u001b[0m_maybe_define_function\u001b[0m\u001b[0;34m(\u001b[0m\u001b[0margs\u001b[0m\u001b[0;34m,\u001b[0m \u001b[0mkwargs\u001b[0m\u001b[0;34m)\u001b[0m\u001b[0;34m\u001b[0m\u001b[0;34m\u001b[0m\u001b[0m\n\u001b[0m\u001b[1;32m   3067\u001b[0m     \u001b[0;32mreturn\u001b[0m \u001b[0mgraph_function\u001b[0m\u001b[0;34m\u001b[0m\u001b[0;34m\u001b[0m\u001b[0m\n\u001b[1;32m   3068\u001b[0m \u001b[0;34m\u001b[0m\u001b[0m\n",
      "\u001b[0;32m~/miniconda3/envs/experiment/lib/python3.6/site-packages/tensorflow/python/eager/function.py\u001b[0m in \u001b[0;36m_maybe_define_function\u001b[0;34m(self, args, kwargs)\u001b[0m\n\u001b[1;32m   3461\u001b[0m \u001b[0;34m\u001b[0m\u001b[0m\n\u001b[1;32m   3462\u001b[0m           \u001b[0mself\u001b[0m\u001b[0;34m.\u001b[0m\u001b[0m_function_cache\u001b[0m\u001b[0;34m.\u001b[0m\u001b[0mmissed\u001b[0m\u001b[0;34m.\u001b[0m\u001b[0madd\u001b[0m\u001b[0;34m(\u001b[0m\u001b[0mcall_context_key\u001b[0m\u001b[0;34m)\u001b[0m\u001b[0;34m\u001b[0m\u001b[0;34m\u001b[0m\u001b[0m\n\u001b[0;32m-> 3463\u001b[0;31m           \u001b[0mgraph_function\u001b[0m \u001b[0;34m=\u001b[0m \u001b[0mself\u001b[0m\u001b[0;34m.\u001b[0m\u001b[0m_create_graph_function\u001b[0m\u001b[0;34m(\u001b[0m\u001b[0margs\u001b[0m\u001b[0;34m,\u001b[0m \u001b[0mkwargs\u001b[0m\u001b[0;34m)\u001b[0m\u001b[0;34m\u001b[0m\u001b[0;34m\u001b[0m\u001b[0m\n\u001b[0m\u001b[1;32m   3464\u001b[0m           \u001b[0mself\u001b[0m\u001b[0;34m.\u001b[0m\u001b[0m_function_cache\u001b[0m\u001b[0;34m.\u001b[0m\u001b[0mprimary\u001b[0m\u001b[0;34m[\u001b[0m\u001b[0mcache_key\u001b[0m\u001b[0;34m]\u001b[0m \u001b[0;34m=\u001b[0m \u001b[0mgraph_function\u001b[0m\u001b[0;34m\u001b[0m\u001b[0;34m\u001b[0m\u001b[0m\n\u001b[1;32m   3465\u001b[0m \u001b[0;34m\u001b[0m\u001b[0m\n",
      "\u001b[0;32m~/miniconda3/envs/experiment/lib/python3.6/site-packages/tensorflow/python/eager/function.py\u001b[0m in \u001b[0;36m_create_graph_function\u001b[0;34m(self, args, kwargs, override_flat_arg_shapes)\u001b[0m\n\u001b[1;32m   3306\u001b[0m             \u001b[0marg_names\u001b[0m\u001b[0;34m=\u001b[0m\u001b[0marg_names\u001b[0m\u001b[0;34m,\u001b[0m\u001b[0;34m\u001b[0m\u001b[0;34m\u001b[0m\u001b[0m\n\u001b[1;32m   3307\u001b[0m             \u001b[0moverride_flat_arg_shapes\u001b[0m\u001b[0;34m=\u001b[0m\u001b[0moverride_flat_arg_shapes\u001b[0m\u001b[0;34m,\u001b[0m\u001b[0;34m\u001b[0m\u001b[0;34m\u001b[0m\u001b[0m\n\u001b[0;32m-> 3308\u001b[0;31m             capture_by_value=self._capture_by_value),\n\u001b[0m\u001b[1;32m   3309\u001b[0m         \u001b[0mself\u001b[0m\u001b[0;34m.\u001b[0m\u001b[0m_function_attributes\u001b[0m\u001b[0;34m,\u001b[0m\u001b[0;34m\u001b[0m\u001b[0;34m\u001b[0m\u001b[0m\n\u001b[1;32m   3310\u001b[0m         \u001b[0mfunction_spec\u001b[0m\u001b[0;34m=\u001b[0m\u001b[0mself\u001b[0m\u001b[0;34m.\u001b[0m\u001b[0mfunction_spec\u001b[0m\u001b[0;34m,\u001b[0m\u001b[0;34m\u001b[0m\u001b[0;34m\u001b[0m\u001b[0m\n",
      "\u001b[0;32m~/miniconda3/envs/experiment/lib/python3.6/site-packages/tensorflow/python/framework/func_graph.py\u001b[0m in \u001b[0;36mfunc_graph_from_py_func\u001b[0;34m(name, python_func, args, kwargs, signature, func_graph, autograph, autograph_options, add_control_dependencies, arg_names, op_return_value, collections, capture_by_value, override_flat_arg_shapes, acd_record_initial_resource_uses)\u001b[0m\n\u001b[1;32m   1005\u001b[0m         \u001b[0m_\u001b[0m\u001b[0;34m,\u001b[0m \u001b[0moriginal_func\u001b[0m \u001b[0;34m=\u001b[0m \u001b[0mtf_decorator\u001b[0m\u001b[0;34m.\u001b[0m\u001b[0munwrap\u001b[0m\u001b[0;34m(\u001b[0m\u001b[0mpython_func\u001b[0m\u001b[0;34m)\u001b[0m\u001b[0;34m\u001b[0m\u001b[0;34m\u001b[0m\u001b[0m\n\u001b[1;32m   1006\u001b[0m \u001b[0;34m\u001b[0m\u001b[0m\n\u001b[0;32m-> 1007\u001b[0;31m       \u001b[0mfunc_outputs\u001b[0m \u001b[0;34m=\u001b[0m \u001b[0mpython_func\u001b[0m\u001b[0;34m(\u001b[0m\u001b[0;34m*\u001b[0m\u001b[0mfunc_args\u001b[0m\u001b[0;34m,\u001b[0m \u001b[0;34m**\u001b[0m\u001b[0mfunc_kwargs\u001b[0m\u001b[0;34m)\u001b[0m\u001b[0;34m\u001b[0m\u001b[0;34m\u001b[0m\u001b[0m\n\u001b[0m\u001b[1;32m   1008\u001b[0m \u001b[0;34m\u001b[0m\u001b[0m\n\u001b[1;32m   1009\u001b[0m       \u001b[0;31m# invariant: `func_outputs` contains only Tensors, CompositeTensors,\u001b[0m\u001b[0;34m\u001b[0m\u001b[0;34m\u001b[0m\u001b[0;34m\u001b[0m\u001b[0m\n",
      "\u001b[0;32m~/miniconda3/envs/experiment/lib/python3.6/site-packages/tensorflow/python/eager/def_function.py\u001b[0m in \u001b[0;36mwrapped_fn\u001b[0;34m(*args, **kwds)\u001b[0m\n\u001b[1;32m    666\u001b[0m         \u001b[0;31m# the function a weak reference to itself to avoid a reference cycle.\u001b[0m\u001b[0;34m\u001b[0m\u001b[0;34m\u001b[0m\u001b[0;34m\u001b[0m\u001b[0m\n\u001b[1;32m    667\u001b[0m         \u001b[0;32mwith\u001b[0m \u001b[0mOptionalXlaContext\u001b[0m\u001b[0;34m(\u001b[0m\u001b[0mcompile_with_xla\u001b[0m\u001b[0;34m)\u001b[0m\u001b[0;34m:\u001b[0m\u001b[0;34m\u001b[0m\u001b[0;34m\u001b[0m\u001b[0m\n\u001b[0;32m--> 668\u001b[0;31m           \u001b[0mout\u001b[0m \u001b[0;34m=\u001b[0m \u001b[0mweak_wrapped_fn\u001b[0m\u001b[0;34m(\u001b[0m\u001b[0;34m)\u001b[0m\u001b[0;34m.\u001b[0m\u001b[0m__wrapped__\u001b[0m\u001b[0;34m(\u001b[0m\u001b[0;34m*\u001b[0m\u001b[0margs\u001b[0m\u001b[0;34m,\u001b[0m \u001b[0;34m**\u001b[0m\u001b[0mkwds\u001b[0m\u001b[0;34m)\u001b[0m\u001b[0;34m\u001b[0m\u001b[0;34m\u001b[0m\u001b[0m\n\u001b[0m\u001b[1;32m    669\u001b[0m         \u001b[0;32mreturn\u001b[0m \u001b[0mout\u001b[0m\u001b[0;34m\u001b[0m\u001b[0;34m\u001b[0m\u001b[0m\n\u001b[1;32m    670\u001b[0m \u001b[0;34m\u001b[0m\u001b[0m\n",
      "\u001b[0;32m~/miniconda3/envs/experiment/lib/python3.6/site-packages/tensorflow/python/framework/func_graph.py\u001b[0m in \u001b[0;36mwrapper\u001b[0;34m(*args, **kwargs)\u001b[0m\n\u001b[1;32m    992\u001b[0m           \u001b[0;32mexcept\u001b[0m \u001b[0mException\u001b[0m \u001b[0;32mas\u001b[0m \u001b[0me\u001b[0m\u001b[0;34m:\u001b[0m  \u001b[0;31m# pylint:disable=broad-except\u001b[0m\u001b[0;34m\u001b[0m\u001b[0;34m\u001b[0m\u001b[0m\n\u001b[1;32m    993\u001b[0m             \u001b[0;32mif\u001b[0m \u001b[0mhasattr\u001b[0m\u001b[0;34m(\u001b[0m\u001b[0me\u001b[0m\u001b[0;34m,\u001b[0m \u001b[0;34m\"ag_error_metadata\"\u001b[0m\u001b[0;34m)\u001b[0m\u001b[0;34m:\u001b[0m\u001b[0;34m\u001b[0m\u001b[0;34m\u001b[0m\u001b[0m\n\u001b[0;32m--> 994\u001b[0;31m               \u001b[0;32mraise\u001b[0m \u001b[0me\u001b[0m\u001b[0;34m.\u001b[0m\u001b[0mag_error_metadata\u001b[0m\u001b[0;34m.\u001b[0m\u001b[0mto_exception\u001b[0m\u001b[0;34m(\u001b[0m\u001b[0me\u001b[0m\u001b[0;34m)\u001b[0m\u001b[0;34m\u001b[0m\u001b[0;34m\u001b[0m\u001b[0m\n\u001b[0m\u001b[1;32m    995\u001b[0m             \u001b[0;32melse\u001b[0m\u001b[0;34m:\u001b[0m\u001b[0;34m\u001b[0m\u001b[0;34m\u001b[0m\u001b[0m\n\u001b[1;32m    996\u001b[0m               \u001b[0;32mraise\u001b[0m\u001b[0;34m\u001b[0m\u001b[0;34m\u001b[0m\u001b[0m\n",
      "\u001b[0;31mAttributeError\u001b[0m: in user code:\n\n    /Users/sophia.schubert/miniconda3/envs/experiment/lib/python3.6/site-packages/keras/engine/training.py:853 train_function  *\n        return step_function(self, iterator)\n    <ipython-input-38-7da32289c574>:22 call  *\n        a = a.with_values(tf.cast(a.values, tf.float32))\n    /Users/sophia.schubert/miniconda3/envs/experiment/lib/python3.6/site-packages/tensorflow/python/framework/ops.py:401 __getattr__\n        self.__getattribute__(name)\n\n    AttributeError: 'Tensor' object has no attribute 'with_values'\n"
     ]
    }
   ],
   "source": [
    "# Create DataLoader\n",
    "batch_size = 64\n",
    "sampling_ratio=4\n",
    "data_loader = CustomDataLoader(dataset_test, batch_size=batch_size, sampling_ratio=sampling_ratio)\n",
    "\n",
    "# Example model\n",
    "model = PRGNN(config)\n",
    "\n",
    "model.compile(optimizer=Adam(config['learning_rate']),\n",
    "              loss=BinaryCrossentropy(from_logits=True),\n",
    "              metrics=[BinaryAccuracy(threshold=.5)])\n",
    "\n",
    "# Fit model\n",
    "model.fit(data_loader, epochs=50, verbose=1)"
   ]
  },
  {
   "cell_type": "code",
   "execution_count": 40,
   "id": "eb150387",
   "metadata": {},
   "outputs": [],
   "source": [
    "a = zip([1,2,3],[4,5,6])"
   ]
  },
  {
   "cell_type": "code",
   "execution_count": 41,
   "id": "c05f3a12",
   "metadata": {},
   "outputs": [
    {
     "data": {
      "text/plain": [
       "<zip at 0x7f9688908f08>"
      ]
     },
     "execution_count": 41,
     "metadata": {},
     "output_type": "execute_result"
    }
   ],
   "source": [
    "a"
   ]
  },
  {
   "cell_type": "code",
   "execution_count": 43,
   "id": "33c6594e",
   "metadata": {},
   "outputs": [],
   "source": [
    "a = list(a)"
   ]
  },
  {
   "cell_type": "code",
   "execution_count": 45,
   "id": "a7924d1a",
   "metadata": {},
   "outputs": [
    {
     "data": {
      "text/plain": [
       "(2, 5)"
      ]
     },
     "execution_count": 45,
     "metadata": {},
     "output_type": "execute_result"
    }
   ],
   "source": [
    "a[1]"
   ]
  },
  {
   "cell_type": "code",
   "execution_count": null,
   "id": "4ef62475",
   "metadata": {},
   "outputs": [],
   "source": []
  }
 ],
 "metadata": {
  "kernelspec": {
   "display_name": "Python 3",
   "language": "python",
   "name": "python3"
  },
  "language_info": {
   "codemirror_mode": {
    "name": "ipython",
    "version": 3
   },
   "file_extension": ".py",
   "mimetype": "text/x-python",
   "name": "python",
   "nbconvert_exporter": "python",
   "pygments_lexer": "ipython3",
   "version": "3.6.13"
  }
 },
 "nbformat": 4,
 "nbformat_minor": 5
}
