{
 "cells": [
  {
   "cell_type": "code",
   "execution_count": 4,
   "id": "8445d7f0",
   "metadata": {},
   "outputs": [],
   "source": [
    "#import spektral\n",
    "import numpy as np\n",
    "import tensorflow as tf\n",
    "from ogb.graphproppred import GraphPropPredDataset\n",
    "#from spektral.data import Dataset, Graph\n",
    "#from spektral.datasets import TUDataset, QM9\n"
   ]
  },
  {
   "cell_type": "code",
   "execution_count": 46,
   "id": "f6158171",
   "metadata": {},
   "outputs": [],
   "source": [
    "config = {\n",
    "    'seed': 1,\n",
    "    'epochs': 10,\n",
    "    'batch_size': 32,\n",
    "    'learning_rate': 0.001,\n",
    "    'dataset': 'ogbg-molesol', #JA: QM9, ogbg-molesol, ogbg-molfreesolv, ogbg-mollipo, ZINC| NEIN: aspirin\n",
    "    'train_test_split': 0.8\n",
    "}\n",
    "\n",
    "np.random.seed(config['seed'])\n",
    "tf.random.set_seed(config['seed'])"
   ]
  },
  {
   "cell_type": "code",
   "execution_count": 47,
   "id": "d9cd1aa1",
   "metadata": {},
   "outputs": [],
   "source": [
    "class OGBDataset(Dataset):\n",
    "    '''\n",
    "    (spektral) Dataset class wrapper for Open Graph Benchmark datasets.\n",
    "    '''\n",
    "    def __init__(self, name, **kwargs):\n",
    "        self.name = name\n",
    "        super().__init__(**kwargs)\n",
    "\n",
    "    def read(self):\n",
    "        dataset = GraphPropPredDataset(name=self.name)\n",
    "        graphs = []\n",
    "        for data in dataset:\n",
    "            edge_index = data[0]['edge_index']\n",
    "            edge_feat = data[0]['edge_feat']\n",
    "            node_feat = data[0]['node_feat']\n",
    "            label = data[1]\n",
    "\n",
    "            # Create adjacency matrix\n",
    "            num_nodes = node_feat.shape[0]\n",
    "            adj = np.zeros((num_nodes, num_nodes))\n",
    "            for edge in edge_index.T:\n",
    "                adj[edge[0], edge[1]] = 1\n",
    "\n",
    "            # Create spektral Graph object\n",
    "            graphs.append(Graph(x=node_feat, a=adj, e=edge_feat, y=label))\n",
    "            \n",
    "        self.size = len(graphs)\n",
    "\n",
    "        return graphs\n",
    "\n",
    "def ogb_available_datasets():\n",
    "    #These regression datasets have size % 2 == 0 number of graphs\n",
    "    return ['ogbg-molesol', 'ogbg-molfreesolv', 'ogbg-mollipo']"
   ]
  },
  {
   "cell_type": "code",
   "execution_count": 48,
   "id": "d5122967",
   "metadata": {},
   "outputs": [],
   "source": [
    "def _load_data(name: str):\n",
    "    '''\n",
    "    Loads a dataset from [TUDataset, OGB]\n",
    "    '''\n",
    "    if name in ogb_available_datasets():\n",
    "        dataset= OGBDataset(name)\n",
    "    else:\n",
    "        raise ValueError(f'Dataset {name} unknown')\n",
    "\n",
    "    return dataset, dataset.n_labels"
   ]
  },
  {
   "cell_type": "code",
   "execution_count": 49,
   "id": "313cc5f4",
   "metadata": {},
   "outputs": [],
   "source": [
    "def _split_data(data, train_test_split, seed):\n",
    "    '''\n",
    "    Split the data into train and test sets\n",
    "    '''\n",
    "    np.random.seed(seed)\n",
    "    idxs = np.random.permutation(len(data))\n",
    "    split = int(train_test_split * len(data))\n",
    "    idx_train, idx_test = np.split(idxs, [split])\n",
    "    train, test = data[idx_train], data[idx_test]\n",
    "    train.size = len(train)\n",
    "    test.size = len(test)\n",
    "    return train, test"
   ]
  },
  {
   "cell_type": "code",
   "execution_count": 50,
   "id": "1bd00116",
   "metadata": {},
   "outputs": [],
   "source": [
    "def get_data(config):\n",
    "    seed = config['seed']\n",
    "    train_test_split = config['train_test_split']\n",
    "    name = config['dataset']\n",
    "\n",
    "    # Load data\n",
    "    data, config['n_out'] = _load_data(name)\n",
    "    # Split data\n",
    "    train_data, test_data = _split_data(data, train_test_split, seed)\n",
    "\n",
    "    return train_data, test_data"
   ]
  },
  {
   "cell_type": "code",
   "execution_count": 51,
   "id": "3feb653d",
   "metadata": {},
   "outputs": [],
   "source": [
    "physical_devices = tf.config.list_physical_devices('GPU')\n",
    "if len(physical_devices) > 0:\n",
    "    tf.config.experimental.set_memory_growth(physical_devices[0], True)"
   ]
  },
  {
   "cell_type": "code",
   "execution_count": 52,
   "id": "10d4a358",
   "metadata": {},
   "outputs": [],
   "source": [
    "dataset_train, dataset_test = get_data(config)"
   ]
  },
  {
   "cell_type": "code",
   "execution_count": 53,
   "id": "93e3a2b6",
   "metadata": {},
   "outputs": [
    {
     "data": {
      "text/plain": [
       "(902, 226)"
      ]
     },
     "execution_count": 53,
     "metadata": {},
     "output_type": "execute_result"
    }
   ],
   "source": [
    "len(dataset_train), len(dataset_test)"
   ]
  },
  {
   "cell_type": "code",
   "execution_count": 54,
   "id": "1366fa9b",
   "metadata": {},
   "outputs": [
    {
     "data": {
      "text/plain": [
       "OGBDataset(n_graphs=902)"
      ]
     },
     "execution_count": 54,
     "metadata": {},
     "output_type": "execute_result"
    }
   ],
   "source": [
    "dataset_train"
   ]
  },
  {
   "cell_type": "code",
   "execution_count": 55,
   "id": "c6749e18",
   "metadata": {},
   "outputs": [
    {
     "data": {
      "text/plain": [
       "[array([-2.55]),\n",
       " array([-0.03]),\n",
       " array([-0.96]),\n",
       " array([-0.8]),\n",
       " array([-1.28]),\n",
       " array([-1.37]),\n",
       " array([-3.493]),\n",
       " array([-1.34]),\n",
       " array([-3.77]),\n",
       " array([1.11]),\n",
       " array([-5.28]),\n",
       " array([-1.44]),\n",
       " array([-4.57]),\n",
       " array([-4.871]),\n",
       " array([-3.46]),\n",
       " array([-5.68]),\n",
       " array([-1.03]),\n",
       " array([-0.62]),\n",
       " array([-3.499]),\n",
       " array([-3.45]),\n",
       " array([-4.4]),\n",
       " array([-7.85]),\n",
       " array([-5.05]),\n",
       " array([-2.843]),\n",
       " array([-3.091]),\n",
       " array([-2.523]),\n",
       " array([-2.484]),\n",
       " array([-3.2]),\n",
       " array([-6.876]),\n",
       " array([-3.18]),\n",
       " array([-3.65]),\n",
       " array([-0.45]),\n",
       " array([-3.54]),\n",
       " array([-4.63]),\n",
       " array([-6.09]),\n",
       " array([-1.6]),\n",
       " array([-3.04]),\n",
       " array([-2.78]),\n",
       " array([-0.63]),\n",
       " array([-8.4]),\n",
       " array([0.]),\n",
       " array([-5.47]),\n",
       " array([-4.36]),\n",
       " array([-2.03]),\n",
       " array([-4.376]),\n",
       " array([-6.124]),\n",
       " array([-6.291]),\n",
       " array([-3.953]),\n",
       " array([-2.92]),\n",
       " array([0.]),\n",
       " array([-4.805]),\n",
       " array([-5.26]),\n",
       " array([-1.23]),\n",
       " array([-2.41]),\n",
       " array([-4.2]),\n",
       " array([-4.4]),\n",
       " array([-6.9]),\n",
       " array([-1.74]),\n",
       " array([-3.14]),\n",
       " array([-0.62]),\n",
       " array([-5.19]),\n",
       " array([0.85]),\n",
       " array([-5.153]),\n",
       " array([-1.26]),\n",
       " array([-4.76]),\n",
       " array([-1.4]),\n",
       " array([-4.06]),\n",
       " array([-2.42]),\n",
       " array([-2.77]),\n",
       " array([-3.81]),\n",
       " array([-3.88]),\n",
       " array([-6.57]),\n",
       " array([-0.17]),\n",
       " array([-0.8]),\n",
       " array([-0.74]),\n",
       " array([-4.44]),\n",
       " array([-1.34]),\n",
       " array([-0.12]),\n",
       " array([-3.15]),\n",
       " array([-1.456]),\n",
       " array([-5.184]),\n",
       " array([-6.8]),\n",
       " array([-4.62]),\n",
       " array([-4.8]),\n",
       " array([-4.047]),\n",
       " array([-7.15]),\n",
       " array([-6.144]),\n",
       " array([-2.]),\n",
       " array([-3.952]),\n",
       " array([-2.57]),\n",
       " array([-6.49]),\n",
       " array([-4.77]),\n",
       " array([-0.4]),\n",
       " array([-3.571]),\n",
       " array([-3.63]),\n",
       " array([-3.12]),\n",
       " array([-4.594]),\n",
       " array([-2.932]),\n",
       " array([-2.28]),\n",
       " array([-4.42]),\n",
       " array([-3.536]),\n",
       " array([-3.82]),\n",
       " array([-1.1]),\n",
       " array([-7.2]),\n",
       " array([-1.886]),\n",
       " array([-3.09]),\n",
       " array([-5.21]),\n",
       " array([-2.06]),\n",
       " array([-4.16]),\n",
       " array([-5.37]),\n",
       " array([-5.72]),\n",
       " array([-3.01]),\n",
       " array([-1.46]),\n",
       " array([-4.]),\n",
       " array([-0.4]),\n",
       " array([-2.]),\n",
       " array([-3.24]),\n",
       " array([0.94]),\n",
       " array([-3.38]),\n",
       " array([-0.85]),\n",
       " array([-2.11]),\n",
       " array([-1.16]),\n",
       " array([-4.63]),\n",
       " array([-1.488]),\n",
       " array([-0.092]),\n",
       " array([-1.36]),\n",
       " array([-0.59]),\n",
       " array([-0.22]),\n",
       " array([-1.48]),\n",
       " array([-1.34]),\n",
       " array([-7.43]),\n",
       " array([-4.57]),\n",
       " array([-6.025]),\n",
       " array([-1.06]),\n",
       " array([-1.04]),\n",
       " array([-0.82]),\n",
       " array([-0.18]),\n",
       " array([0.32]),\n",
       " array([-4.13]),\n",
       " array([-3.59]),\n",
       " array([0.36]),\n",
       " array([-6.726]),\n",
       " array([-3.35]),\n",
       " array([-3.19]),\n",
       " array([-1.09]),\n",
       " array([-3.7]),\n",
       " array([-1.96]),\n",
       " array([-1.24]),\n",
       " array([-1.228]),\n",
       " array([-5.382]),\n",
       " array([-2.09]),\n",
       " array([-4.799]),\n",
       " array([-0.74]),\n",
       " array([-5.64]),\n",
       " array([-0.04]),\n",
       " array([-3.73]),\n",
       " array([-2.54]),\n",
       " array([-8.71]),\n",
       " array([-3.85]),\n",
       " array([-0.39]),\n",
       " array([-6.01]),\n",
       " array([-4.678]),\n",
       " array([-1.71]),\n",
       " array([-1.077]),\n",
       " array([-1.29]),\n",
       " array([-3.39]),\n",
       " array([-3.03]),\n",
       " array([-1.08]),\n",
       " array([-3.85]),\n",
       " array([-3.84]),\n",
       " array([-7.92]),\n",
       " array([-4.046]),\n",
       " array([-4.53]),\n",
       " array([-1.56]),\n",
       " array([-2.21]),\n",
       " array([-2.68]),\n",
       " array([-4.66]),\n",
       " array([-0.72]),\n",
       " array([-0.73]),\n",
       " array([-6.86]),\n",
       " array([-1.81]),\n",
       " array([-2.36]),\n",
       " array([-1.41]),\n",
       " array([-4.88]),\n",
       " array([-4.19]),\n",
       " array([-0.742]),\n",
       " array([-4.9]),\n",
       " array([-8.49]),\n",
       " array([-5.46]),\n",
       " array([-4.46]),\n",
       " array([-2.15]),\n",
       " array([-0.29]),\n",
       " array([-4.735]),\n",
       " array([-2.63]),\n",
       " array([-3.1]),\n",
       " array([-3.796]),\n",
       " array([-3.73]),\n",
       " array([-1.47]),\n",
       " array([-7.]),\n",
       " array([-1.11]),\n",
       " array([-0.85]),\n",
       " array([-7.21]),\n",
       " array([-3.5]),\n",
       " array([0.45]),\n",
       " array([-4.3]),\n",
       " array([-1.92]),\n",
       " array([-0.96]),\n",
       " array([-1.93]),\n",
       " array([-4.873]),\n",
       " array([-7.68]),\n",
       " array([-2.23]),\n",
       " array([-6.25]),\n",
       " array([-2.8]),\n",
       " array([-2.74]),\n",
       " array([-3.924]),\n",
       " array([-1.6]),\n",
       " array([-2.32]),\n",
       " array([-4.43]),\n",
       " array([-2.82]),\n",
       " array([-4.23]),\n",
       " array([-2.59]),\n",
       " array([-2.35]),\n",
       " array([-3.9]),\n",
       " array([-3.12]),\n",
       " array([-3.85]),\n",
       " array([-3.246])]"
      ]
     },
     "execution_count": 55,
     "metadata": {},
     "output_type": "execute_result"
    }
   ],
   "source": [
    "us = [g.y for g in dataset_test]\n",
    "us"
   ]
  },
  {
   "cell_type": "code",
   "execution_count": 56,
   "id": "5581e06b",
   "metadata": {},
   "outputs": [],
   "source": [
    "idx_sort = np.argsort(us, axis=0)"
   ]
  },
  {
   "cell_type": "code",
   "execution_count": 59,
   "id": "0cd26ce4",
   "metadata": {},
   "outputs": [],
   "source": [
    "a = dataset_train.size"
   ]
  },
  {
   "cell_type": "code",
   "execution_count": 60,
   "id": "ab71040d",
   "metadata": {},
   "outputs": [
    {
     "data": {
      "text/plain": [
       "902"
      ]
     },
     "execution_count": 60,
     "metadata": {},
     "output_type": "execute_result"
    }
   ],
   "source": [
    "a"
   ]
  },
  {
   "cell_type": "code",
   "execution_count": 61,
   "id": "ba9d2ee5",
   "metadata": {},
   "outputs": [],
   "source": [
    "def iterate_train_random(elements):\n",
    "    objects, sort_idx = elements#, _, sort_idx\n",
    "    olen = objects.size\n",
    "    seed = 42 + olen#self.seed\n",
    "    pair_count = (olen * (olen - 1)) // 2\n",
    "    sample_size = min(int(20 * pair_count), pair_count)#self.sample_ratio\n",
    "    rng = np.random.default_rng(seed)\n",
    "\n",
    "    sample = rng.choice(pair_count, sample_size, replace=False)\n",
    "    sample_b = (np.sqrt(sample * 2 + 1/4) + 1/2).astype(np.int)\n",
    "    sample_a = sample - (sample_b * (sample_b - 1)) // 2\n",
    "    idx_a = sort_idx[sample_a]\n",
    "    idx_b = sort_idx[sample_b]\n",
    "\n",
    "    yield from zip(idx_a, idx_b)"
   ]
  },
  {
   "cell_type": "code",
   "execution_count": 78,
   "id": "43e0969e",
   "metadata": {},
   "outputs": [],
   "source": [
    "dl = iterate_train_random((dataset_test, us))"
   ]
  },
  {
   "cell_type": "code",
   "execution_count": 81,
   "id": "887e3e12",
   "metadata": {},
   "outputs": [
    {
     "ename": "StopIteration",
     "evalue": "",
     "output_type": "error",
     "traceback": [
      "\u001b[0;31m---------------------------------------------------------------------------\u001b[0m",
      "\u001b[0;31mStopIteration\u001b[0m                             Traceback (most recent call last)",
      "\u001b[0;32m<ipython-input-81-6f7bfd72fe60>\u001b[0m in \u001b[0;36m<module>\u001b[0;34m\u001b[0m\n\u001b[1;32m      1\u001b[0m \u001b[0;32mwhile\u001b[0m \u001b[0;32mTrue\u001b[0m\u001b[0;34m:\u001b[0m\u001b[0;34m\u001b[0m\u001b[0;34m\u001b[0m\u001b[0m\n\u001b[0;32m----> 2\u001b[0;31m     \u001b[0mi\u001b[0m\u001b[0;34m,\u001b[0m\u001b[0mj\u001b[0m\u001b[0;34m=\u001b[0m\u001b[0mnext\u001b[0m\u001b[0;34m(\u001b[0m\u001b[0mdl\u001b[0m\u001b[0;34m)\u001b[0m\u001b[0;34m\u001b[0m\u001b[0;34m\u001b[0m\u001b[0m\n\u001b[0m\u001b[1;32m      3\u001b[0m     \u001b[0mprint\u001b[0m\u001b[0;34m(\u001b[0m\u001b[0mi\u001b[0m\u001b[0;34m,\u001b[0m\u001b[0mj\u001b[0m\u001b[0;34m)\u001b[0m\u001b[0;34m\u001b[0m\u001b[0;34m\u001b[0m\u001b[0m\n",
      "\u001b[0;31mStopIteration\u001b[0m: "
     ]
    }
   ],
   "source": [
    "while True:\n",
    "    i,j=next(dl)\n",
    "    print(i,j)"
   ]
  },
  {
   "cell_type": "code",
   "execution_count": 77,
   "id": "a5880631",
   "metadata": {},
   "outputs": [
    {
     "data": {
      "text/plain": [
       "902"
      ]
     },
     "execution_count": 77,
     "metadata": {},
     "output_type": "execute_result"
    }
   ],
   "source": [
    "a"
   ]
  },
  {
   "cell_type": "code",
   "execution_count": null,
   "id": "bb55f3ac",
   "metadata": {},
   "outputs": [],
   "source": []
  }
 ],
 "metadata": {
  "kernelspec": {
   "display_name": "Python 3",
   "language": "python",
   "name": "python3"
  },
  "language_info": {
   "codemirror_mode": {
    "name": "ipython",
    "version": 3
   },
   "file_extension": ".py",
   "mimetype": "text/x-python",
   "name": "python",
   "nbconvert_exporter": "python",
   "pygments_lexer": "ipython3",
   "version": "3.6.13"
  }
 },
 "nbformat": 4,
 "nbformat_minor": 5
}
