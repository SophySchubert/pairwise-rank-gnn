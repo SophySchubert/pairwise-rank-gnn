{
 "cells": [
  {
   "cell_type": "code",
   "execution_count": 1,
   "id": "8445d7f0",
   "metadata": {},
   "outputs": [
    {
     "name": "stderr",
     "output_type": "stream",
     "text": [
      "/Users/sophia.schubert/miniconda3/envs/experiment/lib/python3.6/site-packages/tqdm/auto.py:22: TqdmWarning: IProgress not found. Please update jupyter and ipywidgets. See https://ipywidgets.readthedocs.io/en/stable/user_install.html\n",
      "  from .autonotebook import tqdm as notebook_tqdm\n"
     ]
    }
   ],
   "source": [
    "#import spektral\n",
    "import numpy as np\n",
    "import tensorflow as tf\n",
    "from ogb.graphproppred import GraphPropPredDataset\n",
    "from spektral.data import Dataset, Graph\n",
    "#from spektral.datasets import TUDataset, QM9\n",
    "import sys\n",
    "import time\n",
    "import shutil\n",
    "import numpy as np\n",
    "import tensorflow as tf\n",
    "import pandas as pd\n",
    "import spektral\n",
    "from matplotlib import pyplot as plt\n",
    "from scipy.stats import kendalltau\n",
    "from tensorflow.keras.optimizers import Adam\n",
    "from keras.losses import BinaryCrossentropy, MeanSquaredError\n",
    "from keras.metrics import BinaryAccuracy\n",
    "import tensorflow as tf\n",
    "from spektral.data.utils import (\n",
    "    prepend_none,\n",
    "    sp_matrices_to_sp_tensors,\n",
    "    to_disjoint,\n",
    "    collate_labels_disjoint\n",
    ")\n",
    "from sklearn.utils import shuffle as sk_shuffle\n",
    "from collections import Counter"
   ]
  },
  {
   "cell_type": "code",
   "execution_count": 2,
   "id": "f6158171",
   "metadata": {},
   "outputs": [],
   "source": [
    "config = {\n",
    "    'seed': 1,\n",
    "    'epochs': 10,\n",
    "    'batch_size': 32,\n",
    "    'learning_rate': 0.001,\n",
    "    'dataset': 'ogbg-molesol', #JA: QM9, ogbg-molesol, ogbg-molfreesolv, ogbg-mollipo, ZINC| NEIN: aspirin\n",
    "    'train_test_split': 0.8\n",
    "}\n",
    "\n",
    "np.random.seed(config['seed'])\n",
    "tf.random.set_seed(config['seed'])"
   ]
  },
  {
   "cell_type": "code",
   "execution_count": 3,
   "id": "d9cd1aa1",
   "metadata": {},
   "outputs": [],
   "source": [
    "class OGBDataset(Dataset):\n",
    "    '''\n",
    "    (spektral) Dataset class wrapper for Open Graph Benchmark datasets.\n",
    "    '''\n",
    "    def __init__(self, name, **kwargs):\n",
    "        self.name = name\n",
    "        super().__init__(**kwargs)\n",
    "\n",
    "    def read(self):\n",
    "        dataset = GraphPropPredDataset(name=self.name)\n",
    "        graphs = []\n",
    "        for data in dataset:\n",
    "            edge_index = data[0]['edge_index']\n",
    "            edge_feat = data[0]['edge_feat']\n",
    "            node_feat = data[0]['node_feat']\n",
    "            label = data[1]\n",
    "\n",
    "            # Create adjacency matrix\n",
    "            num_nodes = node_feat.shape[0]\n",
    "            adj = np.zeros((num_nodes, num_nodes))\n",
    "            for edge in edge_index.T:\n",
    "                adj[edge[0], edge[1]] = 1\n",
    "\n",
    "            # Create spektral Graph object\n",
    "            graphs.append(Graph(x=node_feat, a=adj, e=edge_feat, y=label))\n",
    "            \n",
    "        self.size = len(graphs)\n",
    "\n",
    "        return graphs\n",
    "\n",
    "def ogb_available_datasets():\n",
    "    #These regression datasets have size % 2 == 0 number of graphs\n",
    "    return ['ogbg-molesol', 'ogbg-molfreesolv', 'ogbg-mollipo']"
   ]
  },
  {
   "cell_type": "code",
   "execution_count": 4,
   "id": "d5122967",
   "metadata": {},
   "outputs": [],
   "source": [
    "def _load_data(name: str):\n",
    "    '''\n",
    "    Loads a dataset from [TUDataset, OGB]\n",
    "    '''\n",
    "    if name in ogb_available_datasets():\n",
    "        dataset= OGBDataset(name)\n",
    "    else:\n",
    "        raise ValueError(f'Dataset {name} unknown')\n",
    "\n",
    "    return dataset, dataset.n_labels"
   ]
  },
  {
   "cell_type": "code",
   "execution_count": 5,
   "id": "313cc5f4",
   "metadata": {},
   "outputs": [],
   "source": [
    "def _split_data(data, train_test_split, seed):\n",
    "    '''\n",
    "    Split the data into train and test sets\n",
    "    '''\n",
    "    np.random.seed(seed)\n",
    "    idxs = np.random.permutation(len(data))\n",
    "    split = int(train_test_split * len(data))\n",
    "    idx_train, idx_test = np.split(idxs, [split])\n",
    "    train, test = data[idx_train], data[idx_test]\n",
    "    train.size = len(train)\n",
    "    test.size = len(test)\n",
    "    return train, test"
   ]
  },
  {
   "cell_type": "code",
   "execution_count": 6,
   "id": "1bd00116",
   "metadata": {},
   "outputs": [],
   "source": [
    "def get_data(config):\n",
    "    seed = config['seed']\n",
    "    train_test_split = config['train_test_split']\n",
    "    name = config['dataset']\n",
    "\n",
    "    # Load data\n",
    "    data, config['n_out'] = _load_data(name)\n",
    "    # Split data\n",
    "    train_data, test_data = _split_data(data, train_test_split, seed)\n",
    "\n",
    "    return train_data, test_data"
   ]
  },
  {
   "cell_type": "code",
   "execution_count": 7,
   "id": "10d4a358",
   "metadata": {},
   "outputs": [],
   "source": [
    "dataset_train, dataset_test = get_data(config)"
   ]
  },
  {
   "cell_type": "code",
   "execution_count": 8,
   "id": "93e3a2b6",
   "metadata": {},
   "outputs": [
    {
     "data": {
      "text/plain": [
       "(902, 226)"
      ]
     },
     "execution_count": 8,
     "metadata": {},
     "output_type": "execute_result"
    }
   ],
   "source": [
    "len(dataset_train), len(dataset_test)"
   ]
  },
  {
   "cell_type": "code",
   "execution_count": 9,
   "id": "1366fa9b",
   "metadata": {},
   "outputs": [
    {
     "data": {
      "text/plain": [
       "OGBDataset(n_graphs=902)"
      ]
     },
     "execution_count": 9,
     "metadata": {},
     "output_type": "execute_result"
    }
   ],
   "source": [
    "dataset_train"
   ]
  },
  {
   "cell_type": "code",
   "execution_count": 10,
   "id": "f074d941",
   "metadata": {},
   "outputs": [],
   "source": [
    "def iterate_train_random(elements):\n",
    "    objects = elements\n",
    "    sort_idx = np.argsort(objects)\n",
    "    olen = objects.size\n",
    "    seed = 0 + olen\n",
    "    pair_count = (olen * (olen - 1)) // 2\n",
    "    sample_size = min(int(20 * pair_count), pair_count)\n",
    "    rng = np.random.default_rng(seed)\n",
    "\n",
    "    sample = rng.choice(pair_count, sample_size, replace=False)\n",
    "    sample_b = (np.sqrt(sample * 2 + 1/4) + 1/2).astype(np.int)\n",
    "    sample_a = sample - (sample_b * (sample_b - 1)) // 2\n",
    "    idx_a = sort_idx[sample_a]\n",
    "    idx_b = sort_idx[sample_b]\n",
    "\n",
    "    return idx_a, idx_b"
   ]
  },
  {
   "cell_type": "code",
   "execution_count": 11,
   "id": "884d26b8",
   "metadata": {},
   "outputs": [],
   "source": [
    "index=5\n",
    "indices=np.arange(len(dataset_test))\n",
    "indices=np.array(indices[index*32:(index+1)*32])\n",
    "i_a, i_b = iterate_train_random(indices)"
   ]
  },
  {
   "cell_type": "code",
   "execution_count": 12,
   "id": "4e6f6ff7",
   "metadata": {},
   "outputs": [
    {
     "data": {
      "text/plain": [
       "(496, 496)"
      ]
     },
     "execution_count": 12,
     "metadata": {},
     "output_type": "execute_result"
    }
   ],
   "source": [
    "len(i_a),len(i_b)"
   ]
  },
  {
   "cell_type": "code",
   "execution_count": 13,
   "id": "e22b9800",
   "metadata": {},
   "outputs": [],
   "source": [
    "def get_target(data, indices_a, indices_b):\n",
    "    assert(len(indices_a)==len(indices_b))\n",
    "    a = data[indices_a]\n",
    "    b = data[indices_b]\n",
    "    t = []\n",
    "    for i in range(len(indices_a)):\n",
    "        u_a = a[i].y\n",
    "        u_b = b[i].y\n",
    "        if u_a >= u_b:\n",
    "            t.append(1)\n",
    "        else:\n",
    "            t.append(0)\n",
    "    return np.array(t)"
   ]
  },
  {
   "cell_type": "code",
   "execution_count": 14,
   "id": "27b47d7c",
   "metadata": {},
   "outputs": [],
   "source": [
    "ta = get_target(dataset_test, i_a, i_b)"
   ]
  },
  {
   "cell_type": "code",
   "execution_count": 15,
   "id": "80b5ecd6",
   "metadata": {},
   "outputs": [
    {
     "data": {
      "text/plain": [
       "(0, 16)"
      ]
     },
     "execution_count": 15,
     "metadata": {},
     "output_type": "execute_result"
    }
   ],
   "source": [
    "i_a[0], i_b[0]"
   ]
  },
  {
   "cell_type": "code",
   "execution_count": 16,
   "id": "2a5ff1f9",
   "metadata": {},
   "outputs": [
    {
     "data": {
      "text/plain": [
       "(array([-2.55]), array([-1.03]))"
      ]
     },
     "execution_count": 16,
     "metadata": {},
     "output_type": "execute_result"
    }
   ],
   "source": [
    "dataset_test[i_a[0]].y, dataset_test[i_b[0]].y"
   ]
  },
  {
   "cell_type": "code",
   "execution_count": 17,
   "id": "9cc2a541",
   "metadata": {},
   "outputs": [
    {
     "data": {
      "text/plain": [
       "(array([-0.96]), array([-3.499]))"
      ]
     },
     "execution_count": 17,
     "metadata": {},
     "output_type": "execute_result"
    }
   ],
   "source": [
    "dataset_test[i_a[1]].y, dataset_test[i_b[1]].y"
   ]
  },
  {
   "cell_type": "code",
   "execution_count": 18,
   "id": "903f76ee",
   "metadata": {},
   "outputs": [
    {
     "data": {
      "text/plain": [
       "(496,\n",
       " array([0, 1, 1, 0, 1, 1, 0, 1, 1, 0, 1, 1, 1, 0, 1, 0, 0, 1, 0, 1, 1, 0,\n",
       "        1, 1, 1, 1, 1, 1, 0, 0, 0, 1, 1, 1, 1, 0, 0, 0, 0, 0, 1, 1, 1, 1,\n",
       "        1, 1, 1, 1, 0, 1, 0, 1, 0, 0, 1, 0, 1, 0, 1, 0, 1, 1, 1, 0, 1, 1,\n",
       "        1, 1, 0, 1, 1, 0, 0, 0, 0, 0, 0, 1, 1, 0, 1, 0, 0, 0, 0, 1, 1, 1,\n",
       "        1, 1, 1, 0, 1, 1, 0, 1, 1, 1, 1, 0, 0, 1, 1, 1, 1, 1, 0, 1, 1, 0,\n",
       "        1, 1, 1, 1, 0, 0, 1, 1, 0, 0, 1, 1, 0, 1, 0, 0, 1, 1, 0, 0, 0, 1,\n",
       "        0, 0, 0, 1, 1, 0, 1, 0, 1, 1, 1, 1, 1, 1, 1, 1, 1, 0, 1, 1, 0, 1,\n",
       "        1, 0, 1, 1, 1, 0, 0, 1, 0, 1, 1, 0, 0, 0, 0, 1, 1, 0, 0, 1, 1, 0,\n",
       "        1, 1, 1, 1, 1, 0, 0, 0, 0, 0, 0, 1, 1, 0, 0, 0, 0, 0, 1, 1, 0, 1,\n",
       "        1, 0, 0, 1, 0, 1, 1, 1, 1, 1, 0, 1, 1, 1, 1, 0, 0, 1, 1, 1, 0, 1,\n",
       "        0, 0, 0, 1, 0, 0, 1, 1, 0, 1, 1, 0, 1, 1, 1, 1, 1, 1, 0, 0, 0, 0,\n",
       "        1, 1, 1, 0, 1, 0, 1, 1, 0, 1, 0, 1, 0, 1, 1, 1, 0, 0, 1, 0, 1, 1,\n",
       "        1, 1, 1, 1, 1, 0, 1, 0, 0, 1, 1, 1, 0, 1, 1, 1, 1, 1, 1, 1, 1, 1,\n",
       "        0, 0, 1, 1, 0, 0, 1, 1, 0, 1, 1, 0, 0, 1, 1, 0, 1, 0, 0, 1, 0, 1,\n",
       "        1, 1, 0, 1, 0, 1, 1, 1, 0, 1, 1, 1, 1, 1, 0, 0, 1, 0, 1, 0, 0, 1,\n",
       "        0, 1, 1, 0, 0, 1, 1, 1, 1, 0, 1, 1, 1, 1, 0, 1, 0, 1, 1, 1, 1, 1,\n",
       "        0, 1, 0, 0, 0, 1, 0, 1, 0, 0, 1, 1, 1, 1, 1, 1, 0, 0, 0, 1, 1, 0,\n",
       "        0, 1, 0, 1, 0, 1, 1, 1, 1, 1, 1, 1, 0, 0, 1, 1, 0, 1, 1, 1, 1, 0,\n",
       "        1, 0, 1, 1, 0, 1, 1, 1, 1, 1, 1, 0, 0, 1, 1, 1, 1, 1, 0, 0, 0, 0,\n",
       "        0, 1, 0, 1, 0, 0, 1, 1, 1, 1, 0, 1, 0, 1, 0, 1, 1, 1, 1, 0, 1, 1,\n",
       "        0, 1, 0, 0, 1, 0, 1, 0, 1, 1, 1, 1, 0, 1, 0, 1, 1, 1, 1, 0, 0, 0,\n",
       "        1, 1, 1, 0, 1, 0, 1, 1, 0, 1, 0, 1, 0, 1, 1, 1, 0, 0, 1, 0, 1, 0,\n",
       "        1, 1, 1, 0, 1, 0, 0, 1, 0, 1, 0, 1]))"
      ]
     },
     "execution_count": 18,
     "metadata": {},
     "output_type": "execute_result"
    }
   ],
   "source": [
    "len(ta),ta"
   ]
  },
  {
   "cell_type": "code",
   "execution_count": null,
   "id": "8d6a5bcf",
   "metadata": {},
   "outputs": [],
   "source": []
  },
  {
   "cell_type": "code",
   "execution_count": 19,
   "id": "d1492fa8",
   "metadata": {},
   "outputs": [],
   "source": [
    "\n",
    "class CustomDataLoader(tf.keras.utils.Sequence):\n",
    "    def __init__(self, data, batch_size=32, shuffle=True, seed=42, sampling_ratio=20):\n",
    "        self.data = data\n",
    "        self.batch_size = batch_size\n",
    "        self.shuffle = shuffle\n",
    "        self.seed = seed\n",
    "        self.sampling_ratio = sampling_ratio\n",
    "        self.indices = np.arange(len(self.data))\n",
    "        self.node_level = False\n",
    "        self.idx_a = []\n",
    "        self.idx_b = []\n",
    "        self.target = []\n",
    "        self.on_epoch_end()\n",
    "\n",
    "    def __len__(self):\n",
    "        return int(np.floor(len(self.data) / self.batch_size))\n",
    "\n",
    "    def __getitem__(self, index):\n",
    "        indices = np.array(self.indices[index*self.batch_size:(index+1)*self.batch_size])\n",
    "        self.idx_a, self.idx_b = self.iterate_train_random(indices)\n",
    "        batch_data = self.data[indices]\n",
    "        #disjointloader content start\n",
    "        packed = self.pack(batch_data)\n",
    "        y = packed.pop(\"y_list\", None)\n",
    "        if y is not None:\n",
    "            y = collate_labels_disjoint(y, node_level=self.node_level)\n",
    "        output = to_disjoint(**packed)\n",
    "        output = sp_matrices_to_sp_tensors(output)\n",
    "        #disjointloader content end\n",
    "        \n",
    "        # target berechnen für die pairs start\n",
    "        self.target = self.get_target(idx_a, idx_b)\n",
    "        # target berechnen für die pairs ende\n",
    "        \n",
    "        return output + (self.idx_a, self.idx_b), self.target #batch_data, batch_labels\n",
    "\n",
    "    def on_epoch_end(self):\n",
    "        if self.shuffle:\n",
    "            np.random.shuffle(self.indices)\n",
    "    \n",
    "    def iterate_train_random(self, elements):\n",
    "        objects = elements\n",
    "        sort_idx = np.argsort(objects)\n",
    "        olen = objects.size\n",
    "        seed = self.seed + olen\n",
    "        pair_count = (olen * (olen - 1)) // 2\n",
    "        sample_size = min(int(self.sampling_ratio * pair_count), pair_count)\n",
    "        rng = np.random.default_rng(seed)\n",
    "\n",
    "        sample = rng.choice(pair_count, sample_size, replace=False)\n",
    "        sample_b = (np.sqrt(sample * 2 + 1/4) + 1/2).astype(np.int)\n",
    "        sample_a = sample - (sample_b * (sample_b - 1)) // 2\n",
    "        idx_a = sort_idx[sample_a]\n",
    "        idx_b = sort_idx[sample_b]\n",
    "\n",
    "        return idx_a, idx_b\n",
    "    \n",
    "    def pack(self, batch):\n",
    "        \"\"\"\n",
    "        Given a batch of graphs, groups their attributes into separate lists and packs\n",
    "        them in a dictionary.\n",
    "\n",
    "        For instance, if a batch has three graphs g1, g2 and g3 with node\n",
    "        features (x1, x2, x3) and adjacency matrices (a1, a2, a3), this method\n",
    "        will return a dictionary:\n",
    "\n",
    "        ```python\n",
    "        >>> {'a_list': [a1, a2, a3], 'x_list': [x1, x2, x3]}\n",
    "        ```\n",
    "\n",
    "        :param batch: a list of `Graph` objects.\n",
    "        \"\"\"\n",
    "        output = [list(elem) for elem in zip(*[g.numpy() for g in batch])]\n",
    "        keys = [k + \"_list\" for k in self.data.signature.keys()]\n",
    "        return dict(zip(keys, output))\n",
    "    \n",
    "    def get_target(self, indices_a, indices_b):\n",
    "        assert(len(indices_a)==len(indices_b))\n",
    "        a = self.data[indices_a.flatten()]\n",
    "        b = self.data[indices_b.flatten()]\n",
    "        t = []\n",
    "        for i in range(len(indices_a)):\n",
    "            util_a = a[i].y\n",
    "            util_b = b[i].y\n",
    "            if util_a >= util_b:\n",
    "                t.append(1)\n",
    "            else:\n",
    "                t.append(0)\n",
    "        return np.array(t)\n",
    "    \n",
    "    def info(self):\n",
    "        print(f\"idx_a:{self.idx_a}\")\n",
    "        print(f\"idx_b:{self.idx_b}\")\n",
    "        print(f\"target:{self.target}\")"
   ]
  },
  {
   "cell_type": "code",
   "execution_count": 20,
   "id": "3a527e43",
   "metadata": {},
   "outputs": [],
   "source": [
    "data = dataset_test\n",
    "batch_size = 32\n",
    "shuffle = True\n",
    "sseed = 42123\n",
    "sampling_ratio = 20\n",
    "indices = np.arange(len(data))\n",
    "node_level = False\n",
    "index=1"
   ]
  },
  {
   "cell_type": "code",
   "execution_count": 21,
   "id": "c5b2eed6",
   "metadata": {},
   "outputs": [
    {
     "data": {
      "text/plain": [
       "226"
      ]
     },
     "execution_count": 21,
     "metadata": {},
     "output_type": "execute_result"
    }
   ],
   "source": [
    "len(data)"
   ]
  },
  {
   "cell_type": "markdown",
   "id": "983b0cab",
   "metadata": {},
   "source": [
    "# Aufbau A\n",
    "## erst Indizes auswählen -> Paare anhand Indizes -> Daten+Target"
   ]
  },
  {
   "cell_type": "code",
   "execution_count": 22,
   "id": "18abdba3",
   "metadata": {},
   "outputs": [],
   "source": [
    "def iterate_train_random(elements):\n",
    "    objects = elements\n",
    "    sort_idx = np.argsort(objects)\n",
    "    olen = objects.size\n",
    "    seed = sseed + olen\n",
    "    pair_count = (olen * (olen - 1)) // 2\n",
    "    sample_size = min(int(sampling_ratio * pair_count), pair_count)\n",
    "    rng = np.random.default_rng(seed)\n",
    "\n",
    "    sample = rng.choice(pair_count, sample_size, replace=False)\n",
    "    sample_b = (np.sqrt(sample * 2 + 1/4) + 1/2).astype(np.int)\n",
    "    sample_a = sample - (sample_b * (sample_b - 1)) // 2\n",
    "    idx_a = sort_idx[sample_a]\n",
    "    idx_b = sort_idx[sample_b]\n",
    "\n",
    "    return idx_a, idx_b"
   ]
  },
  {
   "cell_type": "code",
   "execution_count": 23,
   "id": "ee605136",
   "metadata": {},
   "outputs": [],
   "source": [
    "indices = np.array(indices[index*batch_size:(index+1)*batch_size])\n",
    "idx_a, idx_b = iterate_train_random(indices)\n",
    "batch_data = data[indices]"
   ]
  },
  {
   "cell_type": "code",
   "execution_count": 24,
   "id": "66037568",
   "metadata": {},
   "outputs": [
    {
     "data": {
      "text/plain": [
       "array([32, 33, 34, 35, 36, 37, 38, 39, 40, 41, 42, 43, 44, 45, 46, 47, 48,\n",
       "       49, 50, 51, 52, 53, 54, 55, 56, 57, 58, 59, 60, 61, 62, 63])"
      ]
     },
     "execution_count": 24,
     "metadata": {},
     "output_type": "execute_result"
    }
   ],
   "source": [
    "indices"
   ]
  },
  {
   "cell_type": "code",
   "execution_count": 25,
   "id": "00e1808e",
   "metadata": {},
   "outputs": [
    {
     "data": {
      "text/plain": [
       "(496,)"
      ]
     },
     "execution_count": 25,
     "metadata": {},
     "output_type": "execute_result"
    }
   ],
   "source": [
    "idx_a.shape"
   ]
  },
  {
   "cell_type": "code",
   "execution_count": 26,
   "id": "173e6f30",
   "metadata": {},
   "outputs": [
    {
     "data": {
      "text/plain": [
       "(array([ 4, 20,  8,  4,  2, 24,  3, 14,  5,  8,  2, 17, 12, 13,  0,  5,  2,\n",
       "        22, 15,  8,  0, 21,  5,  9,  7, 10, 23, 16, 21, 15,  9,  3,  1, 16,\n",
       "         1, 21, 13, 21,  9, 18,  8, 12, 20,  9,  8,  9,  5, 14,  7, 19,  9,\n",
       "         6,  7, 11, 27, 10, 10,  4, 16, 26, 19, 17,  2, 16,  6, 19,  0,  2,\n",
       "         4,  3,  0, 10,  6, 15, 11, 22, 17,  6, 15, 14,  0,  7, 13, 11,  3,\n",
       "         5,  3,  7,  0, 26, 15,  5,  6, 10,  0,  1,  1,  6,  5, 12, 17, 24,\n",
       "         0,  8, 12, 14, 13,  0, 11,  4,  1, 25,  2,  0,  8,  8, 12,  0,  8,\n",
       "         1,  1, 22,  1, 18,  7, 17,  3, 14,  3,  4, 12,  7,  1,  1,  0,  4,\n",
       "        11,  1,  1, 24,  9, 10,  5, 23,  8, 13,  3,  7,  1,  8,  6, 13, 15,\n",
       "         9,  1, 17,  0,  4, 11,  9,  1,  2, 15,  0, 16,  0,  3,  0, 21,  6,\n",
       "         9, 12,  0, 16,  2, 10,  2,  9,  4,  1, 25,  3, 25,  2,  8, 27, 14,\n",
       "         5, 12,  0,  0,  3, 15, 16, 18,  5, 22, 24, 17,  2,  0,  4,  4,  4,\n",
       "        17,  6, 19, 11, 19,  7, 20, 12, 24,  2,  7,  9, 19,  4, 10,  6,  2,\n",
       "        14,  6, 10, 12, 13,  0, 19, 11,  3, 13,  5, 11,  5,  5, 11,  9, 15,\n",
       "         0, 11,  9,  1,  2,  7,  3,  2, 29,  2,  6, 19,  2, 27,  1, 24, 12,\n",
       "        14, 21,  1, 15, 15,  1, 22,  8,  4,  2,  5, 19, 17, 23, 28,  9,  8,\n",
       "        10, 23,  4,  2,  6,  5,  1,  7,  2, 14, 23, 20,  8, 14,  1,  8,  3,\n",
       "        11, 24,  6, 17, 13, 17,  9,  4, 18,  0, 19,  3, 10, 16, 10,  1, 18,\n",
       "        28,  8, 12,  5,  0, 13, 18, 11,  2, 13,  8,  4, 14, 11,  5,  3, 12,\n",
       "        23,  4, 16,  9,  5, 14,  8, 16,  3,  2,  8, 19, 11, 10,  4,  2, 26,\n",
       "        20,  3,  5, 20, 21, 14, 10,  7,  4,  0, 20,  2,  8, 13,  5, 30, 20,\n",
       "         0,  9, 11,  4, 14,  9,  3,  8,  4,  4,  9,  3,  6, 10, 18, 12, 22,\n",
       "         7,  6, 22,  9,  6, 15, 16, 16,  0,  5, 19, 10, 10, 11, 18, 12, 18,\n",
       "         2,  7,  2, 20, 26,  0, 12, 21, 13,  7,  1, 21, 10, 11,  4,  1,  1,\n",
       "         5, 26,  2,  7,  3, 14,  4,  1, 11, 15, 17, 18,  2, 20, 15, 12, 10,\n",
       "        17,  1, 20,  3, 22, 21,  7,  7,  8,  6,  4, 25,  7, 29, 16,  3,  3,\n",
       "        15,  7,  3,  2,  1,  5,  7,  6,  6, 22,  5,  0,  3, 13,  6, 18,  1,\n",
       "         0,  4,  6,  6,  7, 10, 11,  7,  3, 18, 15, 23, 10, 17, 18,  0, 25,\n",
       "        14,  6, 16,  6, 13, 28, 13,  9, 25, 12,  3, 13, 23, 14, 13,  5, 16,\n",
       "        27,  5, 12]),\n",
       " array([ 5, 22, 30, 21,  7, 26, 14, 22, 19, 18, 25, 20, 29, 25, 14, 16,  4,\n",
       "        25, 29, 31,  6, 27, 12, 16,  9, 31, 24, 24, 31, 17, 11, 12, 28, 27,\n",
       "        21, 26, 23, 23, 23, 30, 20, 17, 25, 10, 26, 31, 31, 16, 10, 25, 17,\n",
       "        18, 15, 29, 31, 18, 25, 31, 23, 27, 24, 24, 21, 18, 26, 29, 11,  6,\n",
       "        11,  5, 28, 30, 25, 23, 31, 26, 18, 22, 28, 31,  8, 26, 17, 30, 28,\n",
       "        13, 30, 18, 18, 30, 22, 30, 16, 16,  3, 25, 11, 17,  9, 30, 27, 29,\n",
       "         4, 21, 31, 29, 27, 22, 20, 25, 19, 26, 11, 21, 12, 15, 18, 23, 29,\n",
       "        16,  4, 30, 12, 23, 29, 26, 20, 20, 16, 27, 16, 16, 29, 22, 19, 16,\n",
       "        27, 18,  3, 27, 27, 13, 23, 28, 22, 30, 25, 23,  5, 10, 21, 15, 27,\n",
       "        22, 13, 28, 13, 29, 24, 18,  6, 18, 26, 26, 30,  2, 26,  5, 28,  9,\n",
       "        29, 27, 25, 28,  8, 21, 23, 30,  8, 24, 28, 21, 31,  9, 11, 29, 25,\n",
       "        24, 20, 30,  9, 13, 18, 17, 20,  6, 27, 31, 19, 30, 20, 28, 26, 10,\n",
       "        31, 11, 28, 25, 21, 19, 29, 22, 28, 27, 24, 13, 22, 24, 19, 28, 17,\n",
       "        27, 27, 24, 28, 14, 15, 20, 23, 11, 20, 18, 19, 14, 15, 12, 19, 16,\n",
       "         7, 22, 28, 17,  5, 11,  6, 20, 30, 19, 31, 31,  3, 30,  2, 25, 15,\n",
       "        26, 30, 23, 24, 21,  7, 24, 16, 12, 26, 25, 30, 23, 27, 29, 25, 19,\n",
       "        11, 30, 14, 31,  7, 26, 26, 28, 24, 15, 29, 26, 24, 18, 20, 27,  8,\n",
       "        21, 30, 29, 22, 31, 29, 12, 15, 31,  1, 23, 18, 20, 22, 17, 31, 29,\n",
       "        30, 14, 21, 11, 29, 26, 22, 28, 16, 21, 23,  9, 30, 15, 29, 27, 14,\n",
       "        26, 19, 19, 15, 22, 28, 13, 21, 19, 29,  9, 27, 26, 29,  7, 22, 28,\n",
       "        24, 23, 10, 23, 24, 17, 14, 30, 18, 24, 28, 13, 25, 24,  7, 31, 27,\n",
       "        31, 26, 16, 22, 21, 24, 15, 17, 17, 20, 14, 24, 10, 22, 28, 25, 29,\n",
       "        21, 12, 28, 20, 30, 25, 25, 31, 10,  8, 26, 15, 23, 18, 27, 26, 25,\n",
       "        28, 17, 10, 21, 29, 27, 19, 22, 16, 22, 30, 25, 28, 13, 23,  9, 27,\n",
       "        27, 31, 12, 13, 22, 23, 13, 15, 14, 30, 21, 21, 14, 31, 31, 13, 12,\n",
       "        25, 14, 30,  9, 31, 29,  8, 20, 28, 14, 30, 27, 31, 31, 20,  7, 31,\n",
       "        20, 12, 29, 15, 10, 17, 27, 23, 13, 23, 21, 12, 17, 28, 15, 26,  8,\n",
       "        16,  6, 20, 19, 25, 26, 17, 14,  4, 24, 19, 25, 27, 30, 19, 17, 30,\n",
       "        24, 24, 26,  8, 29, 31, 18, 21, 29, 24, 10, 19, 31, 19, 22, 28, 29,\n",
       "        28, 20, 23]))"
      ]
     },
     "execution_count": 26,
     "metadata": {},
     "output_type": "execute_result"
    }
   ],
   "source": [
    "idx_a, idx_b"
   ]
  },
  {
   "cell_type": "code",
   "execution_count": 27,
   "id": "faecc2d0",
   "metadata": {},
   "outputs": [
    {
     "data": {
      "text/plain": [
       "[(0, 31),\n",
       " (1, 30),\n",
       " (2, 29),\n",
       " (3, 28),\n",
       " (4, 27),\n",
       " (5, 26),\n",
       " (6, 25),\n",
       " (7, 24),\n",
       " (8, 23),\n",
       " (9, 22),\n",
       " (10, 21),\n",
       " (11, 20),\n",
       " (12, 19),\n",
       " (13, 18),\n",
       " (14, 17),\n",
       " (15, 16),\n",
       " (16, 15),\n",
       " (17, 14),\n",
       " (18, 13),\n",
       " (19, 12),\n",
       " (20, 11),\n",
       " (21, 10),\n",
       " (22, 9),\n",
       " (23, 8),\n",
       " (24, 7),\n",
       " (25, 6),\n",
       " (26, 5),\n",
       " (27, 4),\n",
       " (28, 3),\n",
       " (29, 2),\n",
       " (30, 1)]"
      ]
     },
     "execution_count": 27,
     "metadata": {},
     "output_type": "execute_result"
    }
   ],
   "source": [
    "Counter(idx_a).most_common()#, Counter(idx_b).most_common()"
   ]
  },
  {
   "cell_type": "code",
   "execution_count": 28,
   "id": "e2a2c954",
   "metadata": {},
   "outputs": [
    {
     "data": {
      "text/plain": [
       "OGBDataset(n_graphs=32)"
      ]
     },
     "execution_count": 28,
     "metadata": {},
     "output_type": "execute_result"
    }
   ],
   "source": [
    "batch_data"
   ]
  },
  {
   "cell_type": "code",
   "execution_count": 29,
   "id": "fe9d2cff",
   "metadata": {},
   "outputs": [],
   "source": [
    "def get_target(indices_a, indices_b):\n",
    "    assert(len(indices_a)==len(indices_b))\n",
    "    a = data[indices_a.flatten()]\n",
    "    b = data[indices_b.flatten()]\n",
    "    t = []\n",
    "    for i in range(len(indices_a)):\n",
    "        util_a = a[i].y\n",
    "        util_b = b[i].y\n",
    "        if util_a >= util_b:\n",
    "            t.append(1)\n",
    "        else:\n",
    "            t.append(0)\n",
    "    return np.array(t)"
   ]
  },
  {
   "cell_type": "code",
   "execution_count": 30,
   "id": "bc64b67a",
   "metadata": {},
   "outputs": [],
   "source": [
    "target = get_target(idx_a, idx_b)"
   ]
  },
  {
   "cell_type": "code",
   "execution_count": 31,
   "id": "e3d737c8",
   "metadata": {},
   "outputs": [
    {
     "data": {
      "text/plain": [
       "(300, 196)"
      ]
     },
     "execution_count": 31,
     "metadata": {},
     "output_type": "execute_result"
    }
   ],
   "source": [
    "list(target).count(1), list(target).count(0)"
   ]
  },
  {
   "cell_type": "code",
   "execution_count": 32,
   "id": "48a6cf9b",
   "metadata": {},
   "outputs": [
    {
     "data": {
      "text/plain": [
       "array([1, 1, 0, 1, 1, 0, 1, 1, 1, 0, 1, 1, 0, 0, 1, 0, 1, 0, 0, 0, 1, 0,\n",
       "       1, 1, 0, 0, 1, 1, 0, 0, 1, 1, 1, 1, 1, 0, 0, 0, 1, 1, 1, 0, 0, 1,\n",
       "       0, 1, 0, 0, 1, 0, 1, 1, 1, 1, 0, 0, 0, 0, 1, 1, 0, 1, 1, 1, 0, 0,\n",
       "       0, 1, 1, 1, 1, 0, 0, 0, 0, 0, 1, 1, 1, 0, 1, 1, 0, 1, 1, 1, 1, 1,\n",
       "       1, 1, 0, 1, 0, 0, 0, 1, 1, 0, 0, 0, 1, 1, 0, 1, 0, 0, 0, 1, 1, 1,\n",
       "       1, 0, 1, 1, 1, 1, 0, 1, 0, 1, 1, 0, 1, 0, 1, 1, 1, 1, 1, 1, 0, 0,\n",
       "       1, 1, 1, 0, 1, 1, 1, 1, 1, 0, 1, 1, 1, 0, 1, 1, 1, 1, 1, 1, 0, 1,\n",
       "       1, 1, 1, 1, 1, 1, 1, 1, 0, 0, 1, 0, 1, 0, 0, 0, 1, 0, 0, 1, 1, 1,\n",
       "       1, 1, 1, 1, 1, 1, 0, 0, 0, 0, 0, 1, 0, 1, 0, 1, 0, 0, 1, 1, 0, 0,\n",
       "       1, 1, 1, 1, 1, 1, 0, 0, 1, 1, 1, 1, 0, 1, 1, 1, 1, 1, 1, 1, 0, 1,\n",
       "       0, 0, 0, 0, 1, 0, 1, 1, 1, 1, 0, 1, 1, 1, 1, 1, 1, 0, 0, 1, 1, 1,\n",
       "       1, 1, 1, 1, 1, 1, 0, 0, 0, 1, 1, 0, 1, 0, 0, 1, 0, 1, 1, 0, 0, 1,\n",
       "       1, 1, 1, 1, 1, 0, 1, 0, 0, 1, 1, 0, 0, 1, 1, 1, 1, 1, 1, 0, 0, 1,\n",
       "       1, 0, 1, 1, 1, 0, 1, 0, 1, 1, 1, 0, 0, 0, 1, 0, 1, 0, 1, 0, 0, 0,\n",
       "       1, 1, 1, 0, 1, 1, 1, 1, 0, 0, 1, 1, 1, 1, 0, 0, 1, 1, 1, 1, 1, 1,\n",
       "       1, 1, 1, 0, 0, 1, 0, 1, 1, 1, 0, 1, 1, 0, 0, 0, 0, 1, 1, 1, 1, 1,\n",
       "       0, 0, 0, 0, 0, 0, 1, 0, 1, 1, 1, 1, 0, 0, 1, 1, 1, 1, 0, 1, 0, 0,\n",
       "       1, 1, 1, 1, 1, 0, 1, 0, 1, 1, 0, 1, 0, 1, 0, 0, 0, 1, 0, 1, 1, 1,\n",
       "       1, 0, 0, 0, 1, 1, 0, 1, 1, 1, 0, 1, 1, 0, 1, 1, 1, 0, 1, 1, 1, 0,\n",
       "       1, 1, 1, 0, 0, 1, 0, 1, 1, 0, 0, 0, 0, 1, 1, 1, 0, 1, 1, 0, 0, 1,\n",
       "       1, 0, 0, 1, 1, 1, 1, 0, 1, 0, 1, 0, 1, 1, 0, 1, 1, 0, 1, 0, 1, 1,\n",
       "       0, 1, 0, 0, 1, 1, 0, 0, 0, 0, 1, 0, 0, 1, 0, 0, 1, 1, 0, 0, 0, 1,\n",
       "       1, 0, 1, 0, 0, 0, 1, 1, 1, 1, 1, 0])"
      ]
     },
     "execution_count": 32,
     "metadata": {},
     "output_type": "execute_result"
    }
   ],
   "source": [
    "target"
   ]
  },
  {
   "cell_type": "code",
   "execution_count": 33,
   "id": "229a5fc3",
   "metadata": {},
   "outputs": [
    {
     "data": {
      "text/plain": [
       "[(1, 300), (0, 196)]"
      ]
     },
     "execution_count": 33,
     "metadata": {},
     "output_type": "execute_result"
    }
   ],
   "source": [
    "Counter(target).most_common()"
   ]
  },
  {
   "cell_type": "markdown",
   "id": "f9cb3f74",
   "metadata": {},
   "source": [
    "# Aufbau B #######\n",
    "## Erst Paare über alle Daten -> Target"
   ]
  },
  {
   "cell_type": "code",
   "execution_count": 34,
   "id": "12a8102b",
   "metadata": {},
   "outputs": [],
   "source": [
    "data = dataset_test\n",
    "batch_size = 32\n",
    "shuffle = True\n",
    "sseed = 42\n",
    "sampling_ratio = 2\n",
    "indices = np.arange(len(data))\n",
    "node_level = False\n",
    "index=1"
   ]
  },
  {
   "cell_type": "code",
   "execution_count": 35,
   "id": "e816d7a7",
   "metadata": {},
   "outputs": [],
   "source": [
    "def iterate_train_randomB(elements):\n",
    "    objects = elements\n",
    "    utilities = [e.y for e in elements]#hier und\n",
    "    sort_idx = np.argsort(utilities, axis=0)#hier angepasst\n",
    "    olen = objects.size\n",
    "    seed = sseed + olen\n",
    "    pair_count = (olen * (olen - 1)) // 2\n",
    "    print(f\"paircount:{pair_count}\")\n",
    "    sample_size = min(int(sampling_ratio * pair_count), pair_count)\n",
    "    print(f\"sample_size:{sample_size}\")\n",
    "    rng = np.random.default_rng(seed)\n",
    "\n",
    "    sample = rng.choice(pair_count, sample_size, replace=False)\n",
    "    print(f\"sample:{sample}\")\n",
    "    sample_b = (np.sqrt(sample * 2 + 1/4) + 1/2).astype(np.int)\n",
    "    sample_a = sample - (sample_b * (sample_b - 1)) // 2\n",
    "    idx_a = sort_idx[sample_a]\n",
    "    idx_b = sort_idx[sample_b]\n",
    "\n",
    "    return idx_a, idx_b"
   ]
  },
  {
   "cell_type": "code",
   "execution_count": 36,
   "id": "8116b907",
   "metadata": {},
   "outputs": [
    {
     "name": "stdout",
     "output_type": "stream",
     "text": [
      "paircount:25425\n",
      "sample_size:25425\n",
      "sample:[ 1659 13983 13295 ...  1461 24475 17082]\n"
     ]
    }
   ],
   "source": [
    "idx_a2, idx_b2 = iterate_train_randomB(data)"
   ]
  },
  {
   "cell_type": "code",
   "execution_count": 37,
   "id": "246e54d8",
   "metadata": {},
   "outputs": [
    {
     "data": {
      "text/plain": [
       "(array([130,  48,  30, ..., 149, 112,  55]),\n",
       " array([189,  11, 128, ...,  96, 140, 167]))"
      ]
     },
     "execution_count": 37,
     "metadata": {},
     "output_type": "execute_result"
    }
   ],
   "source": [
    "idx_a2.flatten(), idx_b2.flatten()"
   ]
  },
  {
   "cell_type": "code",
   "execution_count": 38,
   "id": "d5cb1ae0",
   "metadata": {},
   "outputs": [
    {
     "data": {
      "text/plain": [
       "[(157, 225),\n",
       " (187, 224),\n",
       " (39, 223),\n",
       " (170, 222),\n",
       " (21, 221),\n",
       " (209, 220),\n",
       " (130, 219),\n",
       " (201, 218),\n",
       " (103, 217),\n",
       " (85, 216),\n",
       " (198, 215),\n",
       " (56, 214),\n",
       " (28, 213),\n",
       " (179, 212),\n",
       " (81, 211),\n",
       " (141, 210),\n",
       " (71, 209),\n",
       " (90, 208),\n",
       " (46, 207),\n",
       " (211, 206),\n",
       " (86, 205),\n",
       " (45, 204),\n",
       " (34, 203),\n",
       " (132, 202),\n",
       " (160, 201),\n",
       " (110, 200),\n",
       " (15, 199),\n",
       " (153, 198),\n",
       " (41, 197),\n",
       " (188, 196),\n",
       " (149, 195),\n",
       " (109, 194),\n",
       " (10, 193),\n",
       " (51, 192),\n",
       " (106, 191),\n",
       " (60, 190),\n",
       " (80, 189),\n",
       " (62, 188),\n",
       " (22, 187),\n",
       " (186, 186),\n",
       " (183, 185),\n",
       " (208, 184),\n",
       " (13, 183),\n",
       " (50, 182),\n",
       " (83, 181),\n",
       " (151, 180),\n",
       " (91, 179),\n",
       " (64, 178),\n",
       " (192, 177),\n",
       " (161, 176),\n",
       " (176, 175),\n",
       " (122, 174),\n",
       " (33, 173),\n",
       " (82, 172),\n",
       " (96, 171),\n",
       " (131, 170),\n",
       " (12, 169),\n",
       " (172, 168),\n",
       " (189, 167),\n",
       " (75, 166),\n",
       " (217, 165),\n",
       " (99, 164),\n",
       " (55, 163),\n",
       " (20, 162),\n",
       " (44, 161),\n",
       " (42, 160),\n",
       " (204, 159),\n",
       " (219, 158),\n",
       " (54, 157),\n",
       " (184, 156),\n",
       " (108, 155),\n",
       " (138, 154),\n",
       " (66, 153),\n",
       " (84, 152),\n",
       " (171, 151),\n",
       " (113, 150),\n",
       " (47, 149),\n",
       " (88, 148),\n",
       " (214, 147),\n",
       " (222, 146),\n",
       " (70, 145),\n",
       " (158, 144),\n",
       " (224, 143),\n",
       " (168, 142),\n",
       " (169, 141),\n",
       " (101, 140),\n",
       " (69, 139),\n",
       " (195, 138),\n",
       " (8, 137),\n",
       " (196, 136),\n",
       " (155, 135),\n",
       " (145, 134),\n",
       " (30, 133),\n",
       " (94, 132),\n",
       " (139, 131),\n",
       " (93, 130),\n",
       " (32, 129),\n",
       " (100, 128),\n",
       " (202, 127),\n",
       " (18, 126),\n",
       " (6, 125),\n",
       " (14, 124),\n",
       " (19, 123),\n",
       " (165, 122),\n",
       " (118, 121),\n",
       " (142, 120),\n",
       " (225, 119),\n",
       " (116, 118),\n",
       " (27, 117),\n",
       " (143, 116),\n",
       " (29, 115),\n",
       " (78, 114),\n",
       " (58, 113),\n",
       " (223, 112),\n",
       " (95, 111),\n",
       " (194, 110),\n",
       " (24, 109),\n",
       " (105, 108),\n",
       " (36, 107),\n",
       " (166, 106),\n",
       " (111, 105),\n",
       " (97, 104),\n",
       " (48, 103),\n",
       " (23, 102),\n",
       " (218, 101),\n",
       " (212, 100),\n",
       " (37, 99),\n",
       " (68, 98),\n",
       " (213, 97),\n",
       " (175, 96),\n",
       " (193, 95),\n",
       " (220, 94),\n",
       " (89, 93),\n",
       " (0, 92),\n",
       " (156, 91),\n",
       " (25, 90),\n",
       " (26, 89),\n",
       " (67, 88),\n",
       " (53, 87),\n",
       " (181, 86),\n",
       " (221, 85),\n",
       " (216, 84),\n",
       " (98, 83),\n",
       " (210, 82),\n",
       " (174, 81),\n",
       " (190, 80),\n",
       " (120, 79),\n",
       " (150, 78),\n",
       " (107, 77),\n",
       " (43, 76),\n",
       " (87, 75),\n",
       " (115, 74),\n",
       " (146, 73),\n",
       " (207, 72),\n",
       " (205, 71),\n",
       " (104, 70),\n",
       " (180, 69),\n",
       " (57, 68),\n",
       " (162, 67),\n",
       " (35, 66),\n",
       " (215, 65),\n",
       " (173, 64),\n",
       " (123, 63),\n",
       " (128, 62),\n",
       " (197, 61),\n",
       " (112, 60),\n",
       " (79, 59),\n",
       " (11, 58),\n",
       " (182, 57),\n",
       " (65, 56),\n",
       " (5, 55),\n",
       " (125, 54),\n",
       " (129, 53),\n",
       " (7, 52),\n",
       " (76, 51),\n",
       " (164, 50),\n",
       " (4, 49),\n",
       " (63, 48),\n",
       " (147, 47),\n",
       " (52, 46),\n",
       " (148, 45),\n",
       " (121, 44),\n",
       " (199, 43),\n",
       " (102, 42),\n",
       " (144, 41),\n",
       " (167, 40),\n",
       " (163, 39),\n",
       " (133, 38),\n",
       " (134, 37),\n",
       " (16, 36),\n",
       " (2, 35),\n",
       " (206, 34),\n",
       " (200, 33),\n",
       " (119, 32),\n",
       " (135, 31),\n",
       " (73, 30),\n",
       " (3, 29),\n",
       " (185, 28),\n",
       " (74, 27),\n",
       " (152, 26),\n",
       " (178, 25),\n",
       " (177, 24),\n",
       " (38, 23),\n",
       " (17, 22),\n",
       " (59, 21),\n",
       " (126, 20),\n",
       " (31, 19),\n",
       " (92, 18),\n",
       " (114, 17),\n",
       " (159, 16),\n",
       " (191, 15),\n",
       " (127, 14),\n",
       " (136, 13),\n",
       " (72, 12),\n",
       " (77, 11),\n",
       " (124, 10),\n",
       " (154, 9),\n",
       " (1, 8),\n",
       " (40, 7),\n",
       " (49, 6),\n",
       " (137, 5),\n",
       " (140, 4),\n",
       " (203, 3),\n",
       " (61, 2),\n",
       " (117, 1)]"
      ]
     },
     "execution_count": 38,
     "metadata": {},
     "output_type": "execute_result"
    }
   ],
   "source": [
    "Counter(idx_a2.flatten()).most_common()"
   ]
  },
  {
   "cell_type": "code",
   "execution_count": 39,
   "id": "af225fb8",
   "metadata": {},
   "outputs": [
    {
     "data": {
      "text/plain": [
       "25425"
      ]
     },
     "execution_count": 39,
     "metadata": {},
     "output_type": "execute_result"
    }
   ],
   "source": [
    "len(idx_a2.flatten())"
   ]
  },
  {
   "cell_type": "code",
   "execution_count": 40,
   "id": "3c8ad243",
   "metadata": {},
   "outputs": [],
   "source": [
    "def get_targetB(indices_a, indices_b):\n",
    "    assert(len(indices_a)==len(indices_b))\n",
    "    a = data[indices_a.flatten()]\n",
    "    b = data[indices_b.flatten()]\n",
    "    t = []\n",
    "    for i in range(len(indices_a)):\n",
    "        util_a = data[indices_a[i][0]].y #a[i].y\n",
    "        util_b = data[indices_b[i][0]].y #b[i].y\n",
    "        if util_a > util_b:\n",
    "            t.append(1)\n",
    "        else:\n",
    "            t.append(0)\n",
    "    return np.array(t)"
   ]
  },
  {
   "cell_type": "code",
   "execution_count": 41,
   "id": "9e4d4368",
   "metadata": {},
   "outputs": [],
   "source": [
    "target2 = get_targetB(idx_a2, idx_b2)"
   ]
  },
  {
   "cell_type": "code",
   "execution_count": 42,
   "id": "e983b8e9",
   "metadata": {},
   "outputs": [
    {
     "data": {
      "text/plain": [
       "(20, 25405)"
      ]
     },
     "execution_count": 42,
     "metadata": {},
     "output_type": "execute_result"
    }
   ],
   "source": [
    "list(target2).count(1), list(target2).count(0)"
   ]
  },
  {
   "cell_type": "code",
   "execution_count": 43,
   "id": "d5980abf",
   "metadata": {},
   "outputs": [
    {
     "data": {
      "text/plain": [
       "array([0, 0, 0, ..., 0, 0, 0])"
      ]
     },
     "execution_count": 43,
     "metadata": {},
     "output_type": "execute_result"
    }
   ],
   "source": [
    "target2"
   ]
  },
  {
   "cell_type": "code",
   "execution_count": 44,
   "id": "d9729219",
   "metadata": {},
   "outputs": [
    {
     "data": {
      "text/plain": [
       "OGBDataset(n_graphs=496)"
      ]
     },
     "execution_count": 44,
     "metadata": {},
     "output_type": "execute_result"
    }
   ],
   "source": [
    "asdasd = data[idx_a]\n",
    "asdasd"
   ]
  },
  {
   "cell_type": "code",
   "execution_count": 45,
   "id": "d8e558d7",
   "metadata": {},
   "outputs": [
    {
     "data": {
      "text/plain": [
       "OGBDataset(n_graphs=25425)"
      ]
     },
     "execution_count": 45,
     "metadata": {},
     "output_type": "execute_result"
    }
   ],
   "source": [
    "sdfasdf = data[idx_a2.flatten()]\n",
    "sdfasdf"
   ]
  },
  {
   "cell_type": "code",
   "execution_count": 46,
   "id": "1c6220fa",
   "metadata": {},
   "outputs": [
    {
     "data": {
      "text/plain": [
       "Counter({-7.43: 219,\n",
       "         -2.92: 103,\n",
       "         -3.65: 133,\n",
       "         -6.291: 207,\n",
       "         -3.12: 223,\n",
       "         -5.3820000000000014: 195,\n",
       "         -5.68: 199,\n",
       "         -2.15: 80,\n",
       "         -5.153: 188,\n",
       "         -3.2460000000000004: 119,\n",
       "         -5.46: 196,\n",
       "         -3.24: 118,\n",
       "         -3.9: 146,\n",
       "         -1.28: 49,\n",
       "         -4.77: 179,\n",
       "         -3.01: 105,\n",
       "         -3.5: 127,\n",
       "         -4.63: 347,\n",
       "         -3.952: 148,\n",
       "         -3.84: 141,\n",
       "         -4.19: 156,\n",
       "         -4.0: 150,\n",
       "         -1.48: 62,\n",
       "         -3.1: 110,\n",
       "         -4.36: 160,\n",
       "         -4.678: 176,\n",
       "         -2.484: 89,\n",
       "         -3.14: 113,\n",
       "         -5.37: 194,\n",
       "         -5.26: 192,\n",
       "         -4.57: 339,\n",
       "         -4.046: 151,\n",
       "         -4.4: 325,\n",
       "         -7.0: 215,\n",
       "         -0.85: 65,\n",
       "         -4.871: 183,\n",
       "         -2.23: 82,\n",
       "         -7.15: 216,\n",
       "         -4.46: 167,\n",
       "         -4.62: 172,\n",
       "         -1.6: 131,\n",
       "         -6.86: 212,\n",
       "         -8.49: 224,\n",
       "         -4.5939999999999985: 171,\n",
       "         -4.376: 161,\n",
       "         -3.571: 130,\n",
       "         -4.06: 153,\n",
       "         -6.144: 205,\n",
       "         -5.28: 193,\n",
       "         -3.4930000000000003: 125,\n",
       "         -1.34: 156,\n",
       "         -3.77: 137,\n",
       "         -1.93: 72,\n",
       "         -4.88: 185,\n",
       "         -4.9: 186,\n",
       "         -6.8: 211,\n",
       "         -3.35: 120,\n",
       "         -4.43: 165,\n",
       "         -6.25: 206,\n",
       "         -3.2: 117,\n",
       "         -2.0: 149,\n",
       "         -6.49: 208,\n",
       "         -6.124: 204,\n",
       "         -3.73: 271,\n",
       "         -4.23: 158,\n",
       "         -4.2: 157,\n",
       "         -1.456: 59,\n",
       "         -2.32: 84,\n",
       "         -4.735: 177,\n",
       "         -3.85: 429,\n",
       "         -0.8: 59,\n",
       "         -4.799: 180,\n",
       "         -0.29: 15,\n",
       "         -4.16: 155,\n",
       "         -4.66: 175,\n",
       "         -4.805: 182,\n",
       "         -7.2: 217,\n",
       "         -1.11: 43,\n",
       "         -4.047: 152,\n",
       "         -5.21: 191,\n",
       "         -1.92: 71,\n",
       "         -1.29: 50,\n",
       "         -3.953: 149,\n",
       "         -3.499: 126,\n",
       "         -3.63: 132,\n",
       "         -3.091: 109,\n",
       "         -7.21: 218,\n",
       "         -6.9: 214,\n",
       "         -3.39: 122,\n",
       "         -3.81: 139,\n",
       "         -4.76: 178,\n",
       "         -6.025: 202,\n",
       "         -4.3: 159,\n",
       "         -0.62: 43,\n",
       "         -0.96: 69,\n",
       "         -2.68: 96,\n",
       "         -6.09: 203,\n",
       "         -2.8: 100,\n",
       "         -7.68: 220,\n",
       "         -3.59: 131,\n",
       "         -8.71: 225,\n",
       "         -3.536: 128,\n",
       "         -3.82: 140,\n",
       "         -1.37: 55,\n",
       "         -5.47: 197,\n",
       "         -4.873: 184,\n",
       "         -1.74: 68,\n",
       "         -2.77: 98,\n",
       "         -2.09: 78,\n",
       "         -4.8: 181,\n",
       "         -3.7: 134,\n",
       "         -3.19: 116,\n",
       "         -2.36: 86,\n",
       "         -8.4: 223,\n",
       "         -1.886: 70,\n",
       "         -0.03: 8,\n",
       "         -7.85: 221,\n",
       "         -4.13: 154,\n",
       "         -2.06: 77,\n",
       "         -6.876: 213,\n",
       "         -2.74: 97,\n",
       "         -3.38: 121,\n",
       "         -4.42: 164,\n",
       "         -1.41: 57,\n",
       "         -2.54: 91,\n",
       "         -5.184: 189,\n",
       "         -2.55: 92,\n",
       "         -2.843: 102,\n",
       "         -1.46: 60,\n",
       "         -1.4: 56,\n",
       "         -5.72: 200,\n",
       "         -2.57: 93,\n",
       "         -6.01: 201,\n",
       "         -1.03: 36,\n",
       "         -2.82: 101,\n",
       "         -3.15: 114,\n",
       "         -2.35: 85,\n",
       "         -3.88: 145,\n",
       "         -3.03: 106,\n",
       "         -1.09: 41,\n",
       "         -3.46: 124,\n",
       "         -3.924: 147,\n",
       "         -5.05: 187,\n",
       "         -3.18: 115,\n",
       "         -2.932: 104,\n",
       "         -3.45: 123,\n",
       "         -3.54: 129,\n",
       "         -2.21: 81,\n",
       "         -2.523: 90,\n",
       "         -1.24: 47,\n",
       "         -5.64: 198,\n",
       "         -6.726: 210,\n",
       "         -2.03: 76,\n",
       "         -1.26: 48,\n",
       "         -4.44: 166,\n",
       "         -3.796: 138,\n",
       "         -2.42: 88,\n",
       "         -3.04: 107,\n",
       "         -1.56: 64,\n",
       "         -0.72: 24,\n",
       "         -2.78: 99,\n",
       "         -0.73: 25,\n",
       "         -0.742: 28,\n",
       "         -4.53: 168,\n",
       "         -2.11: 79,\n",
       "         -2.63: 95,\n",
       "         -1.08: 40,\n",
       "         -1.96: 73,\n",
       "         -5.19: 190,\n",
       "         -0.59: 20,\n",
       "         -1.04: 37,\n",
       "         -3.09: 108,\n",
       "         -1.1: 42,\n",
       "         -7.92: 222,\n",
       "         -1.81: 69,\n",
       "         -0.82: 31,\n",
       "         -1.71: 67,\n",
       "         -2.28: 83,\n",
       "         -6.57: 209,\n",
       "         -0.74: 53,\n",
       "         -0.12: 11,\n",
       "         -1.44: 58,\n",
       "         -2.59: 94,\n",
       "         -1.36: 54,\n",
       "         -1.4880000000000002: 63,\n",
       "         -2.41: 87,\n",
       "         -0.4: 35,\n",
       "         -1.23: 46,\n",
       "         -0.22: 14,\n",
       "         -1.228: 45,\n",
       "         -1.16: 44,\n",
       "         -1.47: 61,\n",
       "         -0.39: 16,\n",
       "         -0.63: 23,\n",
       "         -1.06: 38,\n",
       "         0.0: 13,\n",
       "         -0.45: 19,\n",
       "         -1.077: 39,\n",
       "         -0.18: 13,\n",
       "         0.94: 1,\n",
       "         0.45: 3,\n",
       "         0.32: 5,\n",
       "         -0.17: 12,\n",
       "         -0.04: 9,\n",
       "         -0.092: 10,\n",
       "         0.36: 4,\n",
       "         0.85: 2})"
      ]
     },
     "execution_count": 46,
     "metadata": {},
     "output_type": "execute_result"
    }
   ],
   "source": [
    "y = [e.y for e in sdfasdf]\n",
    "y =[x[0] for x in y]\n",
    "Counter(y)"
   ]
  },
  {
   "cell_type": "markdown",
   "id": "ca453874",
   "metadata": {},
   "source": [
    "# Aufbau C\n",
    "## Erst Paare über alle Daten (ineffizient) -> Target"
   ]
  },
  {
   "cell_type": "code",
   "execution_count": 47,
   "id": "86eea5bf",
   "metadata": {},
   "outputs": [],
   "source": [
    "data = dataset_test\n",
    "batch_size = 32\n",
    "shuffle = True\n",
    "sseed = 42\n",
    "sampling_ratio = 2\n",
    "indices = np.arange(len(data))\n",
    "node_level = False\n",
    "index=1"
   ]
  },
  {
   "cell_type": "code",
   "execution_count": 48,
   "id": "3c54227b",
   "metadata": {},
   "outputs": [
    {
     "data": {
      "text/plain": [
       "226"
      ]
     },
     "execution_count": 48,
     "metadata": {},
     "output_type": "execute_result"
    }
   ],
   "source": [
    "len(dataset_test)"
   ]
  },
  {
   "cell_type": "code",
   "execution_count": 49,
   "id": "e4c51119",
   "metadata": {},
   "outputs": [],
   "source": [
    "from itertools import combinations\n",
    "def sample_preference_pairs(graphs):\n",
    "    c = [(a, b, check_util(graphs, a,b)) for a, b in combinations(range(len(graphs)), 2)]\n",
    "    idx_a = []\n",
    "    idx_b = []\n",
    "    target = []\n",
    "    for id_a, id_b, t in c:\n",
    "        idx_a.append(id_a)\n",
    "        idx_b.append(id_b)\n",
    "        target.append(t)\n",
    "    return np.array(list(zip(idx_a,idx_b))), np.array(target).reshape(-1)\n",
    "\n",
    "def check_util(data, index_a, index_b):\n",
    "        a = data[index_a]\n",
    "        b = data[index_b]\n",
    "        util_a = a.y\n",
    "        util_b = b.y\n",
    "        if util_a >= util_b:\n",
    "            return 1\n",
    "        else:\n",
    "            return 0"
   ]
  },
  {
   "cell_type": "code",
   "execution_count": 61,
   "id": "906fdc02",
   "metadata": {},
   "outputs": [],
   "source": [
    "def sample_preference_pairs2(graphs):\n",
    "    c = [(a, b, check_util2(graphs, a,b)) for a, b in combinations(range(len(graphs)), 2)]\n",
    "    return np.array(c)\n",
    "\n",
    "def check_util2(data, index_a, index_b):\n",
    "        a = data[index_a]\n",
    "        b = data[index_b]\n",
    "        util_a = a.y\n",
    "        util_b = b.y\n",
    "        if util_a >= util_b:\n",
    "            return 1\n",
    "        else:\n",
    "            return 0"
   ]
  },
  {
   "cell_type": "code",
   "execution_count": 51,
   "id": "4eceb06b",
   "metadata": {},
   "outputs": [],
   "source": [
    "pairs3, t3 = sample_preference_pairs(data)"
   ]
  },
  {
   "cell_type": "code",
   "execution_count": 52,
   "id": "3c0847c7",
   "metadata": {},
   "outputs": [
    {
     "data": {
      "text/plain": [
       "array([[  0,   1],\n",
       "       [  0,   2],\n",
       "       [  0,   3],\n",
       "       ...,\n",
       "       [223, 224],\n",
       "       [223, 225],\n",
       "       [224, 225]])"
      ]
     },
     "execution_count": 52,
     "metadata": {},
     "output_type": "execute_result"
    }
   ],
   "source": [
    "pairs3"
   ]
  },
  {
   "cell_type": "code",
   "execution_count": 62,
   "id": "5bd864a6",
   "metadata": {},
   "outputs": [],
   "source": [
    "pairs4 = sample_preference_pairs2(data)"
   ]
  },
  {
   "cell_type": "code",
   "execution_count": 64,
   "id": "40d49e5a",
   "metadata": {},
   "outputs": [
    {
     "data": {
      "text/plain": [
       "25425"
      ]
     },
     "execution_count": 64,
     "metadata": {},
     "output_type": "execute_result"
    }
   ],
   "source": [
    "len(pairs4)"
   ]
  },
  {
   "cell_type": "code",
   "execution_count": 63,
   "id": "076d0452",
   "metadata": {},
   "outputs": [
    {
     "data": {
      "text/plain": [
       "array([[  0,   1,   0],\n",
       "       [  0,   2,   0],\n",
       "       [  0,   3,   0],\n",
       "       ...,\n",
       "       [223, 224,   1],\n",
       "       [223, 225,   1],\n",
       "       [224, 225,   0]])"
      ]
     },
     "execution_count": 63,
     "metadata": {},
     "output_type": "execute_result"
    }
   ],
   "source": [
    "pairs4"
   ]
  },
  {
   "cell_type": "code",
   "execution_count": 65,
   "id": "d78113ae",
   "metadata": {},
   "outputs": [
    {
     "ename": "NameError",
     "evalue": "name 'idx_a3' is not defined",
     "output_type": "error",
     "traceback": [
      "\u001b[0;31m---------------------------------------------------------------------------\u001b[0m",
      "\u001b[0;31mNameError\u001b[0m                                 Traceback (most recent call last)",
      "\u001b[0;32m<ipython-input-65-e0552f72bef1>\u001b[0m in \u001b[0;36m<module>\u001b[0;34m\u001b[0m\n\u001b[0;32m----> 1\u001b[0;31m \u001b[0;34m(\u001b[0m\u001b[0midx_a3\u001b[0m\u001b[0;34m,\u001b[0m \u001b[0midx_b3\u001b[0m\u001b[0;34m)\u001b[0m\u001b[0;34m\u001b[0m\u001b[0;34m\u001b[0m\u001b[0m\n\u001b[0m",
      "\u001b[0;31mNameError\u001b[0m: name 'idx_a3' is not defined"
     ]
    }
   ],
   "source": [
    "(idx_a3, idx_b3)"
   ]
  },
  {
   "cell_type": "code",
   "execution_count": null,
   "id": "53ac60ca",
   "metadata": {},
   "outputs": [],
   "source": [
    "idx_a3"
   ]
  },
  {
   "cell_type": "code",
   "execution_count": 330,
   "id": "b96ce0c6",
   "metadata": {},
   "outputs": [
    {
     "data": {
      "text/plain": [
       "array([  1,   2,   3, ..., 224, 225, 225])"
      ]
     },
     "execution_count": 330,
     "metadata": {},
     "output_type": "execute_result"
    }
   ],
   "source": [
    "idx_b3"
   ]
  },
  {
   "cell_type": "code",
   "execution_count": 331,
   "id": "187a2707",
   "metadata": {},
   "outputs": [
    {
     "data": {
      "text/plain": [
       "[(0, 225),\n",
       " (1, 224),\n",
       " (2, 223),\n",
       " (3, 222),\n",
       " (4, 221),\n",
       " (5, 220),\n",
       " (6, 219),\n",
       " (7, 218),\n",
       " (8, 217),\n",
       " (9, 216),\n",
       " (10, 215),\n",
       " (11, 214),\n",
       " (12, 213),\n",
       " (13, 212),\n",
       " (14, 211),\n",
       " (15, 210),\n",
       " (16, 209),\n",
       " (17, 208),\n",
       " (18, 207),\n",
       " (19, 206),\n",
       " (20, 205),\n",
       " (21, 204),\n",
       " (22, 203),\n",
       " (23, 202),\n",
       " (24, 201),\n",
       " (25, 200),\n",
       " (26, 199),\n",
       " (27, 198),\n",
       " (28, 197),\n",
       " (29, 196),\n",
       " (30, 195),\n",
       " (31, 194),\n",
       " (32, 193),\n",
       " (33, 192),\n",
       " (34, 191),\n",
       " (35, 190),\n",
       " (36, 189),\n",
       " (37, 188),\n",
       " (38, 187),\n",
       " (39, 186),\n",
       " (40, 185),\n",
       " (41, 184),\n",
       " (42, 183),\n",
       " (43, 182),\n",
       " (44, 181),\n",
       " (45, 180),\n",
       " (46, 179),\n",
       " (47, 178),\n",
       " (48, 177),\n",
       " (49, 176),\n",
       " (50, 175),\n",
       " (51, 174),\n",
       " (52, 173),\n",
       " (53, 172),\n",
       " (54, 171),\n",
       " (55, 170),\n",
       " (56, 169),\n",
       " (57, 168),\n",
       " (58, 167),\n",
       " (59, 166),\n",
       " (60, 165),\n",
       " (61, 164),\n",
       " (62, 163),\n",
       " (63, 162),\n",
       " (64, 161),\n",
       " (65, 160),\n",
       " (66, 159),\n",
       " (67, 158),\n",
       " (68, 157),\n",
       " (69, 156),\n",
       " (70, 155),\n",
       " (71, 154),\n",
       " (72, 153),\n",
       " (73, 152),\n",
       " (74, 151),\n",
       " (75, 150),\n",
       " (76, 149),\n",
       " (77, 148),\n",
       " (78, 147),\n",
       " (79, 146),\n",
       " (80, 145),\n",
       " (81, 144),\n",
       " (82, 143),\n",
       " (83, 142),\n",
       " (84, 141),\n",
       " (85, 140),\n",
       " (86, 139),\n",
       " (87, 138),\n",
       " (88, 137),\n",
       " (89, 136),\n",
       " (90, 135),\n",
       " (91, 134),\n",
       " (92, 133),\n",
       " (93, 132),\n",
       " (94, 131),\n",
       " (95, 130),\n",
       " (96, 129),\n",
       " (97, 128),\n",
       " (98, 127),\n",
       " (99, 126),\n",
       " (100, 125),\n",
       " (101, 124),\n",
       " (102, 123),\n",
       " (103, 122),\n",
       " (104, 121),\n",
       " (105, 120),\n",
       " (106, 119),\n",
       " (107, 118),\n",
       " (108, 117),\n",
       " (109, 116),\n",
       " (110, 115),\n",
       " (111, 114),\n",
       " (112, 113),\n",
       " (113, 112),\n",
       " (114, 111),\n",
       " (115, 110),\n",
       " (116, 109),\n",
       " (117, 108),\n",
       " (118, 107),\n",
       " (119, 106),\n",
       " (120, 105),\n",
       " (121, 104),\n",
       " (122, 103),\n",
       " (123, 102),\n",
       " (124, 101),\n",
       " (125, 100),\n",
       " (126, 99),\n",
       " (127, 98),\n",
       " (128, 97),\n",
       " (129, 96),\n",
       " (130, 95),\n",
       " (131, 94),\n",
       " (132, 93),\n",
       " (133, 92),\n",
       " (134, 91),\n",
       " (135, 90),\n",
       " (136, 89),\n",
       " (137, 88),\n",
       " (138, 87),\n",
       " (139, 86),\n",
       " (140, 85),\n",
       " (141, 84),\n",
       " (142, 83),\n",
       " (143, 82),\n",
       " (144, 81),\n",
       " (145, 80),\n",
       " (146, 79),\n",
       " (147, 78),\n",
       " (148, 77),\n",
       " (149, 76),\n",
       " (150, 75),\n",
       " (151, 74),\n",
       " (152, 73),\n",
       " (153, 72),\n",
       " (154, 71),\n",
       " (155, 70),\n",
       " (156, 69),\n",
       " (157, 68),\n",
       " (158, 67),\n",
       " (159, 66),\n",
       " (160, 65),\n",
       " (161, 64),\n",
       " (162, 63),\n",
       " (163, 62),\n",
       " (164, 61),\n",
       " (165, 60),\n",
       " (166, 59),\n",
       " (167, 58),\n",
       " (168, 57),\n",
       " (169, 56),\n",
       " (170, 55),\n",
       " (171, 54),\n",
       " (172, 53),\n",
       " (173, 52),\n",
       " (174, 51),\n",
       " (175, 50),\n",
       " (176, 49),\n",
       " (177, 48),\n",
       " (178, 47),\n",
       " (179, 46),\n",
       " (180, 45),\n",
       " (181, 44),\n",
       " (182, 43),\n",
       " (183, 42),\n",
       " (184, 41),\n",
       " (185, 40),\n",
       " (186, 39),\n",
       " (187, 38),\n",
       " (188, 37),\n",
       " (189, 36),\n",
       " (190, 35),\n",
       " (191, 34),\n",
       " (192, 33),\n",
       " (193, 32),\n",
       " (194, 31),\n",
       " (195, 30),\n",
       " (196, 29),\n",
       " (197, 28),\n",
       " (198, 27),\n",
       " (199, 26),\n",
       " (200, 25),\n",
       " (201, 24),\n",
       " (202, 23),\n",
       " (203, 22),\n",
       " (204, 21),\n",
       " (205, 20),\n",
       " (206, 19),\n",
       " (207, 18),\n",
       " (208, 17),\n",
       " (209, 16),\n",
       " (210, 15),\n",
       " (211, 14),\n",
       " (212, 13),\n",
       " (213, 12),\n",
       " (214, 11),\n",
       " (215, 10),\n",
       " (216, 9),\n",
       " (217, 8),\n",
       " (218, 7),\n",
       " (219, 6),\n",
       " (220, 5),\n",
       " (221, 4),\n",
       " (222, 3),\n",
       " (223, 2),\n",
       " (224, 1)]"
      ]
     },
     "execution_count": 331,
     "metadata": {},
     "output_type": "execute_result"
    }
   ],
   "source": [
    "Counter(idx_a3).most_common()"
   ]
  },
  {
   "cell_type": "code",
   "execution_count": 332,
   "id": "e5c99236",
   "metadata": {},
   "outputs": [
    {
     "data": {
      "text/plain": [
       "[(225, 225),\n",
       " (224, 224),\n",
       " (223, 223),\n",
       " (222, 222),\n",
       " (221, 221),\n",
       " (220, 220),\n",
       " (219, 219),\n",
       " (218, 218),\n",
       " (217, 217),\n",
       " (216, 216),\n",
       " (215, 215),\n",
       " (214, 214),\n",
       " (213, 213),\n",
       " (212, 212),\n",
       " (211, 211),\n",
       " (210, 210),\n",
       " (209, 209),\n",
       " (208, 208),\n",
       " (207, 207),\n",
       " (206, 206),\n",
       " (205, 205),\n",
       " (204, 204),\n",
       " (203, 203),\n",
       " (202, 202),\n",
       " (201, 201),\n",
       " (200, 200),\n",
       " (199, 199),\n",
       " (198, 198),\n",
       " (197, 197),\n",
       " (196, 196),\n",
       " (195, 195),\n",
       " (194, 194),\n",
       " (193, 193),\n",
       " (192, 192),\n",
       " (191, 191),\n",
       " (190, 190),\n",
       " (189, 189),\n",
       " (188, 188),\n",
       " (187, 187),\n",
       " (186, 186),\n",
       " (185, 185),\n",
       " (184, 184),\n",
       " (183, 183),\n",
       " (182, 182),\n",
       " (181, 181),\n",
       " (180, 180),\n",
       " (179, 179),\n",
       " (178, 178),\n",
       " (177, 177),\n",
       " (176, 176),\n",
       " (175, 175),\n",
       " (174, 174),\n",
       " (173, 173),\n",
       " (172, 172),\n",
       " (171, 171),\n",
       " (170, 170),\n",
       " (169, 169),\n",
       " (168, 168),\n",
       " (167, 167),\n",
       " (166, 166),\n",
       " (165, 165),\n",
       " (164, 164),\n",
       " (163, 163),\n",
       " (162, 162),\n",
       " (161, 161),\n",
       " (160, 160),\n",
       " (159, 159),\n",
       " (158, 158),\n",
       " (157, 157),\n",
       " (156, 156),\n",
       " (155, 155),\n",
       " (154, 154),\n",
       " (153, 153),\n",
       " (152, 152),\n",
       " (151, 151),\n",
       " (150, 150),\n",
       " (149, 149),\n",
       " (148, 148),\n",
       " (147, 147),\n",
       " (146, 146),\n",
       " (145, 145),\n",
       " (144, 144),\n",
       " (143, 143),\n",
       " (142, 142),\n",
       " (141, 141),\n",
       " (140, 140),\n",
       " (139, 139),\n",
       " (138, 138),\n",
       " (137, 137),\n",
       " (136, 136),\n",
       " (135, 135),\n",
       " (134, 134),\n",
       " (133, 133),\n",
       " (132, 132),\n",
       " (131, 131),\n",
       " (130, 130),\n",
       " (129, 129),\n",
       " (128, 128),\n",
       " (127, 127),\n",
       " (126, 126),\n",
       " (125, 125),\n",
       " (124, 124),\n",
       " (123, 123),\n",
       " (122, 122),\n",
       " (121, 121),\n",
       " (120, 120),\n",
       " (119, 119),\n",
       " (118, 118),\n",
       " (117, 117),\n",
       " (116, 116),\n",
       " (115, 115),\n",
       " (114, 114),\n",
       " (113, 113),\n",
       " (112, 112),\n",
       " (111, 111),\n",
       " (110, 110),\n",
       " (109, 109),\n",
       " (108, 108),\n",
       " (107, 107),\n",
       " (106, 106),\n",
       " (105, 105),\n",
       " (104, 104),\n",
       " (103, 103),\n",
       " (102, 102),\n",
       " (101, 101),\n",
       " (100, 100),\n",
       " (99, 99),\n",
       " (98, 98),\n",
       " (97, 97),\n",
       " (96, 96),\n",
       " (95, 95),\n",
       " (94, 94),\n",
       " (93, 93),\n",
       " (92, 92),\n",
       " (91, 91),\n",
       " (90, 90),\n",
       " (89, 89),\n",
       " (88, 88),\n",
       " (87, 87),\n",
       " (86, 86),\n",
       " (85, 85),\n",
       " (84, 84),\n",
       " (83, 83),\n",
       " (82, 82),\n",
       " (81, 81),\n",
       " (80, 80),\n",
       " (79, 79),\n",
       " (78, 78),\n",
       " (77, 77),\n",
       " (76, 76),\n",
       " (75, 75),\n",
       " (74, 74),\n",
       " (73, 73),\n",
       " (72, 72),\n",
       " (71, 71),\n",
       " (70, 70),\n",
       " (69, 69),\n",
       " (68, 68),\n",
       " (67, 67),\n",
       " (66, 66),\n",
       " (65, 65),\n",
       " (64, 64),\n",
       " (63, 63),\n",
       " (62, 62),\n",
       " (61, 61),\n",
       " (60, 60),\n",
       " (59, 59),\n",
       " (58, 58),\n",
       " (57, 57),\n",
       " (56, 56),\n",
       " (55, 55),\n",
       " (54, 54),\n",
       " (53, 53),\n",
       " (52, 52),\n",
       " (51, 51),\n",
       " (50, 50),\n",
       " (49, 49),\n",
       " (48, 48),\n",
       " (47, 47),\n",
       " (46, 46),\n",
       " (45, 45),\n",
       " (44, 44),\n",
       " (43, 43),\n",
       " (42, 42),\n",
       " (41, 41),\n",
       " (40, 40),\n",
       " (39, 39),\n",
       " (38, 38),\n",
       " (37, 37),\n",
       " (36, 36),\n",
       " (35, 35),\n",
       " (34, 34),\n",
       " (33, 33),\n",
       " (32, 32),\n",
       " (31, 31),\n",
       " (30, 30),\n",
       " (29, 29),\n",
       " (28, 28),\n",
       " (27, 27),\n",
       " (26, 26),\n",
       " (25, 25),\n",
       " (24, 24),\n",
       " (23, 23),\n",
       " (22, 22),\n",
       " (21, 21),\n",
       " (20, 20),\n",
       " (19, 19),\n",
       " (18, 18),\n",
       " (17, 17),\n",
       " (16, 16),\n",
       " (15, 15),\n",
       " (14, 14),\n",
       " (13, 13),\n",
       " (12, 12),\n",
       " (11, 11),\n",
       " (10, 10),\n",
       " (9, 9),\n",
       " (8, 8),\n",
       " (7, 7),\n",
       " (6, 6),\n",
       " (5, 5),\n",
       " (4, 4),\n",
       " (3, 3),\n",
       " (2, 2),\n",
       " (1, 1)]"
      ]
     },
     "execution_count": 332,
     "metadata": {},
     "output_type": "execute_result"
    }
   ],
   "source": [
    "Counter(idx_b3).most_common()"
   ]
  },
  {
   "cell_type": "code",
   "execution_count": 333,
   "id": "c1bf62d6",
   "metadata": {},
   "outputs": [
    {
     "data": {
      "text/plain": [
       "array([0, 0, 0, ..., 1, 1, 0])"
      ]
     },
     "execution_count": 333,
     "metadata": {},
     "output_type": "execute_result"
    }
   ],
   "source": [
    "t3"
   ]
  },
  {
   "cell_type": "code",
   "execution_count": 334,
   "id": "6ce57f7c",
   "metadata": {},
   "outputs": [
    {
     "data": {
      "text/plain": [
       "Counter({0: 12684, 1: 12741})"
      ]
     },
     "execution_count": 334,
     "metadata": {},
     "output_type": "execute_result"
    }
   ],
   "source": [
    "Counter(t3)"
   ]
  },
  {
   "cell_type": "code",
   "execution_count": 335,
   "id": "5d204513",
   "metadata": {},
   "outputs": [
    {
     "data": {
      "text/plain": [
       "25425"
      ]
     },
     "execution_count": 335,
     "metadata": {},
     "output_type": "execute_result"
    }
   ],
   "source": [
    "len(idx_b3)"
   ]
  },
  {
   "cell_type": "code",
   "execution_count": 336,
   "id": "b25dc8b8",
   "metadata": {},
   "outputs": [],
   "source": [
    "pairs = np.array(list(zip(idx_a3,idx_b3)))"
   ]
  },
  {
   "cell_type": "code",
   "execution_count": 337,
   "id": "ef6cceb1",
   "metadata": {},
   "outputs": [],
   "source": [
    "pairs = sk_shuffle(pairs)"
   ]
  },
  {
   "cell_type": "code",
   "execution_count": 338,
   "id": "94cafaba",
   "metadata": {},
   "outputs": [],
   "source": [
    "p=pairs[np.array([2,4,56,6,7,8])]"
   ]
  },
  {
   "cell_type": "code",
   "execution_count": 339,
   "id": "2e43e3fb",
   "metadata": {},
   "outputs": [
    {
     "data": {
      "text/plain": [
       "array([[143, 177],\n",
       "       [ 63, 222],\n",
       "       [153, 160],\n",
       "       [153, 175],\n",
       "       [ 38,  45],\n",
       "       [ 86,  94]])"
      ]
     },
     "execution_count": 339,
     "metadata": {},
     "output_type": "execute_result"
    }
   ],
   "source": [
    "p"
   ]
  },
  {
   "cell_type": "code",
   "execution_count": null,
   "id": "8b9caf35",
   "metadata": {},
   "outputs": [],
   "source": []
  },
  {
   "cell_type": "code",
   "execution_count": 66,
   "id": "d87ea5ec",
   "metadata": {},
   "outputs": [],
   "source": [
    "def foo(data, p):\n",
    "    p1, p2 = zip(*[(x[0], x[1]) for x in p])\n",
    "    required_indices = np.array(list(set(p1+p2)))\n",
    "    required_data = data[required_indices]\n",
    "    return required_data"
   ]
  },
  {
   "cell_type": "code",
   "execution_count": 67,
   "id": "41be4e0a",
   "metadata": {},
   "outputs": [
    {
     "ename": "NameError",
     "evalue": "name 'p' is not defined",
     "output_type": "error",
     "traceback": [
      "\u001b[0;31m---------------------------------------------------------------------------\u001b[0m",
      "\u001b[0;31mNameError\u001b[0m                                 Traceback (most recent call last)",
      "\u001b[0;32m<ipython-input-67-338a45eedce4>\u001b[0m in \u001b[0;36m<module>\u001b[0;34m\u001b[0m\n\u001b[0;32m----> 1\u001b[0;31m \u001b[0mc\u001b[0m\u001b[0;34m=\u001b[0m\u001b[0mfoo\u001b[0m\u001b[0;34m(\u001b[0m\u001b[0mdata\u001b[0m\u001b[0;34m,\u001b[0m\u001b[0mp\u001b[0m\u001b[0;34m)\u001b[0m\u001b[0;34m\u001b[0m\u001b[0;34m\u001b[0m\u001b[0m\n\u001b[0m\u001b[1;32m      2\u001b[0m \u001b[0mc\u001b[0m\u001b[0;34m\u001b[0m\u001b[0;34m\u001b[0m\u001b[0m\n",
      "\u001b[0;31mNameError\u001b[0m: name 'p' is not defined"
     ]
    }
   ],
   "source": [
    "c=foo(data,p)\n",
    "c"
   ]
  },
  {
   "cell_type": "code",
   "execution_count": 68,
   "id": "19ed4792",
   "metadata": {},
   "outputs": [],
   "source": [
    "class CustomDataLoader(tf.keras.utils.Sequence):\n",
    "    def __init__(self, data, pairs, targets, batch_size=32, shuffle=True, seed=42):\n",
    "        print(\"CustomDataLoader.__init__\")\n",
    "        self.data = data\n",
    "        self.pairs = pairs\n",
    "        self.targets = targets\n",
    "        self.batch_size = batch_size\n",
    "        self.shuffle = shuffle\n",
    "        self.seed = seed\n",
    "        self.indices = np.arange(len(self.pairs))\n",
    "        self.node_level = False\n",
    "        self.on_epoch_end()\n",
    "\n",
    "    def __len__(self):\n",
    "        print(\"CustomDataLoader.__len__\")\n",
    "        return int(np.floor(len(self.pairs) / self.batch_size))\n",
    "\n",
    "    def __getitem__(self, index):\n",
    "        print(\"CustomDataLoader.__getitem__\")\n",
    "        indices = np.array(self.indices[index*self.batch_size:(index+1)*self.batch_size])\n",
    "        batch_pairs = self.pairs[indices]\n",
    "        batch_data, idx_a, idx_b = self.get_batch_data(batch_pairs)\n",
    "        batch_targets = self.targets[indices]\n",
    "        #self.info(batch_pairs, batch_data, batch_targets)\n",
    "        \n",
    "        #disjointLoader content start\n",
    "        packed = self.pack(batch_data)\n",
    "        y = packed.pop(\"y_list\", None)\n",
    "        if y is not None:\n",
    "            y = collate_labels_disjoint(y, node_level=self.node_level)\n",
    "        output = to_disjoint(**packed)\n",
    "        output = sp_matrices_to_sp_tensors(output)\n",
    "        #disjointLoader content end\n",
    "        output = output + (idx_a, idx_b)\n",
    "        print(len(output))\n",
    "        print(output)\n",
    "        \n",
    "        return output, batch_targets\n",
    "\n",
    "    def on_epoch_end(self):\n",
    "        print(\"CustomDataLoader.on_epoch_end\")\n",
    "        if self.shuffle:\n",
    "            np.random.shuffle(self.indices)\n",
    "            self.pairs, self.targets = sk_shuffle(self.pairs, self.targets)\n",
    "            \n",
    "    def get_batch_data(self, pairs):\n",
    "        print(\"CustomDataLoader.get_batch_data\")\n",
    "        p1, p2 = zip(*[(x[0], x[1]) for x in pairs])\n",
    "        required_indices = np.array(list(set(p1+p2)))\n",
    "        required_data = self.data[required_indices]\n",
    "        return required_data, p1, p2\n",
    "            \n",
    "    def pack(self, batch):\n",
    "        print(\"CustomDataLoader.pack\")\n",
    "        \"\"\"\n",
    "        Given a batch of graphs, groups their attributes into separate lists and packs\n",
    "        them in a dictionary.\n",
    "\n",
    "        For instance, if a batch has three graphs g1, g2 and g3 with node\n",
    "        features (x1, x2, x3) and adjacency matrices (a1, a2, a3), this method\n",
    "        will return a dictionary:\n",
    "\n",
    "        ```python\n",
    "        >>> {'a_list': [a1, a2, a3], 'x_list': [x1, x2, x3]}\n",
    "        ```\n",
    "\n",
    "        :param batch: a list of `Graph` objects.\n",
    "        \"\"\"\n",
    "        output = [list(elem) for elem in zip(*[g.numpy() for g in batch])]\n",
    "        keys = [k + \"_list\" for k in self.data.signature.keys()]\n",
    "        return dict(zip(keys, output))\n",
    "    \n",
    "    def info(self, b_p, b_d, b_t):\n",
    "        print(\"CustomDataLoader.info\")\n",
    "        print(f\"len pairs:{len(self.pairs)}\")\n",
    "        print(f\"len indices:{len(self.pairs)}\")\n",
    "        print(f\"batch_pairs:{b_p}\")\n",
    "        print(f\"batch_data:{b_d}\")\n",
    "        print(f\"batch_target:{b_t}\")"
   ]
  },
  {
   "cell_type": "code",
   "execution_count": 69,
   "id": "348229b2",
   "metadata": {},
   "outputs": [],
   "source": [
    "import tensorflow as tf\n",
    "from tensorflow.keras.layers import Dense\n",
    "from spektral.layers import ECCConv\n",
    "\n",
    "\n",
    "class PRGNN(tf.keras.Model):\n",
    "    def __init__(self, config):\n",
    "        super().__init__()\n",
    "        self.conv1 = ECCConv(32, activation=\"relu\")\n",
    "        self.conv2 = ECCConv(32, activation=\"relu\")\n",
    "        self.dense = Dense(config['n_out'], activation=None)\n",
    "\n",
    "    def call(self, inputs):#, training=False\n",
    "        print(\"model.call\")\n",
    "        print(f\"inputs:{inputs.__getitem__(0)}\")\n",
    "        x, a, e, i, idx_a, idx_b = inputs#inputs[0],inputs[1],inputs[2],inputs[3],inputs[4],inputs[5]\n",
    "        #print(x)\n",
    "        #print(a)\n",
    "        #print(e)\n",
    "        #print(idx_a)\n",
    "        #print(idx_b)\n",
    "\n",
    "        x = tf.cast(x, tf.float32)\n",
    "        a = a.with_values(tf.cast(a.values, tf.float32))\n",
    "        e = tf.cast(e, tf.float32)\n",
    "\n",
    "        X = self.conv1([x, a, e])\n",
    "        X = self.conv2([X, a, e])\n",
    "        X_util = self.dense(X)\n",
    "        X_a, X_b = self.pref_lookup(X_util, idx_a, idx_b)\n",
    "        print(X_b - X_a)\n",
    "        #assert False\n",
    "        return X_b - X_a\n",
    "        # if training:\n",
    "        #     return X_b - X_a\n",
    "        # else:\n",
    "        #     return X_util\n",
    "\n",
    "        # return X_b - X_a, X_util\n",
    "\n",
    "    def pref_lookup(self, X, pref_a, pref_b):\n",
    "\n",
    "        X_a = tf.gather(X, pref_a, axis=0)\n",
    "        X_b = tf.gather(X, pref_b, axis=0)\n",
    "\n",
    "        return X_a, X_b"
   ]
  },
  {
   "cell_type": "code",
   "execution_count": 70,
   "id": "300a316f",
   "metadata": {},
   "outputs": [
    {
     "name": "stdout",
     "output_type": "stream",
     "text": [
      "CustomDataLoader.__init__\n",
      "CustomDataLoader.on_epoch_end\n"
     ]
    }
   ],
   "source": [
    "# Create DataLoader\n",
    "data = dataset_test\n",
    "batch_size = 32\n",
    "shuffle = True\n",
    "sseed = 42\n",
    "pairs, targets = sample_preference_pairs(data)\n",
    "data_loader = CustomDataLoader(data, pairs, targets, batch_size=batch_size, seed=sseed)"
   ]
  },
  {
   "cell_type": "code",
   "execution_count": 71,
   "id": "686a171d",
   "metadata": {},
   "outputs": [],
   "source": [
    "model = PRGNN(config)\n",
    "\n",
    "model.compile(optimizer=Adam(config['learning_rate']),\n",
    "              loss=BinaryCrossentropy(from_logits=True),\n",
    "              metrics=[BinaryAccuracy(threshold=.5)])"
   ]
  },
  {
   "cell_type": "code",
   "execution_count": 72,
   "id": "eb150387",
   "metadata": {},
   "outputs": [
    {
     "name": "stdout",
     "output_type": "stream",
     "text": [
      "CustomDataLoader.__len__\n",
      "CustomDataLoader.__getitem__\n",
      "CustomDataLoader.get_batch_data\n",
      "CustomDataLoader.pack\n",
      "6\n",
      "(array([[5, 0, 4, ..., 2, 0, 1],\n",
      "       [5, 0, 4, ..., 2, 0, 1],\n",
      "       [5, 0, 4, ..., 2, 0, 1],\n",
      "       ...,\n",
      "       [5, 0, 4, ..., 2, 0, 0],\n",
      "       [5, 0, 2, ..., 0, 0, 0],\n",
      "       [6, 0, 1, ..., 0, 0, 0]]), <tensorflow.python.framework.sparse_tensor.SparseTensor object at 0x7f8354b96550>, array([[0, 0, 0],\n",
      "       [0, 0, 0],\n",
      "       [0, 0, 0],\n",
      "       ...,\n",
      "       [0, 0, 0],\n",
      "       [2, 0, 0],\n",
      "       [2, 0, 0]]), array([ 0,  0,  0,  0,  0,  0,  1,  1,  1,  1,  1,  1,  1,  1,  1,  2,  2,\n",
      "        2,  2,  2,  2,  2,  2,  3,  3,  3,  3,  3,  3,  3,  3,  4,  4,  4,\n",
      "        4,  4,  5,  5,  5,  5,  5,  5,  6,  6,  6,  6,  6,  6,  6,  6,  6,\n",
      "        6,  6,  6,  6,  6,  6,  6,  6,  6,  7,  7,  7,  7,  7,  7,  7,  7,\n",
      "        7,  7,  7,  7,  7,  7,  7,  7,  7,  7,  7,  7,  7,  8,  8,  8,  8,\n",
      "        8,  8,  8,  8,  9,  9,  9,  9,  9,  9,  9,  9,  9,  9, 10, 10, 10,\n",
      "       10, 10, 10, 10, 10, 10, 10, 10, 10, 10, 10, 10, 10, 10, 10, 10, 10,\n",
      "       11, 11, 11, 11, 11, 11, 11, 11, 11, 11, 11, 11, 12, 12, 12, 12, 12,\n",
      "       12, 12, 12, 12, 12, 12, 12, 12, 12, 13, 13, 13, 13, 13, 13, 13, 13,\n",
      "       13, 13, 13, 13, 13, 13, 14, 14, 14, 14, 14, 14, 15, 15, 15, 15, 15,\n",
      "       15, 15, 15, 15, 15, 15, 15, 15, 15, 15, 15, 15, 15, 15, 15, 15, 15,\n",
      "       15, 15, 15, 15, 15, 15, 15, 15, 15, 15, 15, 16, 16, 16, 17, 17, 17,\n",
      "       17, 17, 17, 17, 17, 18, 18, 18, 18, 18, 18, 18, 18, 18, 18, 18, 18,\n",
      "       19, 19, 19, 19, 19, 19, 19, 19, 19, 19, 19, 20, 20, 20, 20, 20, 20,\n",
      "       20, 20, 20, 20, 20, 20, 20, 20, 20, 20, 20, 20, 20, 20, 21, 21, 21,\n",
      "       21, 21, 21, 21, 21, 21, 21, 21, 21, 22, 22, 22, 22, 22, 22, 22, 22,\n",
      "       23, 23, 23, 23, 23, 23, 23, 23, 23, 23, 23, 23, 23, 23, 23, 23, 23,\n",
      "       23, 23, 23, 23, 23, 23, 23, 23, 23, 24, 24, 24, 24, 24, 24, 24, 24,\n",
      "       24, 24, 24, 24, 24, 24, 25, 25, 25, 25, 25, 25, 25, 25, 25, 25, 25,\n",
      "       25, 25, 25, 25, 25, 25, 25, 25, 26, 26, 26, 26, 27, 27, 27, 27, 27,\n",
      "       27, 27, 27, 27, 27, 27, 27, 27, 27, 27, 27, 27, 27, 27, 27, 27, 27,\n",
      "       27, 27, 27, 27, 27, 27, 27, 27, 27, 28, 28, 28, 28, 28, 28, 28, 28,\n",
      "       28, 28, 28, 28, 28, 28, 28, 28, 29, 29, 29, 29, 29, 29, 30, 30, 30,\n",
      "       30, 30, 30, 30, 30, 30, 30, 30, 30, 30, 30, 30, 30, 30, 31, 31, 31,\n",
      "       31, 31, 31, 31, 31, 31, 31, 32, 32, 32, 32, 32, 32, 32, 32, 32, 32,\n",
      "       32, 32, 32, 32, 32, 32, 32, 32, 32, 32, 32, 32, 33, 33, 33, 33, 33,\n",
      "       33, 33, 33, 33, 33, 33, 33, 33, 33, 33, 33, 34, 34, 34, 34, 34, 34,\n",
      "       34, 34, 35, 35, 35, 35, 35, 35, 35, 35, 35, 35, 35, 35, 35, 35, 35,\n",
      "       35, 35, 36, 36, 36, 36, 36, 36, 36, 36, 37, 37, 37, 37, 37, 37, 38,\n",
      "       38, 38, 38, 38, 38, 38, 38, 38, 38, 38, 38, 38, 38, 38, 38, 38, 38,\n",
      "       38, 38, 38, 39, 39, 39, 39, 39, 39, 39, 39, 39, 39, 39, 39, 39, 39,\n",
      "       39, 39, 39, 39, 39, 39, 39, 39, 40, 40, 40, 40, 40, 40, 40, 40, 40,\n",
      "       40, 40, 40, 40, 40, 40, 40, 41, 41, 41, 41, 41, 41, 41, 41, 41, 41,\n",
      "       41, 41, 41, 41, 41, 41, 41, 41, 41, 42, 42, 42, 42, 42, 42, 42, 42,\n",
      "       42, 42, 42, 42, 42, 42, 42, 43, 43, 43, 43, 43, 43, 43, 43, 43, 44,\n",
      "       44, 44, 44, 45, 45, 45, 45, 45, 45, 45, 45, 45, 45, 45, 45, 45, 45,\n",
      "       46, 46, 46, 46, 46, 46, 46, 46, 46, 46, 46, 46, 47, 47, 47, 47, 47,\n",
      "       47, 47, 47, 47, 47, 47, 47, 47, 47, 47, 47, 48, 48, 48, 48, 48, 48,\n",
      "       48, 48, 48, 48, 48, 48, 48, 48, 48, 48, 48, 49, 49, 49, 49, 49, 49,\n",
      "       49, 50, 50, 50, 50, 50, 50, 50, 50, 50, 50, 50, 50, 50, 50, 50, 50,\n",
      "       50, 50, 51, 51, 51, 51, 51, 51, 51, 51, 51, 51, 51, 51, 51, 51, 51,\n",
      "       51, 51, 51, 51, 51, 51, 52, 52, 52, 52, 52, 52, 53, 53, 53, 53, 53,\n",
      "       53, 53, 54, 54, 54, 54, 54, 55, 55, 55, 55]), (185, 115, 96, 81, 103, 208, 71, 108, 89, 35, 1, 146, 135, 25, 141, 2, 173, 9, 14, 70, 115, 4, 72, 68, 60, 36, 24, 61, 77, 20, 60, 52), (208, 174, 221, 201, 166, 212, 84, 153, 182, 46, 46, 171, 165, 146, 214, 129, 222, 25, 28, 182, 188, 204, 144, 175, 215, 154, 124, 119, 220, 108, 114, 102))\n",
      "model.call\n",
      "inputs:[[5 0 4 ... 2 0 1]\n",
      " [5 0 4 ... 2 0 1]\n",
      " [5 0 4 ... 2 0 1]\n",
      " ...\n",
      " [5 0 4 ... 2 0 0]\n",
      " [5 0 2 ... 0 0 0]\n",
      " [6 0 1 ... 0 0 0]]\n",
      "tf.Tensor(\n",
      "[[-3.0938969 ]\n",
      " [-0.4921819 ]\n",
      " [ 0.57149255]\n",
      " [-1.2642572 ]\n",
      " [-0.23357761]\n",
      " [ 2.5258417 ]\n",
      " [ 0.33626205]\n",
      " [-2.380381  ]\n",
      " [ 0.38387823]\n",
      " [-1.1272395 ]\n",
      " [-0.77100337]\n",
      " [-0.5517623 ]\n",
      " [-1.9012003 ]\n",
      " [ 0.42876738]\n",
      " [ 2.4101841 ]\n",
      " [-0.8584461 ]\n",
      " [ 0.1405406 ]\n",
      " [-0.7352647 ]\n",
      " [-0.256118  ]\n",
      " [ 1.052863  ]\n",
      " [ 0.67504764]\n",
      " [-2.7848792 ]\n",
      " [ 0.48025393]\n",
      " [-0.5819279 ]\n",
      " [-0.5065217 ]\n",
      " [-2.5047016 ]\n",
      " [-3.0848596 ]\n",
      " [-0.6511603 ]\n",
      " [-1.5805228 ]\n",
      " [ 0.60360473]\n",
      " [-0.58216166]\n",
      " [-0.5095062 ]], shape=(32, 1), dtype=float32)\n"
     ]
    },
    {
     "ename": "AttributeError",
     "evalue": "'tuple' object has no attribute 'rank'",
     "output_type": "error",
     "traceback": [
      "\u001b[0;31m---------------------------------------------------------------------------\u001b[0m",
      "\u001b[0;31mAttributeError\u001b[0m                            Traceback (most recent call last)",
      "\u001b[0;32m<ipython-input-72-9282f5dc5117>\u001b[0m in \u001b[0;36m<module>\u001b[0;34m\u001b[0m\n\u001b[1;32m      1\u001b[0m \u001b[0;31m# Fit model\u001b[0m\u001b[0;34m\u001b[0m\u001b[0;34m\u001b[0m\u001b[0;34m\u001b[0m\u001b[0m\n\u001b[0;32m----> 2\u001b[0;31m \u001b[0mmodel\u001b[0m\u001b[0;34m.\u001b[0m\u001b[0mfit\u001b[0m\u001b[0;34m(\u001b[0m\u001b[0mdata_loader\u001b[0m\u001b[0;34m,\u001b[0m \u001b[0mepochs\u001b[0m\u001b[0;34m=\u001b[0m\u001b[0;36m1\u001b[0m\u001b[0;34m,\u001b[0m \u001b[0mverbose\u001b[0m\u001b[0;34m=\u001b[0m\u001b[0;36m2\u001b[0m\u001b[0;34m)\u001b[0m\u001b[0;34m\u001b[0m\u001b[0;34m\u001b[0m\u001b[0m\n\u001b[0m",
      "\u001b[0;32m~/miniconda3/envs/experiment/lib/python3.6/site-packages/keras/engine/training.py\u001b[0m in \u001b[0;36mfit\u001b[0;34m(self, x, y, batch_size, epochs, verbose, callbacks, validation_split, validation_data, shuffle, class_weight, sample_weight, initial_epoch, steps_per_epoch, validation_steps, validation_batch_size, validation_freq, max_queue_size, workers, use_multiprocessing)\u001b[0m\n\u001b[1;32m   1146\u001b[0m           \u001b[0muse_multiprocessing\u001b[0m\u001b[0;34m=\u001b[0m\u001b[0muse_multiprocessing\u001b[0m\u001b[0;34m,\u001b[0m\u001b[0;34m\u001b[0m\u001b[0;34m\u001b[0m\u001b[0m\n\u001b[1;32m   1147\u001b[0m           \u001b[0mmodel\u001b[0m\u001b[0;34m=\u001b[0m\u001b[0mself\u001b[0m\u001b[0;34m,\u001b[0m\u001b[0;34m\u001b[0m\u001b[0;34m\u001b[0m\u001b[0m\n\u001b[0;32m-> 1148\u001b[0;31m           steps_per_execution=self._steps_per_execution)\n\u001b[0m\u001b[1;32m   1149\u001b[0m \u001b[0;34m\u001b[0m\u001b[0m\n\u001b[1;32m   1150\u001b[0m       \u001b[0;31m# Container that configures and calls `tf.keras.Callback`s.\u001b[0m\u001b[0;34m\u001b[0m\u001b[0;34m\u001b[0m\u001b[0;34m\u001b[0m\u001b[0m\n",
      "\u001b[0;32m~/miniconda3/envs/experiment/lib/python3.6/site-packages/keras/engine/data_adapter.py\u001b[0m in \u001b[0;36mget_data_handler\u001b[0;34m(*args, **kwargs)\u001b[0m\n\u001b[1;32m   1381\u001b[0m   \u001b[0;32mif\u001b[0m \u001b[0mgetattr\u001b[0m\u001b[0;34m(\u001b[0m\u001b[0mkwargs\u001b[0m\u001b[0;34m[\u001b[0m\u001b[0;34m\"model\"\u001b[0m\u001b[0;34m]\u001b[0m\u001b[0;34m,\u001b[0m \u001b[0;34m\"_cluster_coordinator\"\u001b[0m\u001b[0;34m,\u001b[0m \u001b[0;32mNone\u001b[0m\u001b[0;34m)\u001b[0m\u001b[0;34m:\u001b[0m\u001b[0;34m\u001b[0m\u001b[0;34m\u001b[0m\u001b[0m\n\u001b[1;32m   1382\u001b[0m     \u001b[0;32mreturn\u001b[0m \u001b[0m_ClusterCoordinatorDataHandler\u001b[0m\u001b[0;34m(\u001b[0m\u001b[0;34m*\u001b[0m\u001b[0margs\u001b[0m\u001b[0;34m,\u001b[0m \u001b[0;34m**\u001b[0m\u001b[0mkwargs\u001b[0m\u001b[0;34m)\u001b[0m\u001b[0;34m\u001b[0m\u001b[0;34m\u001b[0m\u001b[0m\n\u001b[0;32m-> 1383\u001b[0;31m   \u001b[0;32mreturn\u001b[0m \u001b[0mDataHandler\u001b[0m\u001b[0;34m(\u001b[0m\u001b[0;34m*\u001b[0m\u001b[0margs\u001b[0m\u001b[0;34m,\u001b[0m \u001b[0;34m**\u001b[0m\u001b[0mkwargs\u001b[0m\u001b[0;34m)\u001b[0m\u001b[0;34m\u001b[0m\u001b[0;34m\u001b[0m\u001b[0m\n\u001b[0m\u001b[1;32m   1384\u001b[0m \u001b[0;34m\u001b[0m\u001b[0m\n\u001b[1;32m   1385\u001b[0m \u001b[0;34m\u001b[0m\u001b[0m\n",
      "\u001b[0;32m~/miniconda3/envs/experiment/lib/python3.6/site-packages/keras/engine/data_adapter.py\u001b[0m in \u001b[0;36m__init__\u001b[0;34m(self, x, y, sample_weight, batch_size, steps_per_epoch, initial_epoch, epochs, shuffle, class_weight, max_queue_size, workers, use_multiprocessing, model, steps_per_execution, distribute)\u001b[0m\n\u001b[1;32m   1148\u001b[0m         \u001b[0muse_multiprocessing\u001b[0m\u001b[0;34m=\u001b[0m\u001b[0muse_multiprocessing\u001b[0m\u001b[0;34m,\u001b[0m\u001b[0;34m\u001b[0m\u001b[0;34m\u001b[0m\u001b[0m\n\u001b[1;32m   1149\u001b[0m         \u001b[0mdistribution_strategy\u001b[0m\u001b[0;34m=\u001b[0m\u001b[0mtf\u001b[0m\u001b[0;34m.\u001b[0m\u001b[0mdistribute\u001b[0m\u001b[0;34m.\u001b[0m\u001b[0mget_strategy\u001b[0m\u001b[0;34m(\u001b[0m\u001b[0;34m)\u001b[0m\u001b[0;34m,\u001b[0m\u001b[0;34m\u001b[0m\u001b[0;34m\u001b[0m\u001b[0m\n\u001b[0;32m-> 1150\u001b[0;31m         model=model)\n\u001b[0m\u001b[1;32m   1151\u001b[0m \u001b[0;34m\u001b[0m\u001b[0m\n\u001b[1;32m   1152\u001b[0m     \u001b[0mstrategy\u001b[0m \u001b[0;34m=\u001b[0m \u001b[0mtf\u001b[0m\u001b[0;34m.\u001b[0m\u001b[0mdistribute\u001b[0m\u001b[0;34m.\u001b[0m\u001b[0mget_strategy\u001b[0m\u001b[0;34m(\u001b[0m\u001b[0;34m)\u001b[0m\u001b[0;34m\u001b[0m\u001b[0;34m\u001b[0m\u001b[0m\n",
      "\u001b[0;32m~/miniconda3/envs/experiment/lib/python3.6/site-packages/keras/engine/data_adapter.py\u001b[0m in \u001b[0;36m__init__\u001b[0;34m(self, x, y, sample_weights, shuffle, workers, use_multiprocessing, max_queue_size, model, **kwargs)\u001b[0m\n\u001b[1;32m    922\u001b[0m         \u001b[0mmax_queue_size\u001b[0m\u001b[0;34m=\u001b[0m\u001b[0mmax_queue_size\u001b[0m\u001b[0;34m,\u001b[0m\u001b[0;34m\u001b[0m\u001b[0;34m\u001b[0m\u001b[0m\n\u001b[1;32m    923\u001b[0m         \u001b[0mmodel\u001b[0m\u001b[0;34m=\u001b[0m\u001b[0mmodel\u001b[0m\u001b[0;34m,\u001b[0m\u001b[0;34m\u001b[0m\u001b[0;34m\u001b[0m\u001b[0m\n\u001b[0;32m--> 924\u001b[0;31m         **kwargs)\n\u001b[0m\u001b[1;32m    925\u001b[0m \u001b[0;34m\u001b[0m\u001b[0m\n\u001b[1;32m    926\u001b[0m   \u001b[0;34m@\u001b[0m\u001b[0mstaticmethod\u001b[0m\u001b[0;34m\u001b[0m\u001b[0;34m\u001b[0m\u001b[0m\n",
      "\u001b[0;32m~/miniconda3/envs/experiment/lib/python3.6/site-packages/keras/engine/data_adapter.py\u001b[0m in \u001b[0;36m__init__\u001b[0;34m(self, x, y, sample_weights, workers, use_multiprocessing, max_queue_size, model, **kwargs)\u001b[0m\n\u001b[1;32m    811\u001b[0m       \u001b[0;32mreturn\u001b[0m \u001b[0mtf\u001b[0m\u001b[0;34m.\u001b[0m\u001b[0mTensorShape\u001b[0m\u001b[0;34m(\u001b[0m\u001b[0;34m[\u001b[0m\u001b[0;32mNone\u001b[0m \u001b[0;32mfor\u001b[0m \u001b[0m_\u001b[0m \u001b[0;32min\u001b[0m \u001b[0mshape\u001b[0m\u001b[0;34m.\u001b[0m\u001b[0mas_list\u001b[0m\u001b[0;34m(\u001b[0m\u001b[0;34m)\u001b[0m\u001b[0;34m]\u001b[0m\u001b[0;34m)\u001b[0m\u001b[0;34m\u001b[0m\u001b[0;34m\u001b[0m\u001b[0m\n\u001b[1;32m    812\u001b[0m \u001b[0;34m\u001b[0m\u001b[0m\n\u001b[0;32m--> 813\u001b[0;31m     \u001b[0moutput_shapes\u001b[0m \u001b[0;34m=\u001b[0m \u001b[0mtf\u001b[0m\u001b[0;34m.\u001b[0m\u001b[0mnest\u001b[0m\u001b[0;34m.\u001b[0m\u001b[0mmap_structure\u001b[0m\u001b[0;34m(\u001b[0m\u001b[0m_get_dynamic_shape\u001b[0m\u001b[0;34m,\u001b[0m \u001b[0mpeek\u001b[0m\u001b[0;34m)\u001b[0m\u001b[0;34m\u001b[0m\u001b[0;34m\u001b[0m\u001b[0m\n\u001b[0m\u001b[1;32m    814\u001b[0m     \u001b[0moutput_types\u001b[0m \u001b[0;34m=\u001b[0m \u001b[0mtf\u001b[0m\u001b[0;34m.\u001b[0m\u001b[0mnest\u001b[0m\u001b[0;34m.\u001b[0m\u001b[0mmap_structure\u001b[0m\u001b[0;34m(\u001b[0m\u001b[0;32mlambda\u001b[0m \u001b[0mt\u001b[0m\u001b[0;34m:\u001b[0m \u001b[0mt\u001b[0m\u001b[0;34m.\u001b[0m\u001b[0mdtype\u001b[0m\u001b[0;34m,\u001b[0m \u001b[0mpeek\u001b[0m\u001b[0;34m)\u001b[0m\u001b[0;34m\u001b[0m\u001b[0;34m\u001b[0m\u001b[0m\n\u001b[1;32m    815\u001b[0m \u001b[0;34m\u001b[0m\u001b[0m\n",
      "\u001b[0;32m~/miniconda3/envs/experiment/lib/python3.6/site-packages/tensorflow/python/util/nest.py\u001b[0m in \u001b[0;36mmap_structure\u001b[0;34m(func, *structure, **kwargs)\u001b[0m\n\u001b[1;32m    867\u001b[0m \u001b[0;34m\u001b[0m\u001b[0m\n\u001b[1;32m    868\u001b[0m   return pack_sequence_as(\n\u001b[0;32m--> 869\u001b[0;31m       \u001b[0mstructure\u001b[0m\u001b[0;34m[\u001b[0m\u001b[0;36m0\u001b[0m\u001b[0;34m]\u001b[0m\u001b[0;34m,\u001b[0m \u001b[0;34m[\u001b[0m\u001b[0mfunc\u001b[0m\u001b[0;34m(\u001b[0m\u001b[0;34m*\u001b[0m\u001b[0mx\u001b[0m\u001b[0;34m)\u001b[0m \u001b[0;32mfor\u001b[0m \u001b[0mx\u001b[0m \u001b[0;32min\u001b[0m \u001b[0mentries\u001b[0m\u001b[0;34m]\u001b[0m\u001b[0;34m,\u001b[0m\u001b[0;34m\u001b[0m\u001b[0;34m\u001b[0m\u001b[0m\n\u001b[0m\u001b[1;32m    870\u001b[0m       expand_composites=expand_composites)\n\u001b[1;32m    871\u001b[0m \u001b[0;34m\u001b[0m\u001b[0m\n",
      "\u001b[0;32m~/miniconda3/envs/experiment/lib/python3.6/site-packages/tensorflow/python/util/nest.py\u001b[0m in \u001b[0;36m<listcomp>\u001b[0;34m(.0)\u001b[0m\n\u001b[1;32m    867\u001b[0m \u001b[0;34m\u001b[0m\u001b[0m\n\u001b[1;32m    868\u001b[0m   return pack_sequence_as(\n\u001b[0;32m--> 869\u001b[0;31m       \u001b[0mstructure\u001b[0m\u001b[0;34m[\u001b[0m\u001b[0;36m0\u001b[0m\u001b[0;34m]\u001b[0m\u001b[0;34m,\u001b[0m \u001b[0;34m[\u001b[0m\u001b[0mfunc\u001b[0m\u001b[0;34m(\u001b[0m\u001b[0;34m*\u001b[0m\u001b[0mx\u001b[0m\u001b[0;34m)\u001b[0m \u001b[0;32mfor\u001b[0m \u001b[0mx\u001b[0m \u001b[0;32min\u001b[0m \u001b[0mentries\u001b[0m\u001b[0;34m]\u001b[0m\u001b[0;34m,\u001b[0m\u001b[0;34m\u001b[0m\u001b[0;34m\u001b[0m\u001b[0m\n\u001b[0m\u001b[1;32m    870\u001b[0m       expand_composites=expand_composites)\n\u001b[1;32m    871\u001b[0m \u001b[0;34m\u001b[0m\u001b[0m\n",
      "\u001b[0;32m~/miniconda3/envs/experiment/lib/python3.6/site-packages/keras/engine/data_adapter.py\u001b[0m in \u001b[0;36m_get_dynamic_shape\u001b[0;34m(t)\u001b[0m\n\u001b[1;32m    807\u001b[0m       \u001b[0mshape\u001b[0m \u001b[0;34m=\u001b[0m \u001b[0mt\u001b[0m\u001b[0;34m.\u001b[0m\u001b[0mshape\u001b[0m\u001b[0;34m\u001b[0m\u001b[0;34m\u001b[0m\u001b[0m\n\u001b[1;32m    808\u001b[0m       \u001b[0;31m# Unknown number of dimensions, `as_list` cannot be called.\u001b[0m\u001b[0;34m\u001b[0m\u001b[0;34m\u001b[0m\u001b[0;34m\u001b[0m\u001b[0m\n\u001b[0;32m--> 809\u001b[0;31m       \u001b[0;32mif\u001b[0m \u001b[0mshape\u001b[0m\u001b[0;34m.\u001b[0m\u001b[0mrank\u001b[0m \u001b[0;32mis\u001b[0m \u001b[0;32mNone\u001b[0m\u001b[0;34m:\u001b[0m\u001b[0;34m\u001b[0m\u001b[0;34m\u001b[0m\u001b[0m\n\u001b[0m\u001b[1;32m    810\u001b[0m         \u001b[0;32mreturn\u001b[0m \u001b[0mshape\u001b[0m\u001b[0;34m\u001b[0m\u001b[0;34m\u001b[0m\u001b[0m\n\u001b[1;32m    811\u001b[0m       \u001b[0;32mreturn\u001b[0m \u001b[0mtf\u001b[0m\u001b[0;34m.\u001b[0m\u001b[0mTensorShape\u001b[0m\u001b[0;34m(\u001b[0m\u001b[0;34m[\u001b[0m\u001b[0;32mNone\u001b[0m \u001b[0;32mfor\u001b[0m \u001b[0m_\u001b[0m \u001b[0;32min\u001b[0m \u001b[0mshape\u001b[0m\u001b[0;34m.\u001b[0m\u001b[0mas_list\u001b[0m\u001b[0;34m(\u001b[0m\u001b[0;34m)\u001b[0m\u001b[0;34m]\u001b[0m\u001b[0;34m)\u001b[0m\u001b[0;34m\u001b[0m\u001b[0;34m\u001b[0m\u001b[0m\n",
      "\u001b[0;31mAttributeError\u001b[0m: 'tuple' object has no attribute 'rank'"
     ]
    }
   ],
   "source": [
    "# Fit model\n",
    "model.fit(data_loader, epochs=1, verbose=2)"
   ]
  },
  {
   "cell_type": "code",
   "execution_count": null,
   "id": "4ef62475",
   "metadata": {},
   "outputs": [],
   "source": []
  }
 ],
 "metadata": {
  "kernelspec": {
   "display_name": "Python 3",
   "language": "python",
   "name": "python3"
  },
  "language_info": {
   "codemirror_mode": {
    "name": "ipython",
    "version": 3
   },
   "file_extension": ".py",
   "mimetype": "text/x-python",
   "name": "python",
   "nbconvert_exporter": "python",
   "pygments_lexer": "ipython3",
   "version": "3.6.13"
  }
 },
 "nbformat": 4,
 "nbformat_minor": 5
}
