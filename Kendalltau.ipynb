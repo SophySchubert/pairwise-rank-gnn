{
 "cells": [
  {
   "cell_type": "code",
   "execution_count": 1,
   "id": "3d9f5794",
   "metadata": {},
   "outputs": [
    {
     "name": "stderr",
     "output_type": "stream",
     "text": [
      "/Users/sophia.schubert/miniconda3/envs/experiment/lib/python3.6/site-packages/tqdm/auto.py:22: TqdmWarning: IProgress not found. Please update jupyter and ipywidgets. See https://ipywidgets.readthedocs.io/en/stable/user_install.html\n",
      "  from .autonotebook import tqdm as notebook_tqdm\n"
     ]
    }
   ],
   "source": [
    "import numpy as np\n",
    "from ogb.graphproppred import GraphPropPredDataset\n",
    "from spektral.datasets import TUDataset, QM9\n",
    "from spektral.data import Dataset, Graph"
   ]
  },
  {
   "cell_type": "code",
   "execution_count": 2,
   "id": "68ec3f51",
   "metadata": {},
   "outputs": [],
   "source": [
    "class OGBDataset(Dataset):\n",
    "    '''\n",
    "    (spektral) Dataset class wrapper for Open Graph Benchmark datasets.\n",
    "    '''\n",
    "    def __init__(self, name, **kwargs):\n",
    "        self.name = name\n",
    "        super().__init__(**kwargs)\n",
    "\n",
    "    def read(self):\n",
    "        dataset = GraphPropPredDataset(name=self.name)\n",
    "        graphs = []\n",
    "        for data in dataset:\n",
    "            edge_index = data[0]['edge_index']\n",
    "            edge_feat = data[0]['edge_feat']\n",
    "            node_feat = data[0]['node_feat']\n",
    "            label = data[1]\n",
    "\n",
    "            # Create adjacency matrix\n",
    "            num_nodes = node_feat.shape[0]\n",
    "            adj = np.zeros((num_nodes, num_nodes))\n",
    "            for edge in edge_index.T:\n",
    "                adj[edge[0], edge[1]] = 1\n",
    "\n",
    "            # Create spektral Graph object\n",
    "            graphs.append(Graph(x=node_feat, a=adj, e=edge_feat, y=label))\n",
    "            \n",
    "        self.size = len(graphs)\n",
    "\n",
    "        return graphs\n",
    "\n",
    "def ogb_available_datasets():\n",
    "    #These regression datasets have size % 2 == 0 number of graphs\n",
    "    return ['ogbg-molesol', 'ogbg-molfreesolv', 'ogbg-mollipo']"
   ]
  },
  {
   "cell_type": "code",
   "execution_count": 3,
   "id": "8abc5580",
   "metadata": {},
   "outputs": [],
   "source": [
    "def _load_data(config):\n",
    "    '''\n",
    "    Loads a dataset from [TUDataset, OGB]\n",
    "    '''\n",
    "    name = config['dataset']\n",
    "    # if name == 'QM9':\n",
    "    #     dataset = QM9(amount=10)# 1000 and 100000 ok\n",
    "    if name in TUDataset.available_datasets():\n",
    "        dataset = TUDataset(name)\n",
    "        config['x_shape1'] = 28\n",
    "    elif name in ogb_available_datasets():\n",
    "        dataset= OGBDataset(name)\n",
    "        config['x_shape1'] = 9\n",
    "    else:\n",
    "        raise ValueError(f'Dataset {name} unknown')\n",
    "\n",
    "    return dataset, dataset.n_labels"
   ]
  },
  {
   "cell_type": "code",
   "execution_count": 4,
   "id": "3b10f9e7",
   "metadata": {},
   "outputs": [],
   "source": [
    "def _split_data(data, train_test_split, seed):\n",
    "    '''\n",
    "    Split the data into train and test sets\n",
    "    '''\n",
    "    np.random.seed(seed)\n",
    "    idxs = np.random.permutation(len(data))\n",
    "    split = int(train_test_split * len(data))\n",
    "    idx_train, idx_test = np.split(idxs, [split])\n",
    "    train, test = data[idx_train], data[idx_test]\n",
    "    train.size = len(train)\n",
    "    test.size = len(test)\n",
    "    return train, test"
   ]
  },
  {
   "cell_type": "code",
   "execution_count": 5,
   "id": "383cd7bf",
   "metadata": {},
   "outputs": [],
   "source": [
    "def _rankData(data):\n",
    "    indexed_graphs= list(enumerate(data))\n",
    "\n",
    "    sorted_indexed_graphs = sorted(indexed_graphs, key=lambda x: x[1].y)\n",
    "\n",
    "    sorted_graphs = [g for index, g in sorted_indexed_graphs]\n",
    "    original_indices = [index for index, g in sorted_indexed_graphs]\n",
    "\n",
    "    return zip(sorted_graphs, original_indices)"
   ]
  },
  {
   "cell_type": "code",
   "execution_count": 6,
   "id": "006420ea",
   "metadata": {},
   "outputs": [],
   "source": [
    "def get_data(config):\n",
    "    seed = config['seed']\n",
    "    train_test_split = config['train_test_split']\n",
    "\n",
    "    # Load data\n",
    "    data, config['n_out'] = _load_data(config)\n",
    "    #ground_truth_ranking = _rankData(data)\n",
    "    # Split data\n",
    "    train_data, test_data = _split_data(data, train_test_split, seed)\n",
    "\n",
    "    return train_data, test_data, _rankData(train_data), _rankData(test_data)"
   ]
  },
  {
   "cell_type": "code",
   "execution_count": 7,
   "id": "f9fd0429",
   "metadata": {},
   "outputs": [],
   "source": [
    "config = {\n",
    "    'seed': 1,\n",
    "    'epochs': 10,\n",
    "    'batch_size': 32,\n",
    "    'learning_rate': 0.001,\n",
    "    'dataset': 'ogbg-molesol', #JA: QM9, ogbg-molesol, ogbg-molfreesolv, ogbg-mollipo, ZINC_full| NEIN: aspirin\n",
    "    'train_test_split': 0.8\n",
    "}\n",
    "dataset_train, dataset_test, r_train, r_test = get_data(config)"
   ]
  },
  {
   "cell_type": "code",
   "execution_count": 8,
   "id": "0dbf070d",
   "metadata": {},
   "outputs": [
    {
     "data": {
      "text/plain": [
       "OGBDataset(n_graphs=902)"
      ]
     },
     "execution_count": 8,
     "metadata": {},
     "output_type": "execute_result"
    }
   ],
   "source": [
    "dataset_train"
   ]
  },
  {
   "cell_type": "code",
   "execution_count": 9,
   "id": "cbf2c7e4",
   "metadata": {},
   "outputs": [],
   "source": [
    "ys = [x[0].y for x in r_test]"
   ]
  },
  {
   "cell_type": "code",
   "execution_count": 10,
   "id": "2b9671de",
   "metadata": {},
   "outputs": [
    {
     "data": {
      "text/plain": [
       "[array([-8.71]),\n",
       " array([-8.49]),\n",
       " array([-8.4]),\n",
       " array([-7.92]),\n",
       " array([-7.85]),\n",
       " array([-7.68]),\n",
       " array([-7.43]),\n",
       " array([-7.21]),\n",
       " array([-7.2]),\n",
       " array([-7.15]),\n",
       " array([-7.]),\n",
       " array([-6.9]),\n",
       " array([-6.876]),\n",
       " array([-6.86]),\n",
       " array([-6.8]),\n",
       " array([-6.726]),\n",
       " array([-6.57]),\n",
       " array([-6.49]),\n",
       " array([-6.291]),\n",
       " array([-6.25]),\n",
       " array([-6.144]),\n",
       " array([-6.124]),\n",
       " array([-6.09]),\n",
       " array([-6.025]),\n",
       " array([-6.01]),\n",
       " array([-5.72]),\n",
       " array([-5.68]),\n",
       " array([-5.64]),\n",
       " array([-5.47]),\n",
       " array([-5.46]),\n",
       " array([-5.382]),\n",
       " array([-5.37]),\n",
       " array([-5.28]),\n",
       " array([-5.26]),\n",
       " array([-5.21]),\n",
       " array([-5.19]),\n",
       " array([-5.184]),\n",
       " array([-5.153]),\n",
       " array([-5.05]),\n",
       " array([-4.9]),\n",
       " array([-4.88]),\n",
       " array([-4.873]),\n",
       " array([-4.871]),\n",
       " array([-4.805]),\n",
       " array([-4.8]),\n",
       " array([-4.799]),\n",
       " array([-4.77]),\n",
       " array([-4.76]),\n",
       " array([-4.735]),\n",
       " array([-4.678]),\n",
       " array([-4.66]),\n",
       " array([-4.63]),\n",
       " array([-4.63]),\n",
       " array([-4.62]),\n",
       " array([-4.594]),\n",
       " array([-4.57]),\n",
       " array([-4.57]),\n",
       " array([-4.53]),\n",
       " array([-4.46]),\n",
       " array([-4.44]),\n",
       " array([-4.43]),\n",
       " array([-4.42]),\n",
       " array([-4.4]),\n",
       " array([-4.4]),\n",
       " array([-4.376]),\n",
       " array([-4.36]),\n",
       " array([-4.3]),\n",
       " array([-4.23]),\n",
       " array([-4.2]),\n",
       " array([-4.19]),\n",
       " array([-4.16]),\n",
       " array([-4.13]),\n",
       " array([-4.06]),\n",
       " array([-4.047]),\n",
       " array([-4.046]),\n",
       " array([-4.]),\n",
       " array([-3.953]),\n",
       " array([-3.952]),\n",
       " array([-3.924]),\n",
       " array([-3.9]),\n",
       " array([-3.88]),\n",
       " array([-3.85]),\n",
       " array([-3.85]),\n",
       " array([-3.85]),\n",
       " array([-3.84]),\n",
       " array([-3.82]),\n",
       " array([-3.81]),\n",
       " array([-3.796]),\n",
       " array([-3.77]),\n",
       " array([-3.73]),\n",
       " array([-3.73]),\n",
       " array([-3.7]),\n",
       " array([-3.65]),\n",
       " array([-3.63]),\n",
       " array([-3.59]),\n",
       " array([-3.571]),\n",
       " array([-3.54]),\n",
       " array([-3.536]),\n",
       " array([-3.5]),\n",
       " array([-3.499]),\n",
       " array([-3.493]),\n",
       " array([-3.46]),\n",
       " array([-3.45]),\n",
       " array([-3.39]),\n",
       " array([-3.38]),\n",
       " array([-3.35]),\n",
       " array([-3.246]),\n",
       " array([-3.24]),\n",
       " array([-3.2]),\n",
       " array([-3.19]),\n",
       " array([-3.18]),\n",
       " array([-3.15]),\n",
       " array([-3.14]),\n",
       " array([-3.12]),\n",
       " array([-3.12]),\n",
       " array([-3.1]),\n",
       " array([-3.091]),\n",
       " array([-3.09]),\n",
       " array([-3.04]),\n",
       " array([-3.03]),\n",
       " array([-3.01]),\n",
       " array([-2.932]),\n",
       " array([-2.92]),\n",
       " array([-2.843]),\n",
       " array([-2.82]),\n",
       " array([-2.8]),\n",
       " array([-2.78]),\n",
       " array([-2.77]),\n",
       " array([-2.74]),\n",
       " array([-2.68]),\n",
       " array([-2.63]),\n",
       " array([-2.59]),\n",
       " array([-2.57]),\n",
       " array([-2.55]),\n",
       " array([-2.54]),\n",
       " array([-2.523]),\n",
       " array([-2.484]),\n",
       " array([-2.42]),\n",
       " array([-2.41]),\n",
       " array([-2.36]),\n",
       " array([-2.35]),\n",
       " array([-2.32]),\n",
       " array([-2.28]),\n",
       " array([-2.23]),\n",
       " array([-2.21]),\n",
       " array([-2.15]),\n",
       " array([-2.11]),\n",
       " array([-2.09]),\n",
       " array([-2.06]),\n",
       " array([-2.03]),\n",
       " array([-2.]),\n",
       " array([-2.]),\n",
       " array([-1.96]),\n",
       " array([-1.93]),\n",
       " array([-1.92]),\n",
       " array([-1.886]),\n",
       " array([-1.81]),\n",
       " array([-1.74]),\n",
       " array([-1.71]),\n",
       " array([-1.6]),\n",
       " array([-1.6]),\n",
       " array([-1.56]),\n",
       " array([-1.488]),\n",
       " array([-1.48]),\n",
       " array([-1.47]),\n",
       " array([-1.46]),\n",
       " array([-1.456]),\n",
       " array([-1.44]),\n",
       " array([-1.41]),\n",
       " array([-1.4]),\n",
       " array([-1.37]),\n",
       " array([-1.36]),\n",
       " array([-1.34]),\n",
       " array([-1.34]),\n",
       " array([-1.34]),\n",
       " array([-1.29]),\n",
       " array([-1.28]),\n",
       " array([-1.26]),\n",
       " array([-1.24]),\n",
       " array([-1.23]),\n",
       " array([-1.228]),\n",
       " array([-1.16]),\n",
       " array([-1.11]),\n",
       " array([-1.1]),\n",
       " array([-1.09]),\n",
       " array([-1.08]),\n",
       " array([-1.077]),\n",
       " array([-1.06]),\n",
       " array([-1.04]),\n",
       " array([-1.03]),\n",
       " array([-0.96]),\n",
       " array([-0.96]),\n",
       " array([-0.85]),\n",
       " array([-0.85]),\n",
       " array([-0.82]),\n",
       " array([-0.8]),\n",
       " array([-0.8]),\n",
       " array([-0.742]),\n",
       " array([-0.74]),\n",
       " array([-0.74]),\n",
       " array([-0.73]),\n",
       " array([-0.72]),\n",
       " array([-0.63]),\n",
       " array([-0.62]),\n",
       " array([-0.62]),\n",
       " array([-0.59]),\n",
       " array([-0.45]),\n",
       " array([-0.4]),\n",
       " array([-0.4]),\n",
       " array([-0.39]),\n",
       " array([-0.29]),\n",
       " array([-0.22]),\n",
       " array([-0.18]),\n",
       " array([-0.17]),\n",
       " array([-0.12]),\n",
       " array([-0.092]),\n",
       " array([-0.04]),\n",
       " array([-0.03]),\n",
       " array([0.]),\n",
       " array([0.]),\n",
       " array([0.32]),\n",
       " array([0.36]),\n",
       " array([0.45]),\n",
       " array([0.85]),\n",
       " array([0.94]),\n",
       " array([1.11])]"
      ]
     },
     "execution_count": 10,
     "metadata": {},
     "output_type": "execute_result"
    }
   ],
   "source": [
    "ys"
   ]
  },
  {
   "cell_type": "code",
   "execution_count": 11,
   "id": "742c66c5",
   "metadata": {},
   "outputs": [],
   "source": [
    "from scipy.stats import kendalltau, spearmanr"
   ]
  },
  {
   "cell_type": "code",
   "execution_count": 12,
   "id": "ec896351",
   "metadata": {},
   "outputs": [],
   "source": [
    "ys2 = np.random.permutation(ys)"
   ]
  },
  {
   "cell_type": "code",
   "execution_count": 13,
   "id": "c298e378",
   "metadata": {},
   "outputs": [
    {
     "data": {
      "text/plain": [
       "(KendalltauResult(correlation=0.007990553040740011, pvalue=0.8582019151934875),\n",
       " SpearmanrResult(correlation=0.012352616146247823, pvalue=0.8534817146408213))"
      ]
     },
     "execution_count": 13,
     "metadata": {},
     "output_type": "execute_result"
    }
   ],
   "source": [
    "res1, res2 = kendalltau(ys, ys2), spearmanr(ys, ys2)\n",
    "res1, res2"
   ]
  },
  {
   "cell_type": "code",
   "execution_count": 14,
   "id": "9625e90b",
   "metadata": {},
   "outputs": [
    {
     "data": {
      "text/plain": [
       "(KendalltauResult(correlation=1.0, pvalue=9.794289544858485e-111),\n",
       " SpearmanrResult(correlation=1.0, pvalue=0.0))"
      ]
     },
     "execution_count": 14,
     "metadata": {},
     "output_type": "execute_result"
    }
   ],
   "source": [
    "res1, res2 = kendalltau(ys, ys), spearmanr(ys, ys)\n",
    "res1, res2"
   ]
  },
  {
   "cell_type": "code",
   "execution_count": 15,
   "id": "8e0267f6",
   "metadata": {},
   "outputs": [
    {
     "data": {
      "text/plain": [
       "(KendalltauResult(correlation=-0.06989898989898992, pvalue=0.30280894319079166),\n",
       " SpearmanrResult(correlation=-0.09453345334533451, pvalue=0.3495066764689899))"
      ]
     },
     "execution_count": 15,
     "metadata": {},
     "output_type": "execute_result"
    }
   ],
   "source": [
    "a = range(0,100)\n",
    "b = np.random.permutation(a)\n",
    "res1, res2 = kendalltau(a,b), spearmanr(a,b)\n",
    "res1, res2"
   ]
  },
  {
   "cell_type": "code",
   "execution_count": 16,
   "id": "b04b2a1a",
   "metadata": {},
   "outputs": [
    {
     "data": {
      "text/plain": [
       "(KendalltauResult(correlation=-0.06666666666666665, pvalue=1.0),\n",
       " SpearmanrResult(correlation=-0.14285714285714288, pvalue=0.7871720116618075))"
      ]
     },
     "execution_count": 16,
     "metadata": {},
     "output_type": "execute_result"
    }
   ],
   "source": [
    "a = [1,2,3,4,5,6]\n",
    "b = ['t','ä','#','H','2','v']\n",
    "res1, res2 = kendalltau(a,b), spearmanr(a,b)\n",
    "res1, res2"
   ]
  },
  {
   "cell_type": "code",
   "execution_count": 17,
   "id": "571caa01",
   "metadata": {},
   "outputs": [
    {
     "data": {
      "text/plain": [
       "(KendalltauResult(correlation=-0.9999999999999999, pvalue=0.002777777777777778),\n",
       " SpearmanrResult(correlation=-1.0, pvalue=0.0))"
      ]
     },
     "execution_count": 17,
     "metadata": {},
     "output_type": "execute_result"
    }
   ],
   "source": [
    "a = [1,2,3,4,5,6]\n",
    "b = [6,5,4,3,2,1]\n",
    "res1, res2 = kendalltau(a,b), spearmanr(a,b)\n",
    "res1, res2"
   ]
  },
  {
   "cell_type": "code",
   "execution_count": null,
   "id": "7b5efde0",
   "metadata": {},
   "outputs": [],
   "source": []
  }
 ],
 "metadata": {
  "kernelspec": {
   "display_name": "Python 3",
   "language": "python",
   "name": "python3"
  },
  "language_info": {
   "codemirror_mode": {
    "name": "ipython",
    "version": 3
   },
   "file_extension": ".py",
   "mimetype": "text/x-python",
   "name": "python",
   "nbconvert_exporter": "python",
   "pygments_lexer": "ipython3",
   "version": "3.6.13"
  }
 },
 "nbformat": 4,
 "nbformat_minor": 5
}
